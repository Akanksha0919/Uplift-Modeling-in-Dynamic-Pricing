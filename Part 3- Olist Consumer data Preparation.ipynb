{
 "cells": [
  {
   "cell_type": "code",
   "execution_count": 1,
   "id": "e99dbe6f",
   "metadata": {},
   "outputs": [],
   "source": [
    "import os\n",
    "import pandas as pd\n",
    "import numpy as np\n",
    "import re\n",
    "from sklearn.metrics import f1_score\n",
    "from imblearn.metrics import geometric_mean_score\n",
    "from scipy.stats import gaussian_kde\n",
    "import scipy.stats as stats\n",
    "from sklearn.linear_model import LogisticRegression # We will use sklearn here as it is required in the next algorithms\n",
    "import statsmodels.api as sm\n",
    "from sklearn.metrics import roc_auc_score\n",
    "from sklearn import metrics\n",
    "from imblearn.under_sampling import EditedNearestNeighbours\n",
    "from imblearn.combine import SMOTEENN\n",
    "#grid search for hyperparameter tuning\n",
    "from sklearn.ensemble import AdaBoostClassifier\n",
    "from sklearn.experimental import enable_halving_search_cv \n",
    "from sklearn.model_selection import HalvingGridSearchCV\n",
    "from sklearn.preprocessing import StandardScaler\n",
    "standardscaler = StandardScaler()\n",
    "# FE und RE model\n",
    "from linearmodels import PanelOLS\n",
    "from linearmodels import RandomEffects\n",
    "from linearmodels import PanelOLS\n",
    "from regtabletotext import prettify_result, prettify_result\n",
    "import matplotlib.pyplot as plt\n",
    "%matplotlib inline "
   ]
  },
  {
   "cell_type": "code",
   "execution_count": 2,
   "id": "a46843be",
   "metadata": {},
   "outputs": [],
   "source": [
    "dataset_list = [\"olist_customers_dataset\",\"olist_geolocation_dataset\",\"olist_order_items_dataset\",\"olist_order_payments_dataset\",\"olist_orders_dataset\",\"olist_products_dataset\",\"product_category_name_translation\",\"optimal_pricing_dp\"]\n",
    "for csv in dataset_list:\n",
    "    locals()[csv] = pd.read_csv(\"C:/Users/akankshasaxena3/Downloads/olist/\"+csv+\".csv\")"
   ]
  },
  {
   "cell_type": "code",
   "execution_count": 3,
   "id": "3ea75cd2",
   "metadata": {},
   "outputs": [
    {
     "name": "stderr",
     "output_type": "stream",
     "text": [
      "C:\\Users\\akankshasaxena3\\AppData\\Local\\Temp\\ipykernel_25296\\2329613644.py:1: DtypeWarning: Columns (8) have mixed types. Specify dtype option on import or set low_memory=False.\n",
      "  pricing_df = pd.read_csv(\"C:/Users/akankshasaxena3/Downloads/olist/post_pre_intervention_df.csv\")\n"
     ]
    }
   ],
   "source": [
    "pricing_df = pd.read_csv(\"C:/Users/akankshasaxena3/Downloads/olist/post_pre_intervention_df.csv\")"
   ]
  },
  {
   "cell_type": "code",
   "execution_count": 4,
   "id": "b48af749",
   "metadata": {},
   "outputs": [
    {
     "data": {
      "text/html": [
       "<div>\n",
       "<style scoped>\n",
       "    .dataframe tbody tr th:only-of-type {\n",
       "        vertical-align: middle;\n",
       "    }\n",
       "\n",
       "    .dataframe tbody tr th {\n",
       "        vertical-align: top;\n",
       "    }\n",
       "\n",
       "    .dataframe thead th {\n",
       "        text-align: right;\n",
       "    }\n",
       "</style>\n",
       "<table border=\"1\" class=\"dataframe\">\n",
       "  <thead>\n",
       "    <tr style=\"text-align: right;\">\n",
       "      <th></th>\n",
       "      <th>order_id</th>\n",
       "      <th>customer_id</th>\n",
       "      <th>order_status</th>\n",
       "      <th>order_purchase_timestamp</th>\n",
       "      <th>order_approved_at</th>\n",
       "      <th>order_delivered_carrier_date</th>\n",
       "      <th>order_delivered_customer_date</th>\n",
       "      <th>order_estimated_delivery_date</th>\n",
       "    </tr>\n",
       "  </thead>\n",
       "  <tbody>\n",
       "    <tr>\n",
       "      <th>0</th>\n",
       "      <td>e481f51cbdc54678b7cc49136f2d6af7</td>\n",
       "      <td>9ef432eb6251297304e76186b10a928d</td>\n",
       "      <td>delivered</td>\n",
       "      <td>2017-10-02 10:56:33</td>\n",
       "      <td>2017-10-02 11:07:15</td>\n",
       "      <td>2017-10-04 19:55:00</td>\n",
       "      <td>2017-10-10 21:25:13</td>\n",
       "      <td>2017-10-18 00:00:00</td>\n",
       "    </tr>\n",
       "    <tr>\n",
       "      <th>1</th>\n",
       "      <td>53cdb2fc8bc7dce0b6741e2150273451</td>\n",
       "      <td>b0830fb4747a6c6d20dea0b8c802d7ef</td>\n",
       "      <td>delivered</td>\n",
       "      <td>2018-07-24 20:41:37</td>\n",
       "      <td>2018-07-26 03:24:27</td>\n",
       "      <td>2018-07-26 14:31:00</td>\n",
       "      <td>2018-08-07 15:27:45</td>\n",
       "      <td>2018-08-13 00:00:00</td>\n",
       "    </tr>\n",
       "    <tr>\n",
       "      <th>2</th>\n",
       "      <td>47770eb9100c2d0c44946d9cf07ec65d</td>\n",
       "      <td>41ce2a54c0b03bf3443c3d931a367089</td>\n",
       "      <td>delivered</td>\n",
       "      <td>2018-08-08 08:38:49</td>\n",
       "      <td>2018-08-08 08:55:23</td>\n",
       "      <td>2018-08-08 13:50:00</td>\n",
       "      <td>2018-08-17 18:06:29</td>\n",
       "      <td>2018-09-04 00:00:00</td>\n",
       "    </tr>\n",
       "    <tr>\n",
       "      <th>3</th>\n",
       "      <td>949d5b44dbf5de918fe9c16f97b45f8a</td>\n",
       "      <td>f88197465ea7920adcdbec7375364d82</td>\n",
       "      <td>delivered</td>\n",
       "      <td>2017-11-18 19:28:06</td>\n",
       "      <td>2017-11-18 19:45:59</td>\n",
       "      <td>2017-11-22 13:39:59</td>\n",
       "      <td>2017-12-02 00:28:42</td>\n",
       "      <td>2017-12-15 00:00:00</td>\n",
       "    </tr>\n",
       "    <tr>\n",
       "      <th>4</th>\n",
       "      <td>ad21c59c0840e6cb83a9ceb5573f8159</td>\n",
       "      <td>8ab97904e6daea8866dbdbc4fb7aad2c</td>\n",
       "      <td>delivered</td>\n",
       "      <td>2018-02-13 21:18:39</td>\n",
       "      <td>2018-02-13 22:20:29</td>\n",
       "      <td>2018-02-14 19:46:34</td>\n",
       "      <td>2018-02-16 18:17:02</td>\n",
       "      <td>2018-02-26 00:00:00</td>\n",
       "    </tr>\n",
       "  </tbody>\n",
       "</table>\n",
       "</div>"
      ],
      "text/plain": [
       "                           order_id                       customer_id  \\\n",
       "0  e481f51cbdc54678b7cc49136f2d6af7  9ef432eb6251297304e76186b10a928d   \n",
       "1  53cdb2fc8bc7dce0b6741e2150273451  b0830fb4747a6c6d20dea0b8c802d7ef   \n",
       "2  47770eb9100c2d0c44946d9cf07ec65d  41ce2a54c0b03bf3443c3d931a367089   \n",
       "3  949d5b44dbf5de918fe9c16f97b45f8a  f88197465ea7920adcdbec7375364d82   \n",
       "4  ad21c59c0840e6cb83a9ceb5573f8159  8ab97904e6daea8866dbdbc4fb7aad2c   \n",
       "\n",
       "  order_status order_purchase_timestamp    order_approved_at  \\\n",
       "0    delivered      2017-10-02 10:56:33  2017-10-02 11:07:15   \n",
       "1    delivered      2018-07-24 20:41:37  2018-07-26 03:24:27   \n",
       "2    delivered      2018-08-08 08:38:49  2018-08-08 08:55:23   \n",
       "3    delivered      2017-11-18 19:28:06  2017-11-18 19:45:59   \n",
       "4    delivered      2018-02-13 21:18:39  2018-02-13 22:20:29   \n",
       "\n",
       "  order_delivered_carrier_date order_delivered_customer_date  \\\n",
       "0          2017-10-04 19:55:00           2017-10-10 21:25:13   \n",
       "1          2018-07-26 14:31:00           2018-08-07 15:27:45   \n",
       "2          2018-08-08 13:50:00           2018-08-17 18:06:29   \n",
       "3          2017-11-22 13:39:59           2017-12-02 00:28:42   \n",
       "4          2018-02-14 19:46:34           2018-02-16 18:17:02   \n",
       "\n",
       "  order_estimated_delivery_date  \n",
       "0           2017-10-18 00:00:00  \n",
       "1           2018-08-13 00:00:00  \n",
       "2           2018-09-04 00:00:00  \n",
       "3           2017-12-15 00:00:00  \n",
       "4           2018-02-26 00:00:00  "
      ]
     },
     "execution_count": 4,
     "metadata": {},
     "output_type": "execute_result"
    }
   ],
   "source": [
    "olist_orders_dataset.head()"
   ]
  },
  {
   "cell_type": "code",
   "execution_count": 5,
   "id": "dbd7af03",
   "metadata": {},
   "outputs": [],
   "source": [
    "olist_orders_dataset['order_purchase_timestamp'] = pd.to_datetime(olist_orders_dataset['order_purchase_timestamp']).dt.normalize()\n"
   ]
  },
  {
   "cell_type": "code",
   "execution_count": 6,
   "id": "cd5905bc",
   "metadata": {},
   "outputs": [
    {
     "name": "stdout",
     "output_type": "stream",
     "text": [
      "<class 'pandas.core.frame.DataFrame'>\n",
      "RangeIndex: 112650 entries, 0 to 112649\n",
      "Data columns (total 7 columns):\n",
      " #   Column               Non-Null Count   Dtype  \n",
      "---  ------               --------------   -----  \n",
      " 0   order_id             112650 non-null  object \n",
      " 1   order_item_id        112650 non-null  int64  \n",
      " 2   product_id           112650 non-null  object \n",
      " 3   seller_id            112650 non-null  object \n",
      " 4   shipping_limit_date  112650 non-null  object \n",
      " 5   price                112650 non-null  float64\n",
      " 6   freight_value        112650 non-null  float64\n",
      "dtypes: float64(2), int64(1), object(4)\n",
      "memory usage: 6.0+ MB\n"
     ]
    }
   ],
   "source": [
    "olist_order_items_dataset.info()"
   ]
  },
  {
   "cell_type": "code",
   "execution_count": 7,
   "id": "d4dee251",
   "metadata": {},
   "outputs": [
    {
     "name": "stdout",
     "output_type": "stream",
     "text": [
      "<class 'pandas.core.frame.DataFrame'>\n",
      "RangeIndex: 99441 entries, 0 to 99440\n",
      "Data columns (total 5 columns):\n",
      " #   Column                    Non-Null Count  Dtype \n",
      "---  ------                    --------------  ----- \n",
      " 0   customer_id               99441 non-null  object\n",
      " 1   customer_unique_id        99441 non-null  object\n",
      " 2   customer_zip_code_prefix  99441 non-null  int64 \n",
      " 3   customer_city             99441 non-null  object\n",
      " 4   customer_state            99441 non-null  object\n",
      "dtypes: int64(1), object(4)\n",
      "memory usage: 3.8+ MB\n"
     ]
    }
   ],
   "source": [
    "olist_customers_dataset.info()"
   ]
  },
  {
   "cell_type": "markdown",
   "id": "f3cb03f6",
   "metadata": {},
   "source": [
    "## Pre-processing of SIDRA demographic dataset"
   ]
  },
  {
   "cell_type": "code",
   "execution_count": 8,
   "id": "717e8ff6",
   "metadata": {},
   "outputs": [],
   "source": [
    "demographic_dataset = [\"sex_ratio\",\"median_age\",\"aging_index\"]\n",
    "for xlsx in demographic_dataset:\n",
    "    locals()[xlsx] = pd.DataFrame(pd.read_excel(\"C:/Users/akankshasaxena3/Downloads/olist/\"+xlsx+\".xlsx\")) \n"
   ]
  },
  {
   "cell_type": "markdown",
   "id": "8cac59fa",
   "metadata": {},
   "source": [
    "The dataset for estimating consumer purchase probability from Olist (Olist & Sionek) contains only demographic location as consumer information, which is not sufficient to capture the purchase probability of consumer at a given price. Hence, for other demographic information on consumer I use the data from  SIDRA which is an acronym to \"Sistema IBGE de Recuperação Automática\" and it is the system where IBGE makes aggregate data from their researches available. I have used three demographic characteristics from SIDRA:\n",
    "1. median age\n",
    "2. sex ratio\n",
    "3. aging index"
   ]
  },
  {
   "cell_type": "code",
   "execution_count": 9,
   "id": "0db58e33",
   "metadata": {},
   "outputs": [
    {
     "data": {
      "text/html": [
       "<div>\n",
       "<style scoped>\n",
       "    .dataframe tbody tr th:only-of-type {\n",
       "        vertical-align: middle;\n",
       "    }\n",
       "\n",
       "    .dataframe tbody tr th {\n",
       "        vertical-align: top;\n",
       "    }\n",
       "\n",
       "    .dataframe thead th {\n",
       "        text-align: right;\n",
       "    }\n",
       "</style>\n",
       "<table border=\"1\" class=\"dataframe\">\n",
       "  <thead>\n",
       "    <tr style=\"text-align: right;\">\n",
       "      <th></th>\n",
       "      <th>Nível</th>\n",
       "      <th>Cód.</th>\n",
       "      <th>cities</th>\n",
       "      <th>aging index</th>\n",
       "    </tr>\n",
       "  </thead>\n",
       "  <tbody>\n",
       "    <tr>\n",
       "      <th>0</th>\n",
       "      <td>BR</td>\n",
       "      <td>1.0</td>\n",
       "      <td>Brasil</td>\n",
       "      <td>55.24</td>\n",
       "    </tr>\n",
       "    <tr>\n",
       "      <th>1</th>\n",
       "      <td>GR</td>\n",
       "      <td>1.0</td>\n",
       "      <td>Norte</td>\n",
       "      <td>27.60</td>\n",
       "    </tr>\n",
       "    <tr>\n",
       "      <th>2</th>\n",
       "      <td>GR</td>\n",
       "      <td>2.0</td>\n",
       "      <td>Nordeste</td>\n",
       "      <td>47.89</td>\n",
       "    </tr>\n",
       "    <tr>\n",
       "      <th>3</th>\n",
       "      <td>GR</td>\n",
       "      <td>3.0</td>\n",
       "      <td>Sudeste</td>\n",
       "      <td>67.81</td>\n",
       "    </tr>\n",
       "    <tr>\n",
       "      <th>4</th>\n",
       "      <td>GR</td>\n",
       "      <td>4.0</td>\n",
       "      <td>Sul</td>\n",
       "      <td>65.61</td>\n",
       "    </tr>\n",
       "  </tbody>\n",
       "</table>\n",
       "</div>"
      ],
      "text/plain": [
       "  Nível  Cód.    cities  aging index\n",
       "0    BR   1.0    Brasil        55.24\n",
       "1    GR   1.0     Norte        27.60\n",
       "2    GR   2.0  Nordeste        47.89\n",
       "3    GR   3.0   Sudeste        67.81\n",
       "4    GR   4.0       Sul        65.61"
      ]
     },
     "execution_count": 9,
     "metadata": {},
     "output_type": "execute_result"
    }
   ],
   "source": [
    "aging_index.head()"
   ]
  },
  {
   "cell_type": "code",
   "execution_count": 10,
   "id": "6f7d96bd",
   "metadata": {},
   "outputs": [
    {
     "name": "stdout",
     "output_type": "stream",
     "text": [
      "Aging index dataset---------------------------------------------->>>>>\n",
      "# of unique values for Cód.=6245\n",
      "# of unique values for Nivel=8\n",
      "# of unique values for cities=6236\n",
      "number of records in dataset =6432\n",
      "median age dataset---------------------------------------------->>>>>\n",
      "# of unique values for Cód.=6245\n",
      "# of unique values for Nivel=8\n",
      "# of unique values for cities=6236\n",
      "number of records in dataset =6432\n",
      "sex ratio dataset---------------------------------------------->>>>>\n",
      "# of unique values for Cód.=6245\n",
      "# of unique values for Nivel=8\n",
      "# of unique values for cities=6236\n",
      "number of records in dataset =6432\n"
     ]
    }
   ],
   "source": [
    "print('Aging index dataset---------------------------------------------->>>>>')\n",
    "print('# of unique values for Cód.='+str(aging_index['Cód.'].nunique()))\n",
    "print('# of unique values for Nivel='+str(aging_index['Nível'].nunique()))\n",
    "print('# of unique values for cities='+str(aging_index['cities'].nunique()))\n",
    "print('number of records in dataset ='+ str(aging_index.shape[0]))\n",
    "\n",
    "print('median age dataset---------------------------------------------->>>>>')\n",
    "print('# of unique values for Cód.='+str(median_age['Cód.'].nunique()))\n",
    "print('# of unique values for Nivel='+str(median_age['Nível'].nunique()))\n",
    "print('# of unique values for cities='+str(median_age['cities'].nunique()))\n",
    "print('number of records in dataset ='+ str(median_age.shape[0]))\n",
    "\n",
    "print('sex ratio dataset---------------------------------------------->>>>>')\n",
    "print('# of unique values for Cód.='+str(sex_ratio['Cód.'].nunique()))\n",
    "print('# of unique values for Nivel='+str(sex_ratio['Nível'].nunique()))\n",
    "print('# of unique values for cities='+str(sex_ratio['cities'].nunique()))\n",
    "print('number of records in dataset ='+ str(sex_ratio.shape[0]))\n"
   ]
  },
  {
   "cell_type": "code",
   "execution_count": 11,
   "id": "8865e129",
   "metadata": {},
   "outputs": [
    {
     "data": {
      "text/plain": [
       "(array(['BR', 'GR', 'UF', 'MU', 'IN', 'IM', 'CU',\n",
       "        'Fonte: IBGE - Censo Demográfico'], dtype=object),\n",
       " array(['BR', 'GR', 'UF', 'MU', 'IN', 'IM', 'CU',\n",
       "        'Fonte: IBGE - Censo Demográfico'], dtype=object),\n",
       " array(['BR', 'GR', 'UF', 'MU', 'IN', 'IM', 'CU',\n",
       "        'Fonte: IBGE - Censo Demográfico'], dtype=object))"
      ]
     },
     "execution_count": 11,
     "metadata": {},
     "output_type": "execute_result"
    }
   ],
   "source": [
    "aging_index['Nível'].unique(),median_age['Nível'].unique(),sex_ratio['Nível'].unique()"
   ]
  },
  {
   "cell_type": "code",
   "execution_count": 12,
   "id": "8d63c974",
   "metadata": {},
   "outputs": [
    {
     "data": {
      "text/html": [
       "<div>\n",
       "<style scoped>\n",
       "    .dataframe tbody tr th:only-of-type {\n",
       "        vertical-align: middle;\n",
       "    }\n",
       "\n",
       "    .dataframe tbody tr th {\n",
       "        vertical-align: top;\n",
       "    }\n",
       "\n",
       "    .dataframe thead th {\n",
       "        text-align: right;\n",
       "    }\n",
       "</style>\n",
       "<table border=\"1\" class=\"dataframe\">\n",
       "  <thead>\n",
       "    <tr style=\"text-align: right;\">\n",
       "      <th></th>\n",
       "      <th>Cód.</th>\n",
       "      <th>Median age</th>\n",
       "    </tr>\n",
       "  </thead>\n",
       "  <tbody>\n",
       "    <tr>\n",
       "      <th>count</th>\n",
       "      <td>6.431000e+03</td>\n",
       "      <td>6431.000000</td>\n",
       "    </tr>\n",
       "    <tr>\n",
       "      <th>mean</th>\n",
       "      <td>2.939003e+06</td>\n",
       "      <td>35.241487</td>\n",
       "    </tr>\n",
       "    <tr>\n",
       "      <th>std</th>\n",
       "      <td>1.312919e+06</td>\n",
       "      <td>4.420474</td>\n",
       "    </tr>\n",
       "    <tr>\n",
       "      <th>min</th>\n",
       "      <td>1.000000e+00</td>\n",
       "      <td>15.000000</td>\n",
       "    </tr>\n",
       "    <tr>\n",
       "      <th>25%</th>\n",
       "      <td>2.301356e+06</td>\n",
       "      <td>33.000000</td>\n",
       "    </tr>\n",
       "    <tr>\n",
       "      <th>50%</th>\n",
       "      <td>3.121407e+06</td>\n",
       "      <td>35.000000</td>\n",
       "    </tr>\n",
       "    <tr>\n",
       "      <th>75%</th>\n",
       "      <td>4.107140e+06</td>\n",
       "      <td>38.000000</td>\n",
       "    </tr>\n",
       "    <tr>\n",
       "      <th>max</th>\n",
       "      <td>5.300108e+06</td>\n",
       "      <td>53.000000</td>\n",
       "    </tr>\n",
       "  </tbody>\n",
       "</table>\n",
       "</div>"
      ],
      "text/plain": [
       "               Cód.   Median age\n",
       "count  6.431000e+03  6431.000000\n",
       "mean   2.939003e+06    35.241487\n",
       "std    1.312919e+06     4.420474\n",
       "min    1.000000e+00    15.000000\n",
       "25%    2.301356e+06    33.000000\n",
       "50%    3.121407e+06    35.000000\n",
       "75%    4.107140e+06    38.000000\n",
       "max    5.300108e+06    53.000000"
      ]
     },
     "execution_count": 12,
     "metadata": {},
     "output_type": "execute_result"
    }
   ],
   "source": [
    "median_age.describe()"
   ]
  },
  {
   "cell_type": "code",
   "execution_count": 13,
   "id": "4b691559",
   "metadata": {},
   "outputs": [
    {
     "data": {
      "text/html": [
       "<div>\n",
       "<style scoped>\n",
       "    .dataframe tbody tr th:only-of-type {\n",
       "        vertical-align: middle;\n",
       "    }\n",
       "\n",
       "    .dataframe tbody tr th {\n",
       "        vertical-align: top;\n",
       "    }\n",
       "\n",
       "    .dataframe thead th {\n",
       "        text-align: right;\n",
       "    }\n",
       "</style>\n",
       "<table border=\"1\" class=\"dataframe\">\n",
       "  <thead>\n",
       "    <tr style=\"text-align: right;\">\n",
       "      <th></th>\n",
       "      <th>Cód.</th>\n",
       "      <th>sex ratio</th>\n",
       "    </tr>\n",
       "  </thead>\n",
       "  <tbody>\n",
       "    <tr>\n",
       "      <th>count</th>\n",
       "      <td>6.431000e+03</td>\n",
       "      <td>6431.000000</td>\n",
       "    </tr>\n",
       "    <tr>\n",
       "      <th>mean</th>\n",
       "      <td>2.939003e+06</td>\n",
       "      <td>99.790204</td>\n",
       "    </tr>\n",
       "    <tr>\n",
       "      <th>std</th>\n",
       "      <td>1.312919e+06</td>\n",
       "      <td>8.164929</td>\n",
       "    </tr>\n",
       "    <tr>\n",
       "      <th>min</th>\n",
       "      <td>1.000000e+00</td>\n",
       "      <td>82.890000</td>\n",
       "    </tr>\n",
       "    <tr>\n",
       "      <th>25%</th>\n",
       "      <td>2.301356e+06</td>\n",
       "      <td>95.870000</td>\n",
       "    </tr>\n",
       "    <tr>\n",
       "      <th>50%</th>\n",
       "      <td>3.121407e+06</td>\n",
       "      <td>99.140000</td>\n",
       "    </tr>\n",
       "    <tr>\n",
       "      <th>75%</th>\n",
       "      <td>4.107140e+06</td>\n",
       "      <td>102.750000</td>\n",
       "    </tr>\n",
       "    <tr>\n",
       "      <th>max</th>\n",
       "      <td>5.300108e+06</td>\n",
       "      <td>443.640000</td>\n",
       "    </tr>\n",
       "  </tbody>\n",
       "</table>\n",
       "</div>"
      ],
      "text/plain": [
       "               Cód.    sex ratio\n",
       "count  6.431000e+03  6431.000000\n",
       "mean   2.939003e+06    99.790204\n",
       "std    1.312919e+06     8.164929\n",
       "min    1.000000e+00    82.890000\n",
       "25%    2.301356e+06    95.870000\n",
       "50%    3.121407e+06    99.140000\n",
       "75%    4.107140e+06   102.750000\n",
       "max    5.300108e+06   443.640000"
      ]
     },
     "execution_count": 13,
     "metadata": {},
     "output_type": "execute_result"
    }
   ],
   "source": [
    "sex_ratio.describe()"
   ]
  },
  {
   "cell_type": "code",
   "execution_count": 14,
   "id": "86fa15de",
   "metadata": {},
   "outputs": [
    {
     "data": {
      "text/plain": [
       "(0, 0)"
      ]
     },
     "execution_count": 14,
     "metadata": {},
     "output_type": "execute_result"
    }
   ],
   "source": [
    "different_combinations_1 = sex_ratio[~sex_ratio.set_index(['cities','Nível','Cód.']).index.isin(median_age.set_index(['cities','Nível','Cód.']).index)]\n",
    "different_combinations_2 = median_age[~median_age.set_index(['cities','Nível','Cód.']).index.isin(sex_ratio.set_index(['cities','Nível','Cód.']).index)]\n",
    "\n",
    "len(different_combinations_1),len(different_combinations_1)"
   ]
  },
  {
   "cell_type": "code",
   "execution_count": 15,
   "id": "dac57da3",
   "metadata": {},
   "outputs": [
    {
     "data": {
      "text/plain": [
       "(0, 0)"
      ]
     },
     "execution_count": 15,
     "metadata": {},
     "output_type": "execute_result"
    }
   ],
   "source": [
    "different_combinations_1 = aging_index[~aging_index.set_index(['cities','Nível','Cód.']).index.isin(median_age.set_index(['cities','Nível','Cód.']).index)]\n",
    "different_combinations_2 = median_age[~median_age.set_index(['cities','Nível','Cód.']).index.isin(aging_index.set_index(['cities','Nível','Cód.']).index)]\n",
    "\n",
    "len(different_combinations_1),len(different_combinations_2)"
   ]
  },
  {
   "cell_type": "markdown",
   "id": "9a4a5776",
   "metadata": {},
   "source": [
    "The three datasets, median_age, sex_ratio, and aging_index, share a common structure with similar combinations of columns: 'cities', 'Nível', and 'Cód.'. Each unique combination of these columns in any of the datasets forms a record. \n",
    "\n",
    "'cities', 'Nível', and 'Cód.' are identifiers that uniquely define records in each dataset. Merging based on these columns consolidates information across these datasets."
   ]
  },
  {
   "cell_type": "code",
   "execution_count": 16,
   "id": "3d14531c",
   "metadata": {},
   "outputs": [],
   "source": [
    "#merging different demographic datasets for Brazil on common columns for further integration in consumer df\n",
    "merged_1 = pd.merge(aging_index, median_age, on=['cities','Nível','Cód.'], how='inner')\n",
    "final_merged_df = pd.merge(merged_1, sex_ratio, on=['cities','Nível','Cód.'], how='inner',indicator=True)"
   ]
  },
  {
   "cell_type": "code",
   "execution_count": 17,
   "id": "26ce4bd2",
   "metadata": {},
   "outputs": [],
   "source": [
    "different_combinations_df1 = final_merged_df[~final_merged_df.set_index(['cities','Nível','Cód.']).index.isin(sex_ratio.set_index(['cities','Nível','Cód.']).index)]\n"
   ]
  },
  {
   "cell_type": "code",
   "execution_count": 18,
   "id": "7b06a4ee",
   "metadata": {},
   "outputs": [
    {
     "data": {
      "text/plain": [
       "0"
      ]
     },
     "execution_count": 18,
     "metadata": {},
     "output_type": "execute_result"
    }
   ],
   "source": [
    "len(different_combinations_df1)"
   ]
  },
  {
   "cell_type": "code",
   "execution_count": 19,
   "id": "92825ccc",
   "metadata": {},
   "outputs": [
    {
     "data": {
      "text/plain": [
       "(6432, 7)"
      ]
     },
     "execution_count": 19,
     "metadata": {},
     "output_type": "execute_result"
    }
   ],
   "source": [
    "final_merged_df.shape"
   ]
  },
  {
   "cell_type": "code",
   "execution_count": 20,
   "id": "6cabd48e",
   "metadata": {},
   "outputs": [
    {
     "name": "stdout",
     "output_type": "stream",
     "text": [
      "# of unique values for Cód.=6245\n",
      "# of unique values for Nivel=8\n",
      "# of unique values for cities=6236\n",
      "number of records in dataset =6432\n"
     ]
    }
   ],
   "source": [
    "print('# of unique values for Cód.='+str(final_merged_df['Cód.'].nunique()))\n",
    "print('# of unique values for Nivel='+str(final_merged_df['Nível'].nunique()))\n",
    "print('# of unique values for cities='+str(final_merged_df['cities'].nunique()))\n",
    "print('number of records in dataset ='+ str(final_merged_df.shape[0]))"
   ]
  },
  {
   "cell_type": "markdown",
   "id": "8807cdab",
   "metadata": {},
   "source": [
    "final_merged_df contains the information for all three demographics median_age, sex_ratio, and aging_index. It contains exactly same number of total records, and unique values of columns : 'cities', 'Nível', and 'Cód.' . Hence, there is no duplicates or missing data in final_merged_df"
   ]
  },
  {
   "cell_type": "code",
   "execution_count": 21,
   "id": "62af6a9d",
   "metadata": {},
   "outputs": [
    {
     "data": {
      "text/plain": [
       "((6432, 4), (6432, 4), (6432, 4), (6432, 7))"
      ]
     },
     "execution_count": 21,
     "metadata": {},
     "output_type": "execute_result"
    }
   ],
   "source": [
    "aging_index.shape,median_age.shape,aging_index.shape,final_merged_df.shape"
   ]
  },
  {
   "cell_type": "code",
   "execution_count": 22,
   "id": "43e0141b",
   "metadata": {},
   "outputs": [
    {
     "data": {
      "text/html": [
       "<div>\n",
       "<style scoped>\n",
       "    .dataframe tbody tr th:only-of-type {\n",
       "        vertical-align: middle;\n",
       "    }\n",
       "\n",
       "    .dataframe tbody tr th {\n",
       "        vertical-align: top;\n",
       "    }\n",
       "\n",
       "    .dataframe thead th {\n",
       "        text-align: right;\n",
       "    }\n",
       "</style>\n",
       "<table border=\"1\" class=\"dataframe\">\n",
       "  <thead>\n",
       "    <tr style=\"text-align: right;\">\n",
       "      <th></th>\n",
       "      <th>Nível</th>\n",
       "      <th>Cód.</th>\n",
       "      <th>cities</th>\n",
       "      <th>aging index</th>\n",
       "      <th>Median age</th>\n",
       "      <th>sex ratio</th>\n",
       "      <th>_merge</th>\n",
       "    </tr>\n",
       "  </thead>\n",
       "  <tbody>\n",
       "    <tr>\n",
       "      <th>0</th>\n",
       "      <td>BR</td>\n",
       "      <td>1.0</td>\n",
       "      <td>Brasil</td>\n",
       "      <td>55.24</td>\n",
       "      <td>35.0</td>\n",
       "      <td>94.25</td>\n",
       "      <td>both</td>\n",
       "    </tr>\n",
       "    <tr>\n",
       "      <th>1</th>\n",
       "      <td>GR</td>\n",
       "      <td>1.0</td>\n",
       "      <td>Norte</td>\n",
       "      <td>27.60</td>\n",
       "      <td>29.0</td>\n",
       "      <td>99.67</td>\n",
       "      <td>both</td>\n",
       "    </tr>\n",
       "    <tr>\n",
       "      <th>2</th>\n",
       "      <td>GR</td>\n",
       "      <td>2.0</td>\n",
       "      <td>Nordeste</td>\n",
       "      <td>47.89</td>\n",
       "      <td>33.0</td>\n",
       "      <td>93.54</td>\n",
       "      <td>both</td>\n",
       "    </tr>\n",
       "    <tr>\n",
       "      <th>3</th>\n",
       "      <td>GR</td>\n",
       "      <td>3.0</td>\n",
       "      <td>Sudeste</td>\n",
       "      <td>67.81</td>\n",
       "      <td>37.0</td>\n",
       "      <td>92.90</td>\n",
       "      <td>both</td>\n",
       "    </tr>\n",
       "    <tr>\n",
       "      <th>4</th>\n",
       "      <td>GR</td>\n",
       "      <td>4.0</td>\n",
       "      <td>Sul</td>\n",
       "      <td>65.61</td>\n",
       "      <td>36.0</td>\n",
       "      <td>94.99</td>\n",
       "      <td>both</td>\n",
       "    </tr>\n",
       "  </tbody>\n",
       "</table>\n",
       "</div>"
      ],
      "text/plain": [
       "  Nível  Cód.    cities  aging index  Median age  sex ratio _merge\n",
       "0    BR   1.0    Brasil        55.24        35.0      94.25   both\n",
       "1    GR   1.0     Norte        27.60        29.0      99.67   both\n",
       "2    GR   2.0  Nordeste        47.89        33.0      93.54   both\n",
       "3    GR   3.0   Sudeste        67.81        37.0      92.90   both\n",
       "4    GR   4.0       Sul        65.61        36.0      94.99   both"
      ]
     },
     "execution_count": 22,
     "metadata": {},
     "output_type": "execute_result"
    }
   ],
   "source": [
    "final_merged_df.head()# demographic df"
   ]
  },
  {
   "cell_type": "markdown",
   "id": "232fc973",
   "metadata": {},
   "source": [
    "Below I have defined two functions for preprocesisng the \"cities\" column in final_merged_df dataset. \n",
    "1. extract_state function: it is used to add a new \"state\" column to final_merged_df whose values is equal to the state information extracted \"from city column \n",
    "2.remove_bracket_content function: This function is use to further clean the cities column after extracting state information from the dataset. It removes the information in between the brackets frm values in \"city\" column\n",
    "3. finally I also change the name of a city 'Brasil' to 'brasilia' to match the olist consumer dataset"
   ]
  },
  {
   "cell_type": "code",
   "execution_count": 23,
   "id": "b5479693",
   "metadata": {},
   "outputs": [],
   "source": [
    "final_merged_df['cities'] = final_merged_df['cities'].astype(\"string\")\n"
   ]
  },
  {
   "cell_type": "code",
   "execution_count": 24,
   "id": "3dd0d098",
   "metadata": {},
   "outputs": [
    {
     "name": "stdout",
     "output_type": "stream",
     "text": [
      "<class 'pandas.core.frame.DataFrame'>\n",
      "Int64Index: 6432 entries, 0 to 6431\n",
      "Data columns (total 7 columns):\n",
      " #   Column       Non-Null Count  Dtype   \n",
      "---  ------       --------------  -----   \n",
      " 0   Nível        6432 non-null   object  \n",
      " 1   Cód.         6431 non-null   float64 \n",
      " 2   cities       6431 non-null   string  \n",
      " 3   aging index  6431 non-null   float64 \n",
      " 4   Median age   6431 non-null   float64 \n",
      " 5   sex ratio    6431 non-null   float64 \n",
      " 6   _merge       6432 non-null   category\n",
      "dtypes: category(1), float64(4), object(1), string(1)\n",
      "memory usage: 358.2+ KB\n"
     ]
    }
   ],
   "source": [
    "final_merged_df.info()"
   ]
  },
  {
   "cell_type": "markdown",
   "id": "5ce84240",
   "metadata": {},
   "source": [
    "Below I have defined two functions that "
   ]
  },
  {
   "cell_type": "code",
   "execution_count": 25,
   "id": "6b780f89",
   "metadata": {},
   "outputs": [],
   "source": [
    "\n",
    "def extract_state(city):\n",
    "    if isinstance(city, str):\n",
    "        # Pattern to match strings within parentheses or after a slash\n",
    "        pattern = r'\\((.*?)\\)|\\/(.*?)$'\n",
    "        match = re.search(pattern, city)\n",
    "        if match:\n",
    "            # Check which group has a match and return it\n",
    "            return match.group(1) if match.group(1) else match.group(2)\n",
    "    return None\n"
   ]
  },
  {
   "cell_type": "code",
   "execution_count": 26,
   "id": "8ded5129",
   "metadata": {},
   "outputs": [],
   "source": [
    "final_merged_df['state'] = final_merged_df['cities'].apply(extract_state)# preparing demographic df"
   ]
  },
  {
   "cell_type": "code",
   "execution_count": 27,
   "id": "5b638f6a",
   "metadata": {},
   "outputs": [
    {
     "data": {
      "text/plain": [
       "0       None\n",
       "1       None\n",
       "2       None\n",
       "3       None\n",
       "4       None\n",
       "        ... \n",
       "6427    None\n",
       "6428      GO\n",
       "6429    None\n",
       "6430      DF\n",
       "6431    None\n",
       "Name: state, Length: 6432, dtype: object"
      ]
     },
     "execution_count": 27,
     "metadata": {},
     "output_type": "execute_result"
    }
   ],
   "source": [
    "final_merged_df['state']"
   ]
  },
  {
   "cell_type": "code",
   "execution_count": 28,
   "id": "c1038295",
   "metadata": {
    "scrolled": true
   },
   "outputs": [
    {
     "data": {
      "text/plain": [
       "33                                RO\n",
       "34                                RO\n",
       "35                                RO\n",
       "36                                RO\n",
       "37                                RO\n",
       "                    ...             \n",
       "6420    Paraguai - Ponta Porã/Brasil\n",
       "6422                              MT\n",
       "6426                              GO\n",
       "6428                              GO\n",
       "6430                              DF\n",
       "Name: state, Length: 5673, dtype: object"
      ]
     },
     "execution_count": 28,
     "metadata": {},
     "output_type": "execute_result"
    }
   ],
   "source": [
    "final_merged_df[final_merged_df['state'].notnull()]['state']"
   ]
  },
  {
   "cell_type": "code",
   "execution_count": 29,
   "id": "bf58f70e",
   "metadata": {},
   "outputs": [],
   "source": [
    "def remove_bracket_content(city):\n",
    "    # Pattern to match content within parentheses and content after a slash\n",
    "    pattern = r'\\s*\\([^)]*\\)|\\/.*$'\n",
    "    return re.sub(pattern, '', city)\n"
   ]
  },
  {
   "cell_type": "code",
   "execution_count": 30,
   "id": "00a018e9",
   "metadata": {},
   "outputs": [],
   "source": [
    "final_merged_df['cities'] = final_merged_df['cities'].astype(str)\n"
   ]
  },
  {
   "cell_type": "code",
   "execution_count": 31,
   "id": "2f6a7b20",
   "metadata": {},
   "outputs": [],
   "source": [
    "final_merged_df['cities'] = final_merged_df['cities'].apply(remove_bracket_content)\n"
   ]
  },
  {
   "cell_type": "code",
   "execution_count": 32,
   "id": "fb1df321",
   "metadata": {},
   "outputs": [
    {
     "data": {
      "text/plain": [
       "0          Brasil\n",
       "1           Norte\n",
       "2        Nordeste\n",
       "3         Sudeste\n",
       "4             Sul\n",
       "          ...    \n",
       "6427      Formosa\n",
       "6428      Goiânia\n",
       "6429    Rio Verde\n",
       "6430     Brasília\n",
       "6431         <NA>\n",
       "Name: cities, Length: 6432, dtype: object"
      ]
     },
     "execution_count": 32,
     "metadata": {},
     "output_type": "execute_result"
    }
   ],
   "source": [
    "final_merged_df['cities']"
   ]
  },
  {
   "cell_type": "code",
   "execution_count": 33,
   "id": "ccf6eeb4",
   "metadata": {},
   "outputs": [],
   "source": [
    "final_merged_df['cities'] = final_merged_df['cities'].replace('Brasil', 'brasilia')"
   ]
  },
  {
   "cell_type": "code",
   "execution_count": 34,
   "id": "b1a2a1a0",
   "metadata": {},
   "outputs": [],
   "source": [
    "final_merged_df['cities'] = final_merged_df['cities'].str.lower()"
   ]
  },
  {
   "cell_type": "code",
   "execution_count": 35,
   "id": "a4d7f231",
   "metadata": {},
   "outputs": [
    {
     "data": {
      "text/html": [
       "<div>\n",
       "<style scoped>\n",
       "    .dataframe tbody tr th:only-of-type {\n",
       "        vertical-align: middle;\n",
       "    }\n",
       "\n",
       "    .dataframe tbody tr th {\n",
       "        vertical-align: top;\n",
       "    }\n",
       "\n",
       "    .dataframe thead th {\n",
       "        text-align: right;\n",
       "    }\n",
       "</style>\n",
       "<table border=\"1\" class=\"dataframe\">\n",
       "  <thead>\n",
       "    <tr style=\"text-align: right;\">\n",
       "      <th></th>\n",
       "      <th>Nível</th>\n",
       "      <th>Cód.</th>\n",
       "      <th>cities</th>\n",
       "      <th>aging index</th>\n",
       "      <th>Median age</th>\n",
       "      <th>sex ratio</th>\n",
       "      <th>_merge</th>\n",
       "      <th>state</th>\n",
       "    </tr>\n",
       "  </thead>\n",
       "  <tbody>\n",
       "    <tr>\n",
       "      <th>0</th>\n",
       "      <td>BR</td>\n",
       "      <td>1.0</td>\n",
       "      <td>brasilia</td>\n",
       "      <td>55.24</td>\n",
       "      <td>35.0</td>\n",
       "      <td>94.25</td>\n",
       "      <td>both</td>\n",
       "      <td>None</td>\n",
       "    </tr>\n",
       "    <tr>\n",
       "      <th>1</th>\n",
       "      <td>GR</td>\n",
       "      <td>1.0</td>\n",
       "      <td>norte</td>\n",
       "      <td>27.60</td>\n",
       "      <td>29.0</td>\n",
       "      <td>99.67</td>\n",
       "      <td>both</td>\n",
       "      <td>None</td>\n",
       "    </tr>\n",
       "    <tr>\n",
       "      <th>2</th>\n",
       "      <td>GR</td>\n",
       "      <td>2.0</td>\n",
       "      <td>nordeste</td>\n",
       "      <td>47.89</td>\n",
       "      <td>33.0</td>\n",
       "      <td>93.54</td>\n",
       "      <td>both</td>\n",
       "      <td>None</td>\n",
       "    </tr>\n",
       "    <tr>\n",
       "      <th>3</th>\n",
       "      <td>GR</td>\n",
       "      <td>3.0</td>\n",
       "      <td>sudeste</td>\n",
       "      <td>67.81</td>\n",
       "      <td>37.0</td>\n",
       "      <td>92.90</td>\n",
       "      <td>both</td>\n",
       "      <td>None</td>\n",
       "    </tr>\n",
       "    <tr>\n",
       "      <th>4</th>\n",
       "      <td>GR</td>\n",
       "      <td>4.0</td>\n",
       "      <td>sul</td>\n",
       "      <td>65.61</td>\n",
       "      <td>36.0</td>\n",
       "      <td>94.99</td>\n",
       "      <td>both</td>\n",
       "      <td>None</td>\n",
       "    </tr>\n",
       "    <tr>\n",
       "      <th>...</th>\n",
       "      <td>...</td>\n",
       "      <td>...</td>\n",
       "      <td>...</td>\n",
       "      <td>...</td>\n",
       "      <td>...</td>\n",
       "      <td>...</td>\n",
       "      <td>...</td>\n",
       "      <td>...</td>\n",
       "    </tr>\n",
       "    <tr>\n",
       "      <th>6427</th>\n",
       "      <td>CU</td>\n",
       "      <td>5208004.0</td>\n",
       "      <td>formosa</td>\n",
       "      <td>34.93</td>\n",
       "      <td>32.0</td>\n",
       "      <td>97.64</td>\n",
       "      <td>both</td>\n",
       "      <td>None</td>\n",
       "    </tr>\n",
       "    <tr>\n",
       "      <th>6428</th>\n",
       "      <td>CU</td>\n",
       "      <td>5208707.0</td>\n",
       "      <td>goiânia</td>\n",
       "      <td>45.24</td>\n",
       "      <td>34.0</td>\n",
       "      <td>92.95</td>\n",
       "      <td>both</td>\n",
       "      <td>GO</td>\n",
       "    </tr>\n",
       "    <tr>\n",
       "      <th>6429</th>\n",
       "      <td>CU</td>\n",
       "      <td>5218805.0</td>\n",
       "      <td>rio verde</td>\n",
       "      <td>33.34</td>\n",
       "      <td>32.0</td>\n",
       "      <td>100.45</td>\n",
       "      <td>both</td>\n",
       "      <td>None</td>\n",
       "    </tr>\n",
       "    <tr>\n",
       "      <th>6430</th>\n",
       "      <td>CU</td>\n",
       "      <td>5300108.0</td>\n",
       "      <td>brasília</td>\n",
       "      <td>38.96</td>\n",
       "      <td>33.0</td>\n",
       "      <td>92.53</td>\n",
       "      <td>both</td>\n",
       "      <td>DF</td>\n",
       "    </tr>\n",
       "    <tr>\n",
       "      <th>6431</th>\n",
       "      <td>Fonte: IBGE - Censo Demográfico</td>\n",
       "      <td>NaN</td>\n",
       "      <td>&lt;na&gt;</td>\n",
       "      <td>NaN</td>\n",
       "      <td>NaN</td>\n",
       "      <td>NaN</td>\n",
       "      <td>both</td>\n",
       "      <td>None</td>\n",
       "    </tr>\n",
       "  </tbody>\n",
       "</table>\n",
       "<p>6432 rows × 8 columns</p>\n",
       "</div>"
      ],
      "text/plain": [
       "                                Nível       Cód.     cities  aging index  \\\n",
       "0                                  BR        1.0   brasilia        55.24   \n",
       "1                                  GR        1.0      norte        27.60   \n",
       "2                                  GR        2.0   nordeste        47.89   \n",
       "3                                  GR        3.0    sudeste        67.81   \n",
       "4                                  GR        4.0        sul        65.61   \n",
       "...                               ...        ...        ...          ...   \n",
       "6427                               CU  5208004.0    formosa        34.93   \n",
       "6428                               CU  5208707.0    goiânia        45.24   \n",
       "6429                               CU  5218805.0  rio verde        33.34   \n",
       "6430                               CU  5300108.0   brasília        38.96   \n",
       "6431  Fonte: IBGE - Censo Demográfico        NaN       <na>          NaN   \n",
       "\n",
       "      Median age  sex ratio _merge state  \n",
       "0           35.0      94.25   both  None  \n",
       "1           29.0      99.67   both  None  \n",
       "2           33.0      93.54   both  None  \n",
       "3           37.0      92.90   both  None  \n",
       "4           36.0      94.99   both  None  \n",
       "...          ...        ...    ...   ...  \n",
       "6427        32.0      97.64   both  None  \n",
       "6428        34.0      92.95   both    GO  \n",
       "6429        32.0     100.45   both  None  \n",
       "6430        33.0      92.53   both    DF  \n",
       "6431         NaN        NaN   both  None  \n",
       "\n",
       "[6432 rows x 8 columns]"
      ]
     },
     "execution_count": 35,
     "metadata": {},
     "output_type": "execute_result"
    }
   ],
   "source": [
    "final_merged_df"
   ]
  },
  {
   "cell_type": "code",
   "execution_count": 36,
   "id": "99fc56b0",
   "metadata": {},
   "outputs": [
    {
     "data": {
      "text/plain": [
       "759"
      ]
     },
     "execution_count": 36,
     "metadata": {},
     "output_type": "execute_result"
    }
   ],
   "source": [
    "final_merged_df['state'].isnull().sum()"
   ]
  },
  {
   "cell_type": "code",
   "execution_count": 37,
   "id": "a037b68d",
   "metadata": {},
   "outputs": [],
   "source": [
    "final_merged_df = final_merged_df.dropna(subset=['state'])\n"
   ]
  },
  {
   "cell_type": "code",
   "execution_count": 38,
   "id": "18444cc7",
   "metadata": {},
   "outputs": [
    {
     "data": {
      "text/plain": [
       "(5673, 8)"
      ]
     },
     "execution_count": 38,
     "metadata": {},
     "output_type": "execute_result"
    }
   ],
   "source": [
    "final_merged_df.shape"
   ]
  },
  {
   "cell_type": "code",
   "execution_count": 39,
   "id": "4d65c6b8",
   "metadata": {},
   "outputs": [
    {
     "data": {
      "text/plain": [
       "Nível          0\n",
       "Cód.           0\n",
       "cities         0\n",
       "aging index    0\n",
       "Median age     0\n",
       "sex ratio      0\n",
       "_merge         0\n",
       "state          0\n",
       "dtype: int64"
      ]
     },
     "execution_count": 39,
     "metadata": {},
     "output_type": "execute_result"
    }
   ],
   "source": [
    "final_merged_df.isnull().sum()"
   ]
  },
  {
   "cell_type": "code",
   "execution_count": 40,
   "id": "7c3ab58a",
   "metadata": {},
   "outputs": [
    {
     "name": "stdout",
     "output_type": "stream",
     "text": [
      "# of unique values for Cód.=5570\n",
      "# of unique values for Nivel=2\n",
      "# of unique values for cities=5316\n",
      "# of unique values for cities-state combo=(5590, 2)\n",
      "(5590, 3)\n"
     ]
    }
   ],
   "source": [
    "print('# of unique values for Cód.='+str(final_merged_df['Cód.'].nunique()))\n",
    "print('# of unique values for Nivel='+str(final_merged_df['Nível'].nunique()))\n",
    "print('# of unique values for cities='+str(final_merged_df['cities'].nunique()))\n",
    "print('# of unique values for cities-state combo='+str(final_merged_df[['cities','state']].drop_duplicates().shape))\n",
    "print(final_merged_df[['cities','state','Cód.']].drop_duplicates().shape)"
   ]
  },
  {
   "cell_type": "code",
   "execution_count": 41,
   "id": "42c45922",
   "metadata": {},
   "outputs": [
    {
     "name": "stdout",
     "output_type": "stream",
     "text": [
      "olist_customers_dataset----------------------------------->>>>>\n",
      "# of unique values for cities=4119\n",
      "# of unique values for state=27\n",
      "# of unique values for cities-state combo=(4310, 2)\n"
     ]
    }
   ],
   "source": [
    "print('olist_customers_dataset----------------------------------->>>>>')\n",
    "print('# of unique values for cities='+str(olist_customers_dataset['customer_city'].nunique()))\n",
    "print('# of unique values for state='+str(olist_customers_dataset['customer_state'].nunique()))\n",
    "print('# of unique values for cities-state combo='+str(olist_customers_dataset[['customer_city', 'customer_state']].drop_duplicates().shape))"
   ]
  },
  {
   "cell_type": "code",
   "execution_count": 42,
   "id": "56bf91f3",
   "metadata": {},
   "outputs": [],
   "source": [
    "different_combinations_1 = olist_customers_dataset[olist_customers_dataset.set_index(['customer_city','customer_state']).index.isin(final_merged_df.set_index(['cities','state']).index)]\n"
   ]
  },
  {
   "cell_type": "code",
   "execution_count": 43,
   "id": "70ec307a",
   "metadata": {},
   "outputs": [
    {
     "data": {
      "text/plain": [
       "(99441, 5)"
      ]
     },
     "execution_count": 43,
     "metadata": {},
     "output_type": "execute_result"
    }
   ],
   "source": [
    "olist_customers_dataset.shape"
   ]
  },
  {
   "cell_type": "code",
   "execution_count": 44,
   "id": "ce2a3a1f",
   "metadata": {},
   "outputs": [
    {
     "data": {
      "text/plain": [
       "(52538, 5)"
      ]
     },
     "execution_count": 44,
     "metadata": {},
     "output_type": "execute_result"
    }
   ],
   "source": [
    "different_combinations_1.shape\n",
    "#52538 records in olist consumer dataset have corresponding values in SIDRA demographic dataset\n",
    "#since we only have city and state columns in olist dataset hence this combination is used from\n",
    "#SIDRA to fill aging index, median age and sex ratio columns in olist dataset. "
   ]
  },
  {
   "cell_type": "code",
   "execution_count": 45,
   "id": "3b168ac1",
   "metadata": {},
   "outputs": [
    {
     "data": {
      "text/plain": [
       "(5673, 4)"
      ]
     },
     "execution_count": 45,
     "metadata": {},
     "output_type": "execute_result"
    }
   ],
   "source": [
    "final_merged_df[['cities','state','Cód.','Nível']].drop_duplicates().shape"
   ]
  },
  {
   "cell_type": "code",
   "execution_count": 46,
   "id": "871dac78",
   "metadata": {},
   "outputs": [],
   "source": [
    "duplicate_records = final_merged_df.groupby(['cities','state','Cód.']).size().reset_index(name='number_of_records')"
   ]
  },
  {
   "cell_type": "code",
   "execution_count": 47,
   "id": "43c99860",
   "metadata": {},
   "outputs": [
    {
     "data": {
      "text/html": [
       "<div>\n",
       "<style scoped>\n",
       "    .dataframe tbody tr th:only-of-type {\n",
       "        vertical-align: middle;\n",
       "    }\n",
       "\n",
       "    .dataframe tbody tr th {\n",
       "        vertical-align: top;\n",
       "    }\n",
       "\n",
       "    .dataframe thead th {\n",
       "        text-align: right;\n",
       "    }\n",
       "</style>\n",
       "<table border=\"1\" class=\"dataframe\">\n",
       "  <thead>\n",
       "    <tr style=\"text-align: right;\">\n",
       "      <th></th>\n",
       "      <th>Nível</th>\n",
       "      <th>Cód.</th>\n",
       "      <th>cities</th>\n",
       "      <th>aging index</th>\n",
       "      <th>Median age</th>\n",
       "      <th>sex ratio</th>\n",
       "      <th>_merge</th>\n",
       "      <th>state</th>\n",
       "    </tr>\n",
       "  </thead>\n",
       "  <tbody>\n",
       "    <tr>\n",
       "      <th>1787</th>\n",
       "      <td>MU</td>\n",
       "      <td>2800308.0</td>\n",
       "      <td>aracaju</td>\n",
       "      <td>55.15</td>\n",
       "      <td>35.0</td>\n",
       "      <td>84.81</td>\n",
       "      <td>both</td>\n",
       "      <td>SE</td>\n",
       "    </tr>\n",
       "    <tr>\n",
       "      <th>6287</th>\n",
       "      <td>CU</td>\n",
       "      <td>2800308.0</td>\n",
       "      <td>aracaju</td>\n",
       "      <td>42.37</td>\n",
       "      <td>33.0</td>\n",
       "      <td>87.66</td>\n",
       "      <td>both</td>\n",
       "      <td>SE</td>\n",
       "    </tr>\n",
       "  </tbody>\n",
       "</table>\n",
       "</div>"
      ],
      "text/plain": [
       "     Nível       Cód.   cities  aging index  Median age  sex ratio _merge  \\\n",
       "1787    MU  2800308.0  aracaju        55.15        35.0      84.81   both   \n",
       "6287    CU  2800308.0  aracaju        42.37        33.0      87.66   both   \n",
       "\n",
       "     state  \n",
       "1787    SE  \n",
       "6287    SE  "
      ]
     },
     "execution_count": 47,
     "metadata": {},
     "output_type": "execute_result"
    }
   ],
   "source": [
    "final_merged_df[final_merged_df['cities'] == 'aracaju']"
   ]
  },
  {
   "cell_type": "code",
   "execution_count": 48,
   "id": "100863aa",
   "metadata": {},
   "outputs": [
    {
     "name": "stderr",
     "output_type": "stream",
     "text": [
      "C:\\Users\\akankshasaxena3\\AppData\\Local\\Temp\\ipykernel_25296\\199270470.py:1: SettingWithCopyWarning: \n",
      "A value is trying to be set on a copy of a slice from a DataFrame.\n",
      "Try using .loc[row_indexer,col_indexer] = value instead\n",
      "\n",
      "See the caveats in the documentation: https://pandas.pydata.org/pandas-docs/stable/user_guide/indexing.html#returning-a-view-versus-a-copy\n",
      "  final_merged_df['records_per_city'] = final_merged_df.groupby(['cities', 'state'])['Nível'].transform('count')\n"
     ]
    }
   ],
   "source": [
    "final_merged_df['records_per_city'] = final_merged_df.groupby(['cities', 'state'])['Nível'].transform('count')"
   ]
  },
  {
   "cell_type": "code",
   "execution_count": 49,
   "id": "3a32aa41",
   "metadata": {},
   "outputs": [
    {
     "data": {
      "text/html": [
       "<div>\n",
       "<style scoped>\n",
       "    .dataframe tbody tr th:only-of-type {\n",
       "        vertical-align: middle;\n",
       "    }\n",
       "\n",
       "    .dataframe tbody tr th {\n",
       "        vertical-align: top;\n",
       "    }\n",
       "\n",
       "    .dataframe thead th {\n",
       "        text-align: right;\n",
       "    }\n",
       "</style>\n",
       "<table border=\"1\" class=\"dataframe\">\n",
       "  <thead>\n",
       "    <tr style=\"text-align: right;\">\n",
       "      <th></th>\n",
       "      <th>Nível</th>\n",
       "      <th>Cód.</th>\n",
       "      <th>cities</th>\n",
       "      <th>aging index</th>\n",
       "      <th>Median age</th>\n",
       "      <th>sex ratio</th>\n",
       "      <th>_merge</th>\n",
       "      <th>state</th>\n",
       "      <th>records_per_city</th>\n",
       "    </tr>\n",
       "  </thead>\n",
       "  <tbody>\n",
       "    <tr>\n",
       "      <th>49</th>\n",
       "      <td>MU</td>\n",
       "      <td>1100205.0</td>\n",
       "      <td>porto velho</td>\n",
       "      <td>29.54</td>\n",
       "      <td>31.0</td>\n",
       "      <td>96.76</td>\n",
       "      <td>both</td>\n",
       "      <td>RO</td>\n",
       "      <td>2</td>\n",
       "    </tr>\n",
       "    <tr>\n",
       "      <th>202</th>\n",
       "      <td>MU</td>\n",
       "      <td>1501402.0</td>\n",
       "      <td>belém</td>\n",
       "      <td>59.49</td>\n",
       "      <td>36.0</td>\n",
       "      <td>88.18</td>\n",
       "      <td>both</td>\n",
       "      <td>PA</td>\n",
       "      <td>2</td>\n",
       "    </tr>\n",
       "    <tr>\n",
       "      <th>336</th>\n",
       "      <td>MU</td>\n",
       "      <td>1600303.0</td>\n",
       "      <td>macapá</td>\n",
       "      <td>21.92</td>\n",
       "      <td>28.0</td>\n",
       "      <td>95.66</td>\n",
       "      <td>both</td>\n",
       "      <td>AP</td>\n",
       "      <td>2</td>\n",
       "    </tr>\n",
       "    <tr>\n",
       "      <th>572</th>\n",
       "      <td>MU</td>\n",
       "      <td>2105302.0</td>\n",
       "      <td>imperatriz</td>\n",
       "      <td>35.28</td>\n",
       "      <td>31.0</td>\n",
       "      <td>92.78</td>\n",
       "      <td>both</td>\n",
       "      <td>MA</td>\n",
       "      <td>2</td>\n",
       "    </tr>\n",
       "    <tr>\n",
       "      <th>668</th>\n",
       "      <td>MU</td>\n",
       "      <td>2111300.0</td>\n",
       "      <td>são luís</td>\n",
       "      <td>43.88</td>\n",
       "      <td>33.0</td>\n",
       "      <td>87.23</td>\n",
       "      <td>both</td>\n",
       "      <td>MA</td>\n",
       "      <td>2</td>\n",
       "    </tr>\n",
       "    <tr>\n",
       "      <th>...</th>\n",
       "      <td>...</td>\n",
       "      <td>...</td>\n",
       "      <td>...</td>\n",
       "      <td>...</td>\n",
       "      <td>...</td>\n",
       "      <td>...</td>\n",
       "      <td>...</td>\n",
       "      <td>...</td>\n",
       "      <td>...</td>\n",
       "    </tr>\n",
       "    <tr>\n",
       "      <th>6412</th>\n",
       "      <td>CU</td>\n",
       "      <td>4316907.0</td>\n",
       "      <td>santa maria</td>\n",
       "      <td>82.48</td>\n",
       "      <td>37.0</td>\n",
       "      <td>90.43</td>\n",
       "      <td>both</td>\n",
       "      <td>RS</td>\n",
       "      <td>2</td>\n",
       "    </tr>\n",
       "    <tr>\n",
       "      <th>6422</th>\n",
       "      <td>CU</td>\n",
       "      <td>5103403.0</td>\n",
       "      <td>cuiabá</td>\n",
       "      <td>38.51</td>\n",
       "      <td>33.0</td>\n",
       "      <td>95.19</td>\n",
       "      <td>both</td>\n",
       "      <td>MT</td>\n",
       "      <td>2</td>\n",
       "    </tr>\n",
       "    <tr>\n",
       "      <th>6426</th>\n",
       "      <td>CU</td>\n",
       "      <td>5205109.0</td>\n",
       "      <td>catalão</td>\n",
       "      <td>51.51</td>\n",
       "      <td>35.0</td>\n",
       "      <td>99.91</td>\n",
       "      <td>both</td>\n",
       "      <td>GO</td>\n",
       "      <td>2</td>\n",
       "    </tr>\n",
       "    <tr>\n",
       "      <th>6428</th>\n",
       "      <td>CU</td>\n",
       "      <td>5208707.0</td>\n",
       "      <td>goiânia</td>\n",
       "      <td>45.24</td>\n",
       "      <td>34.0</td>\n",
       "      <td>92.95</td>\n",
       "      <td>both</td>\n",
       "      <td>GO</td>\n",
       "      <td>2</td>\n",
       "    </tr>\n",
       "    <tr>\n",
       "      <th>6430</th>\n",
       "      <td>CU</td>\n",
       "      <td>5300108.0</td>\n",
       "      <td>brasília</td>\n",
       "      <td>38.96</td>\n",
       "      <td>33.0</td>\n",
       "      <td>92.53</td>\n",
       "      <td>both</td>\n",
       "      <td>DF</td>\n",
       "      <td>2</td>\n",
       "    </tr>\n",
       "  </tbody>\n",
       "</table>\n",
       "<p>166 rows × 9 columns</p>\n",
       "</div>"
      ],
      "text/plain": [
       "     Nível       Cód.       cities  aging index  Median age  sex ratio _merge  \\\n",
       "49      MU  1100205.0  porto velho        29.54        31.0      96.76   both   \n",
       "202     MU  1501402.0        belém        59.49        36.0      88.18   both   \n",
       "336     MU  1600303.0       macapá        21.92        28.0      95.66   both   \n",
       "572     MU  2105302.0   imperatriz        35.28        31.0      92.78   both   \n",
       "668     MU  2111300.0     são luís        43.88        33.0      87.23   both   \n",
       "...    ...        ...          ...          ...         ...        ...    ...   \n",
       "6412    CU  4316907.0  santa maria        82.48        37.0      90.43   both   \n",
       "6422    CU  5103403.0       cuiabá        38.51        33.0      95.19   both   \n",
       "6426    CU  5205109.0      catalão        51.51        35.0      99.91   both   \n",
       "6428    CU  5208707.0      goiânia        45.24        34.0      92.95   both   \n",
       "6430    CU  5300108.0     brasília        38.96        33.0      92.53   both   \n",
       "\n",
       "     state  records_per_city  \n",
       "49      RO                 2  \n",
       "202     PA                 2  \n",
       "336     AP                 2  \n",
       "572     MA                 2  \n",
       "668     MA                 2  \n",
       "...    ...               ...  \n",
       "6412    RS                 2  \n",
       "6422    MT                 2  \n",
       "6426    GO                 2  \n",
       "6428    GO                 2  \n",
       "6430    DF                 2  \n",
       "\n",
       "[166 rows x 9 columns]"
      ]
     },
     "execution_count": 49,
     "metadata": {},
     "output_type": "execute_result"
    }
   ],
   "source": [
    "final_merged_df[final_merged_df['records_per_city']>1]"
   ]
  },
  {
   "cell_type": "code",
   "execution_count": 50,
   "id": "1f425cbc",
   "metadata": {},
   "outputs": [],
   "source": [
    "city_state_counts = final_merged_df.groupby(['cities']).size().reset_index(name='count')"
   ]
  },
  {
   "cell_type": "code",
   "execution_count": 51,
   "id": "78de3de8",
   "metadata": {},
   "outputs": [
    {
     "data": {
      "text/html": [
       "<div>\n",
       "<style scoped>\n",
       "    .dataframe tbody tr th:only-of-type {\n",
       "        vertical-align: middle;\n",
       "    }\n",
       "\n",
       "    .dataframe tbody tr th {\n",
       "        vertical-align: top;\n",
       "    }\n",
       "\n",
       "    .dataframe thead th {\n",
       "        text-align: right;\n",
       "    }\n",
       "</style>\n",
       "<table border=\"1\" class=\"dataframe\">\n",
       "  <thead>\n",
       "    <tr style=\"text-align: right;\">\n",
       "      <th></th>\n",
       "      <th>cities</th>\n",
       "      <th>count</th>\n",
       "    </tr>\n",
       "  </thead>\n",
       "  <tbody>\n",
       "    <tr>\n",
       "      <th>57</th>\n",
       "      <td>alagoinha</td>\n",
       "      <td>2</td>\n",
       "    </tr>\n",
       "    <tr>\n",
       "      <th>106</th>\n",
       "      <td>alto alegre</td>\n",
       "      <td>3</td>\n",
       "    </tr>\n",
       "    <tr>\n",
       "      <th>122</th>\n",
       "      <td>alto paraíso</td>\n",
       "      <td>2</td>\n",
       "    </tr>\n",
       "    <tr>\n",
       "      <th>137</th>\n",
       "      <td>alvorada</td>\n",
       "      <td>2</td>\n",
       "    </tr>\n",
       "    <tr>\n",
       "      <th>162</th>\n",
       "      <td>amparo</td>\n",
       "      <td>2</td>\n",
       "    </tr>\n",
       "    <tr>\n",
       "      <th>...</th>\n",
       "      <td>...</td>\n",
       "      <td>...</td>\n",
       "    </tr>\n",
       "    <tr>\n",
       "      <th>5251</th>\n",
       "      <td>várzea</td>\n",
       "      <td>2</td>\n",
       "    </tr>\n",
       "    <tr>\n",
       "      <th>5257</th>\n",
       "      <td>várzea grande</td>\n",
       "      <td>2</td>\n",
       "    </tr>\n",
       "    <tr>\n",
       "      <th>5264</th>\n",
       "      <td>wenceslau braz</td>\n",
       "      <td>2</td>\n",
       "    </tr>\n",
       "    <tr>\n",
       "      <th>5283</th>\n",
       "      <td>água boa</td>\n",
       "      <td>2</td>\n",
       "    </tr>\n",
       "    <tr>\n",
       "      <th>5284</th>\n",
       "      <td>água branca</td>\n",
       "      <td>3</td>\n",
       "    </tr>\n",
       "  </tbody>\n",
       "</table>\n",
       "<p>309 rows × 2 columns</p>\n",
       "</div>"
      ],
      "text/plain": [
       "              cities  count\n",
       "57         alagoinha      2\n",
       "106      alto alegre      3\n",
       "122     alto paraíso      2\n",
       "137         alvorada      2\n",
       "162           amparo      2\n",
       "...              ...    ...\n",
       "5251          várzea      2\n",
       "5257   várzea grande      2\n",
       "5264  wenceslau braz      2\n",
       "5283        água boa      2\n",
       "5284     água branca      3\n",
       "\n",
       "[309 rows x 2 columns]"
      ]
     },
     "execution_count": 51,
     "metadata": {},
     "output_type": "execute_result"
    }
   ],
   "source": [
    "city_state_counts[city_state_counts['count'] >1]"
   ]
  },
  {
   "cell_type": "code",
   "execution_count": 52,
   "id": "b230e062",
   "metadata": {},
   "outputs": [
    {
     "data": {
      "text/html": [
       "<div>\n",
       "<style scoped>\n",
       "    .dataframe tbody tr th:only-of-type {\n",
       "        vertical-align: middle;\n",
       "    }\n",
       "\n",
       "    .dataframe tbody tr th {\n",
       "        vertical-align: top;\n",
       "    }\n",
       "\n",
       "    .dataframe thead th {\n",
       "        text-align: right;\n",
       "    }\n",
       "</style>\n",
       "<table border=\"1\" class=\"dataframe\">\n",
       "  <thead>\n",
       "    <tr style=\"text-align: right;\">\n",
       "      <th></th>\n",
       "      <th>cities</th>\n",
       "      <th>state</th>\n",
       "      <th>count</th>\n",
       "    </tr>\n",
       "  </thead>\n",
       "  <tbody>\n",
       "    <tr>\n",
       "      <th>257</th>\n",
       "      <td>aracaju</td>\n",
       "      <td>SE</td>\n",
       "      <td>2</td>\n",
       "    </tr>\n",
       "    <tr>\n",
       "      <th>298</th>\n",
       "      <td>araraquara</td>\n",
       "      <td>SP</td>\n",
       "      <td>2</td>\n",
       "    </tr>\n",
       "    <tr>\n",
       "      <th>305</th>\n",
       "      <td>araruama</td>\n",
       "      <td>RJ</td>\n",
       "      <td>2</td>\n",
       "    </tr>\n",
       "    <tr>\n",
       "      <th>386</th>\n",
       "      <td>atibaia</td>\n",
       "      <td>SP</td>\n",
       "      <td>2</td>\n",
       "    </tr>\n",
       "    <tr>\n",
       "      <th>419</th>\n",
       "      <td>bagé</td>\n",
       "      <td>RS</td>\n",
       "      <td>2</td>\n",
       "    </tr>\n",
       "    <tr>\n",
       "      <th>...</th>\n",
       "      <td>...</td>\n",
       "      <td>...</td>\n",
       "      <td>...</td>\n",
       "    </tr>\n",
       "    <tr>\n",
       "      <th>5187</th>\n",
       "      <td>teresina</td>\n",
       "      <td>PI</td>\n",
       "      <td>2</td>\n",
       "    </tr>\n",
       "    <tr>\n",
       "      <th>5233</th>\n",
       "      <td>toledo</td>\n",
       "      <td>PR</td>\n",
       "      <td>2</td>\n",
       "    </tr>\n",
       "    <tr>\n",
       "      <th>5342</th>\n",
       "      <td>ubá</td>\n",
       "      <td>MG</td>\n",
       "      <td>2</td>\n",
       "    </tr>\n",
       "    <tr>\n",
       "      <th>5356</th>\n",
       "      <td>umuarama</td>\n",
       "      <td>PR</td>\n",
       "      <td>2</td>\n",
       "    </tr>\n",
       "    <tr>\n",
       "      <th>5502</th>\n",
       "      <td>vitória</td>\n",
       "      <td>ES</td>\n",
       "      <td>2</td>\n",
       "    </tr>\n",
       "  </tbody>\n",
       "</table>\n",
       "<p>83 rows × 3 columns</p>\n",
       "</div>"
      ],
      "text/plain": [
       "          cities state  count\n",
       "257      aracaju    SE      2\n",
       "298   araraquara    SP      2\n",
       "305     araruama    RJ      2\n",
       "386      atibaia    SP      2\n",
       "419         bagé    RS      2\n",
       "...          ...   ...    ...\n",
       "5187    teresina    PI      2\n",
       "5233      toledo    PR      2\n",
       "5342         ubá    MG      2\n",
       "5356    umuarama    PR      2\n",
       "5502     vitória    ES      2\n",
       "\n",
       "[83 rows x 3 columns]"
      ]
     },
     "execution_count": 52,
     "metadata": {},
     "output_type": "execute_result"
    }
   ],
   "source": [
    "city_state_counts_2 = final_merged_df.groupby(['cities', 'state']).size().reset_index(name='count')\n",
    "city_state_counts_2[city_state_counts_2['count'] >1]"
   ]
  },
  {
   "cell_type": "code",
   "execution_count": 53,
   "id": "46961c4c",
   "metadata": {},
   "outputs": [
    {
     "data": {
      "text/html": [
       "<div>\n",
       "<style scoped>\n",
       "    .dataframe tbody tr th:only-of-type {\n",
       "        vertical-align: middle;\n",
       "    }\n",
       "\n",
       "    .dataframe tbody tr th {\n",
       "        vertical-align: top;\n",
       "    }\n",
       "\n",
       "    .dataframe thead th {\n",
       "        text-align: right;\n",
       "    }\n",
       "</style>\n",
       "<table border=\"1\" class=\"dataframe\">\n",
       "  <thead>\n",
       "    <tr style=\"text-align: right;\">\n",
       "      <th></th>\n",
       "      <th>customer_city</th>\n",
       "      <th>customer_state</th>\n",
       "      <th>count</th>\n",
       "    </tr>\n",
       "  </thead>\n",
       "  <tbody>\n",
       "    <tr>\n",
       "      <th>0</th>\n",
       "      <td>abadia dos dourados</td>\n",
       "      <td>MG</td>\n",
       "      <td>3</td>\n",
       "    </tr>\n",
       "    <tr>\n",
       "      <th>2</th>\n",
       "      <td>abaete</td>\n",
       "      <td>MG</td>\n",
       "      <td>12</td>\n",
       "    </tr>\n",
       "    <tr>\n",
       "      <th>3</th>\n",
       "      <td>abaetetuba</td>\n",
       "      <td>PA</td>\n",
       "      <td>11</td>\n",
       "    </tr>\n",
       "    <tr>\n",
       "      <th>4</th>\n",
       "      <td>abaiara</td>\n",
       "      <td>CE</td>\n",
       "      <td>2</td>\n",
       "    </tr>\n",
       "    <tr>\n",
       "      <th>5</th>\n",
       "      <td>abaira</td>\n",
       "      <td>BA</td>\n",
       "      <td>2</td>\n",
       "    </tr>\n",
       "    <tr>\n",
       "      <th>...</th>\n",
       "      <td>...</td>\n",
       "      <td>...</td>\n",
       "      <td>...</td>\n",
       "    </tr>\n",
       "    <tr>\n",
       "      <th>4305</th>\n",
       "      <td>xinguara</td>\n",
       "      <td>PA</td>\n",
       "      <td>9</td>\n",
       "    </tr>\n",
       "    <tr>\n",
       "      <th>4306</th>\n",
       "      <td>xique-xique</td>\n",
       "      <td>BA</td>\n",
       "      <td>3</td>\n",
       "    </tr>\n",
       "    <tr>\n",
       "      <th>4307</th>\n",
       "      <td>zacarias</td>\n",
       "      <td>SP</td>\n",
       "      <td>2</td>\n",
       "    </tr>\n",
       "    <tr>\n",
       "      <th>4308</th>\n",
       "      <td>ze doca</td>\n",
       "      <td>MA</td>\n",
       "      <td>5</td>\n",
       "    </tr>\n",
       "    <tr>\n",
       "      <th>4309</th>\n",
       "      <td>zortea</td>\n",
       "      <td>SC</td>\n",
       "      <td>2</td>\n",
       "    </tr>\n",
       "  </tbody>\n",
       "</table>\n",
       "<p>3050 rows × 3 columns</p>\n",
       "</div>"
      ],
      "text/plain": [
       "            customer_city customer_state  count\n",
       "0     abadia dos dourados             MG      3\n",
       "2                  abaete             MG     12\n",
       "3              abaetetuba             PA     11\n",
       "4                 abaiara             CE      2\n",
       "5                  abaira             BA      2\n",
       "...                   ...            ...    ...\n",
       "4305             xinguara             PA      9\n",
       "4306          xique-xique             BA      3\n",
       "4307             zacarias             SP      2\n",
       "4308              ze doca             MA      5\n",
       "4309               zortea             SC      2\n",
       "\n",
       "[3050 rows x 3 columns]"
      ]
     },
     "execution_count": 53,
     "metadata": {},
     "output_type": "execute_result"
    }
   ],
   "source": [
    "city_state_counts = olist_customers_dataset.groupby(['customer_city', 'customer_state']).size().reset_index(name='count')\n",
    "city_state_counts[city_state_counts['count'] >1].drop_duplicates()"
   ]
  },
  {
   "cell_type": "code",
   "execution_count": 54,
   "id": "c6b9a2dc",
   "metadata": {},
   "outputs": [
    {
     "data": {
      "text/html": [
       "<div>\n",
       "<style scoped>\n",
       "    .dataframe tbody tr th:only-of-type {\n",
       "        vertical-align: middle;\n",
       "    }\n",
       "\n",
       "    .dataframe tbody tr th {\n",
       "        vertical-align: top;\n",
       "    }\n",
       "\n",
       "    .dataframe thead th {\n",
       "        text-align: right;\n",
       "    }\n",
       "</style>\n",
       "<table border=\"1\" class=\"dataframe\">\n",
       "  <thead>\n",
       "    <tr style=\"text-align: right;\">\n",
       "      <th></th>\n",
       "      <th>customer_city</th>\n",
       "      <th>customer_state</th>\n",
       "      <th>count</th>\n",
       "    </tr>\n",
       "  </thead>\n",
       "  <tbody>\n",
       "    <tr>\n",
       "      <th>0</th>\n",
       "      <td>abadia dos dourados</td>\n",
       "      <td>MG</td>\n",
       "      <td>3</td>\n",
       "    </tr>\n",
       "    <tr>\n",
       "      <th>3</th>\n",
       "      <td>abaetetuba</td>\n",
       "      <td>PA</td>\n",
       "      <td>11</td>\n",
       "    </tr>\n",
       "    <tr>\n",
       "      <th>4</th>\n",
       "      <td>abaiara</td>\n",
       "      <td>CE</td>\n",
       "      <td>2</td>\n",
       "    </tr>\n",
       "    <tr>\n",
       "      <th>8</th>\n",
       "      <td>abdon batista</td>\n",
       "      <td>SC</td>\n",
       "      <td>1</td>\n",
       "    </tr>\n",
       "    <tr>\n",
       "      <th>9</th>\n",
       "      <td>abelardo luz</td>\n",
       "      <td>SC</td>\n",
       "      <td>6</td>\n",
       "    </tr>\n",
       "    <tr>\n",
       "      <th>...</th>\n",
       "      <td>...</td>\n",
       "      <td>...</td>\n",
       "      <td>...</td>\n",
       "    </tr>\n",
       "    <tr>\n",
       "      <th>4302</th>\n",
       "      <td>xavantina</td>\n",
       "      <td>SC</td>\n",
       "      <td>2</td>\n",
       "    </tr>\n",
       "    <tr>\n",
       "      <th>4303</th>\n",
       "      <td>xaxim</td>\n",
       "      <td>SC</td>\n",
       "      <td>10</td>\n",
       "    </tr>\n",
       "    <tr>\n",
       "      <th>4305</th>\n",
       "      <td>xinguara</td>\n",
       "      <td>PA</td>\n",
       "      <td>9</td>\n",
       "    </tr>\n",
       "    <tr>\n",
       "      <th>4306</th>\n",
       "      <td>xique-xique</td>\n",
       "      <td>BA</td>\n",
       "      <td>3</td>\n",
       "    </tr>\n",
       "    <tr>\n",
       "      <th>4307</th>\n",
       "      <td>zacarias</td>\n",
       "      <td>SP</td>\n",
       "      <td>2</td>\n",
       "    </tr>\n",
       "  </tbody>\n",
       "</table>\n",
       "<p>2328 rows × 3 columns</p>\n",
       "</div>"
      ],
      "text/plain": [
       "            customer_city customer_state  count\n",
       "0     abadia dos dourados             MG      3\n",
       "3              abaetetuba             PA     11\n",
       "4                 abaiara             CE      2\n",
       "8           abdon batista             SC      1\n",
       "9            abelardo luz             SC      6\n",
       "...                   ...            ...    ...\n",
       "4302            xavantina             SC      2\n",
       "4303                xaxim             SC     10\n",
       "4305             xinguara             PA      9\n",
       "4306          xique-xique             BA      3\n",
       "4307             zacarias             SP      2\n",
       "\n",
       "[2328 rows x 3 columns]"
      ]
     },
     "execution_count": 54,
     "metadata": {},
     "output_type": "execute_result"
    }
   ],
   "source": [
    "different_combinations_1 = city_state_counts[city_state_counts.set_index(['customer_city','customer_state']).index.isin(city_state_counts_2.set_index(['cities','state']).index)]\n",
    "different_combinations_1"
   ]
  },
  {
   "cell_type": "markdown",
   "id": "ba9dc306",
   "metadata": {},
   "source": [
    "in final_merged_df some cities-state combination have two records, one record belongs to MU and other belongs to CU value of Nivel column. Simce we need unique record per city-state combination, for such records I take the average of values across records. "
   ]
  },
  {
   "cell_type": "code",
   "execution_count": 55,
   "id": "0c31d7cb",
   "metadata": {},
   "outputs": [
    {
     "name": "stdout",
     "output_type": "stream",
     "text": [
      "     Nível       Cód.                                 cities  aging index  \\\n",
      "33      MU  1100015.0                  alta floresta d'oeste       44.610   \n",
      "34      MU  1100023.0                              ariquemes       34.610   \n",
      "35      MU  1100031.0                                 cabixi       64.140   \n",
      "36      MU  1100049.0                                 cacoal       43.500   \n",
      "37      MU  1100056.0                             cerejeiras       47.010   \n",
      "...    ...        ...                                    ...          ...   \n",
      "6420    CU  5006606.0  internacional de pedro juan caballero       34.030   \n",
      "6422    CU  5103403.0                                 cuiabá       40.150   \n",
      "6426    CU  5205109.0                                catalão       49.730   \n",
      "6428    CU  5208707.0                                goiânia       51.125   \n",
      "6430    CU  5300108.0                               brasília       42.745   \n",
      "\n",
      "      Median age  sex ratio _merge                         state  \\\n",
      "33          34.0    101.820   both                            RO   \n",
      "34          32.0     98.250   both                            RO   \n",
      "35          38.0    102.150   both                            RO   \n",
      "36          33.0     95.930   both                            RO   \n",
      "37          34.0     98.030   both                            RO   \n",
      "...          ...        ...    ...                           ...   \n",
      "6420        30.0     95.080   both  Paraguai - Ponta Porã/Brasil   \n",
      "6422        33.5     94.775   both                            MT   \n",
      "6426        34.5     99.775   both                            GO   \n",
      "6428        34.5     91.480   both                            GO   \n",
      "6430        33.5     91.795   both                            DF   \n",
      "\n",
      "      records_per_city  \n",
      "33                   1  \n",
      "34                   1  \n",
      "35                   1  \n",
      "36                   1  \n",
      "37                   1  \n",
      "...                ...  \n",
      "6420                 1  \n",
      "6422                 2  \n",
      "6426                 2  \n",
      "6428                 2  \n",
      "6430                 2  \n",
      "\n",
      "[5673 rows x 9 columns]\n"
     ]
    }
   ],
   "source": [
    "\n",
    "# Calculate the counts for each (city, state) combination\n",
    "city_state_counts = final_merged_df.groupby(['cities', 'state']).size()\n",
    "\n",
    "# Filter rows where there are more than one record for the (city, state) combination\n",
    "rows_to_replace = city_state_counts[city_state_counts > 1].index\n",
    "\n",
    "# Replace values in the 'age' column with the average for the specified condition\n",
    "for city, state in rows_to_replace:\n",
    "    mask = (final_merged_df['cities'] == city) & (final_merged_df['state'] == state)\n",
    "    average_age = final_merged_df.loc[mask, 'aging index'].mean()\n",
    "    average_median_age =final_merged_df.loc[mask, 'Median age'].mean()\n",
    "    avergae_sex_ratio = final_merged_df.loc[mask, 'sex ratio'].mean()\n",
    "    final_merged_df.loc[mask, 'aging index'] = average_age\n",
    "    final_merged_df.loc[mask, 'Median age'] = average_median_age\n",
    "    final_merged_df.loc[mask, 'sex ratio'] = avergae_sex_ratio\n",
    "\n",
    "print(final_merged_df)\n"
   ]
  },
  {
   "cell_type": "code",
   "execution_count": 56,
   "id": "766ea5ba",
   "metadata": {},
   "outputs": [
    {
     "data": {
      "text/plain": [
       "Index(['customer_id', 'customer_unique_id', 'customer_zip_code_prefix',\n",
       "       'customer_city', 'customer_state'],\n",
       "      dtype='object')"
      ]
     },
     "execution_count": 56,
     "metadata": {},
     "output_type": "execute_result"
    }
   ],
   "source": [
    "olist_customers_dataset.columns"
   ]
  },
  {
   "cell_type": "code",
   "execution_count": 57,
   "id": "d1436300",
   "metadata": {},
   "outputs": [
    {
     "name": "stderr",
     "output_type": "stream",
     "text": [
      "C:\\Users\\akankshasaxena3\\AppData\\Local\\Temp\\ipykernel_25296\\893224227.py:1: SettingWithCopyWarning: \n",
      "A value is trying to be set on a copy of a slice from a DataFrame\n",
      "\n",
      "See the caveats in the documentation: https://pandas.pydata.org/pandas-docs/stable/user_guide/indexing.html#returning-a-view-versus-a-copy\n",
      "  final_merged_df.rename(columns={'cities': 'customer_city'}, inplace=True)\n",
      "C:\\Users\\akankshasaxena3\\AppData\\Local\\Temp\\ipykernel_25296\\893224227.py:2: SettingWithCopyWarning: \n",
      "A value is trying to be set on a copy of a slice from a DataFrame\n",
      "\n",
      "See the caveats in the documentation: https://pandas.pydata.org/pandas-docs/stable/user_guide/indexing.html#returning-a-view-versus-a-copy\n",
      "  final_merged_df.rename(columns={'state': 'customer_state'}, inplace=True)\n"
     ]
    }
   ],
   "source": [
    "final_merged_df.rename(columns={'cities': 'customer_city'}, inplace=True)\n",
    "final_merged_df.rename(columns={'state': 'customer_state'}, inplace=True)"
   ]
  },
  {
   "cell_type": "code",
   "execution_count": 58,
   "id": "19fae40d",
   "metadata": {},
   "outputs": [
    {
     "data": {
      "text/plain": [
       "((5590, 5), (5673, 5))"
      ]
     },
     "execution_count": 58,
     "metadata": {},
     "output_type": "execute_result"
    }
   ],
   "source": [
    "final_merged_df[['customer_city','customer_state','aging index','Median age','sex ratio']].drop_duplicates().shape,final_merged_df[['customer_city','customer_state','aging index','Median age','sex ratio']].shape"
   ]
  },
  {
   "cell_type": "code",
   "execution_count": 59,
   "id": "bdfd8407",
   "metadata": {},
   "outputs": [
    {
     "name": "stderr",
     "output_type": "stream",
     "text": [
      "C:\\Users\\akankshasaxena3\\AppData\\Local\\Temp\\ipykernel_25296\\3475307331.py:1: SettingWithCopyWarning: \n",
      "A value is trying to be set on a copy of a slice from a DataFrame\n",
      "\n",
      "See the caveats in the documentation: https://pandas.pydata.org/pandas-docs/stable/user_guide/indexing.html#returning-a-view-versus-a-copy\n",
      "  final_merged_df.drop(['Nível', 'Cód.'], axis=1, inplace=True)\n"
     ]
    }
   ],
   "source": [
    "final_merged_df.drop(['Nível', 'Cód.'], axis=1, inplace=True)"
   ]
  },
  {
   "cell_type": "code",
   "execution_count": 60,
   "id": "f3045d71",
   "metadata": {},
   "outputs": [
    {
     "data": {
      "text/plain": [
       "((5673, 7), (5590, 7))"
      ]
     },
     "execution_count": 60,
     "metadata": {},
     "output_type": "execute_result"
    }
   ],
   "source": [
    "final_merged_df.shape,final_merged_df.drop_duplicates().shape"
   ]
  },
  {
   "cell_type": "code",
   "execution_count": 61,
   "id": "c291d6d4",
   "metadata": {},
   "outputs": [],
   "source": [
    "final_merged_df = final_merged_df.drop_duplicates()"
   ]
  },
  {
   "cell_type": "code",
   "execution_count": 62,
   "id": "c2f51e2a",
   "metadata": {},
   "outputs": [
    {
     "data": {
      "text/plain": [
       "customer_city                          customer_state              \n",
       "alta floresta d'oeste                  RO                              44.61\n",
       "ariquemes                              RO                              34.61\n",
       "cabixi                                 RO                              64.14\n",
       "cacoal                                 RO                              43.50\n",
       "cerejeiras                             RO                              47.01\n",
       "                                                                       ...  \n",
       "taquara - parobé - igrejinha           RS                              58.33\n",
       "tramandaí - osório                     RS                              78.14\n",
       "internacional de uruguaiana            Brasil                          56.74\n",
       "internacional de corumbá               Brasil                          36.67\n",
       "internacional de pedro juan caballero  Paraguai - Ponta Porã/Brasil    34.03\n",
       "Name: aging index, Length: 5590, dtype: float64"
      ]
     },
     "execution_count": 62,
     "metadata": {},
     "output_type": "execute_result"
    }
   ],
   "source": [
    "series_age_index = final_merged_df.set_index(['customer_city','customer_state'])['aging index']\n",
    "series_median_age = final_merged_df.set_index(['customer_city','customer_state'])['Median age']\n",
    "series_sex_ratio = final_merged_df.set_index(['customer_city','customer_state'])['sex ratio']\n",
    "\n",
    "\n",
    "series_age_index"
   ]
  },
  {
   "cell_type": "code",
   "execution_count": 63,
   "id": "8a376bd6",
   "metadata": {},
   "outputs": [
    {
     "data": {
      "text/plain": [
       "customer_city                          customer_state              \n",
       "alta floresta d'oeste                  RO                              34.0\n",
       "ariquemes                              RO                              32.0\n",
       "cabixi                                 RO                              38.0\n",
       "cacoal                                 RO                              33.0\n",
       "cerejeiras                             RO                              34.0\n",
       "                                                                       ... \n",
       "taquara - parobé - igrejinha           RS                              36.0\n",
       "tramandaí - osório                     RS                              38.0\n",
       "internacional de uruguaiana            Brasil                          35.0\n",
       "internacional de corumbá               Brasil                          31.0\n",
       "internacional de pedro juan caballero  Paraguai - Ponta Porã/Brasil    30.0\n",
       "Name: Median age, Length: 5590, dtype: float64"
      ]
     },
     "execution_count": 63,
     "metadata": {},
     "output_type": "execute_result"
    }
   ],
   "source": [
    "series_median_age"
   ]
  },
  {
   "cell_type": "code",
   "execution_count": 64,
   "id": "0dd76349",
   "metadata": {},
   "outputs": [
    {
     "data": {
      "text/plain": [
       "customer_city                          customer_state              \n",
       "alta floresta d'oeste                  RO                              101.82\n",
       "ariquemes                              RO                               98.25\n",
       "cabixi                                 RO                              102.15\n",
       "cacoal                                 RO                               95.93\n",
       "cerejeiras                             RO                               98.03\n",
       "                                                                        ...  \n",
       "taquara - parobé - igrejinha           RS                               95.17\n",
       "tramandaí - osório                     RS                               93.09\n",
       "internacional de uruguaiana            Brasil                           92.90\n",
       "internacional de corumbá               Brasil                           98.13\n",
       "internacional de pedro juan caballero  Paraguai - Ponta Porã/Brasil     95.08\n",
       "Name: sex ratio, Length: 5590, dtype: float64"
      ]
     },
     "execution_count": 64,
     "metadata": {},
     "output_type": "execute_result"
    }
   ],
   "source": [
    "series_sex_ratio"
   ]
  },
  {
   "cell_type": "code",
   "execution_count": 65,
   "id": "5c691fed",
   "metadata": {},
   "outputs": [],
   "source": [
    "#for existing city-state records in olist customers dataset following columns,\n",
    "#aging_index,Median_age,sex_ratio are mapped from the series generated above from final_merge_df\n",
    "olist_customers_dataset['aging_index'] = olist_customers_dataset.apply(lambda row: series_age_index.get((row['customer_city'], row['customer_state']), None), axis=1)\n",
    "olist_customers_dataset['Median_age'] = olist_customers_dataset.apply(lambda row: series_median_age.get((row['customer_city'], row['customer_state']), None), axis=1)\n",
    "olist_customers_dataset['sex_ratio'] = olist_customers_dataset.apply(lambda row: series_sex_ratio.get((row['customer_city'], row['customer_state']), None), axis=1)"
   ]
  },
  {
   "cell_type": "code",
   "execution_count": 66,
   "id": "c6921484",
   "metadata": {},
   "outputs": [
    {
     "data": {
      "text/plain": [
       "customer_id                     0\n",
       "customer_unique_id              0\n",
       "customer_zip_code_prefix        0\n",
       "customer_city                   0\n",
       "customer_state                  0\n",
       "aging_index                 46903\n",
       "Median_age                  46903\n",
       "sex_ratio                   46903\n",
       "dtype: int64"
      ]
     },
     "execution_count": 66,
     "metadata": {},
     "output_type": "execute_result"
    }
   ],
   "source": [
    "olist_customers_dataset.isnull().sum()"
   ]
  },
  {
   "cell_type": "code",
   "execution_count": 67,
   "id": "2d90c05e",
   "metadata": {},
   "outputs": [
    {
     "data": {
      "text/html": [
       "<div>\n",
       "<style scoped>\n",
       "    .dataframe tbody tr th:only-of-type {\n",
       "        vertical-align: middle;\n",
       "    }\n",
       "\n",
       "    .dataframe tbody tr th {\n",
       "        vertical-align: top;\n",
       "    }\n",
       "\n",
       "    .dataframe thead th {\n",
       "        text-align: right;\n",
       "    }\n",
       "</style>\n",
       "<table border=\"1\" class=\"dataframe\">\n",
       "  <thead>\n",
       "    <tr style=\"text-align: right;\">\n",
       "      <th></th>\n",
       "      <th>customer_city</th>\n",
       "      <th>aging index</th>\n",
       "      <th>Median age</th>\n",
       "      <th>sex ratio</th>\n",
       "      <th>_merge</th>\n",
       "      <th>customer_state</th>\n",
       "      <th>records_per_city</th>\n",
       "    </tr>\n",
       "  </thead>\n",
       "  <tbody>\n",
       "    <tr>\n",
       "      <th>1787</th>\n",
       "      <td>aracaju</td>\n",
       "      <td>48.76</td>\n",
       "      <td>34.0</td>\n",
       "      <td>86.235</td>\n",
       "      <td>both</td>\n",
       "      <td>SE</td>\n",
       "      <td>2</td>\n",
       "    </tr>\n",
       "  </tbody>\n",
       "</table>\n",
       "</div>"
      ],
      "text/plain": [
       "     customer_city  aging index  Median age  sex ratio _merge customer_state  \\\n",
       "1787       aracaju        48.76        34.0     86.235   both             SE   \n",
       "\n",
       "      records_per_city  \n",
       "1787                 2  "
      ]
     },
     "execution_count": 67,
     "metadata": {},
     "output_type": "execute_result"
    }
   ],
   "source": [
    "final_merged_df[final_merged_df['customer_city'] == 'aracaju']"
   ]
  },
  {
   "cell_type": "code",
   "execution_count": 68,
   "id": "30c159ef",
   "metadata": {},
   "outputs": [],
   "source": [
    "common_cities = set(olist_customers_dataset['customer_city'].unique()).intersection(set(final_merged_df['customer_city'].unique()))"
   ]
  },
  {
   "cell_type": "code",
   "execution_count": 69,
   "id": "94507f44",
   "metadata": {},
   "outputs": [],
   "source": [
    "common_state = set(olist_customers_dataset['customer_state'].unique()).intersection(set(final_merged_df['customer_state'].unique()))"
   ]
  },
  {
   "cell_type": "code",
   "execution_count": 70,
   "id": "e90dc6ae",
   "metadata": {},
   "outputs": [
    {
     "data": {
      "text/plain": [
       "((5590, 2), (5590, 2))"
      ]
     },
     "execution_count": 70,
     "metadata": {},
     "output_type": "execute_result"
    }
   ],
   "source": [
    "final_merged_df[['customer_city','customer_state']].shape,final_merged_df[['customer_city','customer_state']].drop_duplicates().shape"
   ]
  },
  {
   "cell_type": "code",
   "execution_count": 71,
   "id": "7a82848f",
   "metadata": {},
   "outputs": [],
   "source": [
    "common_cities_states = set(olist_customers_dataset[['customer_city','customer_state']]).intersection(set(final_merged_df[['customer_city','customer_state']]))"
   ]
  },
  {
   "cell_type": "code",
   "execution_count": 72,
   "id": "07c1ad53",
   "metadata": {},
   "outputs": [
    {
     "data": {
      "text/plain": [
       "27"
      ]
     },
     "execution_count": 72,
     "metadata": {},
     "output_type": "execute_result"
    }
   ],
   "source": [
    "len(common_state)"
   ]
  },
  {
   "cell_type": "code",
   "execution_count": 73,
   "id": "fe4ab388",
   "metadata": {},
   "outputs": [
    {
     "data": {
      "text/plain": [
       "2233"
      ]
     },
     "execution_count": 73,
     "metadata": {},
     "output_type": "execute_result"
    }
   ],
   "source": [
    "len(common_cities)"
   ]
  },
  {
   "cell_type": "code",
   "execution_count": 74,
   "id": "99962a1e",
   "metadata": {},
   "outputs": [
    {
     "data": {
      "text/plain": [
       "0.5421218742413207"
      ]
     },
     "execution_count": 74,
     "metadata": {},
     "output_type": "execute_result"
    }
   ],
   "source": [
    "len(common_cities)/olist_customers_dataset['customer_city'].nunique() \n",
    "#for 54% cities in consumer dataset we have demographic information available"
   ]
  },
  {
   "cell_type": "code",
   "execution_count": 75,
   "id": "aa994dbc",
   "metadata": {},
   "outputs": [
    {
     "data": {
      "text/plain": [
       "1.0"
      ]
     },
     "execution_count": 75,
     "metadata": {},
     "output_type": "execute_result"
    }
   ],
   "source": [
    "len(common_state)/olist_customers_dataset['customer_state'].nunique() \n",
    "#for all states in consumer dataset we have demographic information available"
   ]
  },
  {
   "cell_type": "code",
   "execution_count": 76,
   "id": "f8a94331",
   "metadata": {},
   "outputs": [
    {
     "data": {
      "text/plain": [
       "2"
      ]
     },
     "execution_count": 76,
     "metadata": {},
     "output_type": "execute_result"
    }
   ],
   "source": [
    "len(common_cities_states)"
   ]
  },
  {
   "cell_type": "code",
   "execution_count": 77,
   "id": "b5a810d5",
   "metadata": {},
   "outputs": [],
   "source": [
    "final_merged_df.to_csv(\"C:/Users/akankshasaxena3/Downloads/olist/demographic_brasil.csv\")"
   ]
  },
  {
   "cell_type": "code",
   "execution_count": 78,
   "id": "010ac8b9",
   "metadata": {},
   "outputs": [],
   "source": [
    "state_grouped_aging_index = final_merged_df.groupby('customer_state')['aging index'].mean()\n",
    "state_grouped_Median_age = final_merged_df.groupby('customer_state')['Median age'].mean()\n",
    "state_grouped_sex_ratio = final_merged_df.groupby('customer_state')['sex ratio'].mean()"
   ]
  },
  {
   "cell_type": "code",
   "execution_count": 79,
   "id": "c2a65bd5",
   "metadata": {},
   "outputs": [
    {
     "data": {
      "text/plain": [
       "customer_state\n",
       "AC                                    20.792727\n",
       "AL                                    38.762647\n",
       "AM                                    17.520645\n",
       "AP                                    16.820937\n",
       "BA                                    58.436115\n",
       "Brasil                                46.705000\n",
       "Brasil - Ciudad del Este/Paraguai     43.780000\n",
       "Brasil - Rivera/Uruguai               75.610000\n",
       "CE                                    55.382310\n",
       "DF                                    42.745000\n",
       "ES                                    65.530000\n",
       "GO                                    65.823679\n",
       "MA                                    35.252742\n",
       "MG                                    78.079244\n",
       "MS                                    45.086329\n",
       "MT                                    40.264539\n",
       "PA                                    27.800035\n",
       "PB                                    59.317803\n",
       "PE                                    47.680027\n",
       "PE - Juazeiro/BA                      29.100000\n",
       "PI                                    57.567254\n",
       "PR                                    67.533835\n",
       "Paraguai - Ponta Porã/Brasil          34.030000\n",
       "RJ                                    71.878632\n",
       "RN                                    59.088533\n",
       "RO                                    44.850288\n",
       "RR                                    16.793333\n",
       "RS                                   105.875621\n",
       "SC                                    68.349295\n",
       "SE                                    43.251467\n",
       "SP                                    75.209109\n",
       "TO                                    45.128345\n",
       "Name: aging index, dtype: float64"
      ]
     },
     "execution_count": 79,
     "metadata": {},
     "output_type": "execute_result"
    }
   ],
   "source": [
    "state_grouped_aging_index"
   ]
  },
  {
   "cell_type": "code",
   "execution_count": 80,
   "id": "1fb0e954",
   "metadata": {},
   "outputs": [
    {
     "data": {
      "text/plain": [
       "Index(['customer_id', 'customer_unique_id', 'customer_zip_code_prefix',\n",
       "       'customer_city', 'customer_state', 'aging_index', 'Median_age',\n",
       "       'sex_ratio'],\n",
       "      dtype='object')"
      ]
     },
     "execution_count": 80,
     "metadata": {},
     "output_type": "execute_result"
    }
   ],
   "source": [
    "olist_customers_dataset.columns"
   ]
  },
  {
   "cell_type": "code",
   "execution_count": 81,
   "id": "512817a8",
   "metadata": {},
   "outputs": [],
   "source": [
    "# null values in columns: aging_index,Median_age,sex_ratio, are filled with avergae across states\n",
    "olist_customers_dataset['aging_index'] = olist_customers_dataset.apply(\n",
    "        lambda row: state_grouped_aging_index[row['customer_state']] if pd.isna(row['aging_index']) else row['aging_index'], \n",
    "        axis=1\n",
    "    )\n",
    "olist_customers_dataset['Median_age'] = olist_customers_dataset.apply(\n",
    "        lambda row: state_grouped_Median_age[row['customer_state']] if pd.isna(row['Median_age']) else row['Median_age'], \n",
    "        axis=1\n",
    "    )\n",
    "olist_customers_dataset['sex_ratio'] = olist_customers_dataset.apply(\n",
    "        lambda row: state_grouped_sex_ratio[row['customer_state']] if pd.isna(row['sex_ratio']) else row['sex_ratio'], \n",
    "        axis=1\n",
    "    )"
   ]
  },
  {
   "cell_type": "code",
   "execution_count": 82,
   "id": "0ba0c05b",
   "metadata": {},
   "outputs": [
    {
     "data": {
      "text/plain": [
       "customer_id                 0\n",
       "customer_unique_id          0\n",
       "customer_zip_code_prefix    0\n",
       "customer_city               0\n",
       "customer_state              0\n",
       "aging_index                 0\n",
       "Median_age                  0\n",
       "sex_ratio                   0\n",
       "dtype: int64"
      ]
     },
     "execution_count": 82,
     "metadata": {},
     "output_type": "execute_result"
    }
   ],
   "source": [
    "olist_customers_dataset.isnull().sum()"
   ]
  },
  {
   "cell_type": "code",
   "execution_count": 83,
   "id": "1521e70c",
   "metadata": {},
   "outputs": [
    {
     "data": {
      "text/plain": [
       "(99441, 8)"
      ]
     },
     "execution_count": 83,
     "metadata": {},
     "output_type": "execute_result"
    }
   ],
   "source": [
    "olist_customers_dataset.shape"
   ]
  },
  {
   "cell_type": "code",
   "execution_count": 84,
   "id": "a862f54c",
   "metadata": {},
   "outputs": [],
   "source": [
    "olist_customers_dataset.to_csv(\"C:/Users/akankshasaxena3/Downloads/olist/cleaned_consumer_df.csv\")"
   ]
  },
  {
   "cell_type": "markdown",
   "id": "974f385f",
   "metadata": {},
   "source": [
    "## Integration of SIDRA data to Olist Data"
   ]
  },
  {
   "cell_type": "markdown",
   "id": "d28abe6c",
   "metadata": {},
   "source": [
    "### Preparation of Olist data for customer transaction information"
   ]
  },
  {
   "cell_type": "markdown",
   "id": "d0607747",
   "metadata": {},
   "source": [
    "In this section I use two datasets from Olist which are integrated to provide customer transaction information. These datasets are as follows:\n",
    "\n",
    "1.olist_orders_dataset: contains order information, which order was placed by which consumer and at what time. Addtionally it contains information about order status also, which is essential in estimating consuemr purchase probabilty. However this dataset doesnt provide information on which order contains which products. This is where the second olist_order_items_dataset is needed.\n",
    "\n",
    "2.olist_order_items_dataset: This dataset contains information about what products are sold in each order placed by customer. There is also additional information like price ,freight value and seller of each product but is not necessary for our analysis, so is dropped from further analysis."
   ]
  },
  {
   "cell_type": "code",
   "execution_count": 85,
   "id": "c75e85de",
   "metadata": {},
   "outputs": [
    {
     "data": {
      "text/plain": [
       "((99441, 8), (112650, 7), (112650, 7))"
      ]
     },
     "execution_count": 85,
     "metadata": {},
     "output_type": "execute_result"
    }
   ],
   "source": [
    "olist_orders_dataset.shape,olist_order_items_dataset.shape,olist_order_items_dataset.drop_duplicates().shape"
   ]
  },
  {
   "cell_type": "code",
   "execution_count": 86,
   "id": "557adda0",
   "metadata": {},
   "outputs": [
    {
     "data": {
      "text/plain": [
       "order_id                            0\n",
       "customer_id                         0\n",
       "order_status                        0\n",
       "order_purchase_timestamp            0\n",
       "order_approved_at                 160\n",
       "order_delivered_carrier_date     1783\n",
       "order_delivered_customer_date    2965\n",
       "order_estimated_delivery_date       0\n",
       "dtype: int64"
      ]
     },
     "execution_count": 86,
     "metadata": {},
     "output_type": "execute_result"
    }
   ],
   "source": [
    "olist_orders_dataset.isnull().sum()"
   ]
  },
  {
   "cell_type": "code",
   "execution_count": 87,
   "id": "a4e1a475",
   "metadata": {},
   "outputs": [],
   "source": [
    "olist_orders_dataset.drop(['order_approved_at', 'order_delivered_carrier_date','order_delivered_customer_date'], axis=1, inplace=True)"
   ]
  },
  {
   "cell_type": "code",
   "execution_count": 88,
   "id": "1e87e51c",
   "metadata": {},
   "outputs": [
    {
     "data": {
      "text/plain": [
       "order_id                         0\n",
       "customer_id                      0\n",
       "order_status                     0\n",
       "order_purchase_timestamp         0\n",
       "order_estimated_delivery_date    0\n",
       "dtype: int64"
      ]
     },
     "execution_count": 88,
     "metadata": {},
     "output_type": "execute_result"
    }
   ],
   "source": [
    "olist_orders_dataset.isnull().sum()"
   ]
  },
  {
   "cell_type": "code",
   "execution_count": 89,
   "id": "c6df8634",
   "metadata": {},
   "outputs": [
    {
     "data": {
      "text/plain": [
       "((99441, 5), (99441, 5))"
      ]
     },
     "execution_count": 89,
     "metadata": {},
     "output_type": "execute_result"
    }
   ],
   "source": [
    "olist_orders_dataset.shape,olist_orders_dataset.drop_duplicates().shape"
   ]
  },
  {
   "cell_type": "code",
   "execution_count": 90,
   "id": "6cab738f",
   "metadata": {},
   "outputs": [
    {
     "data": {
      "text/plain": [
       "(99441,)"
      ]
     },
     "execution_count": 90,
     "metadata": {},
     "output_type": "execute_result"
    }
   ],
   "source": [
    "olist_orders_dataset['order_id'].drop_duplicates().shape"
   ]
  },
  {
   "cell_type": "code",
   "execution_count": 91,
   "id": "df00bf19",
   "metadata": {},
   "outputs": [
    {
     "data": {
      "text/plain": [
       "(99441,)"
      ]
     },
     "execution_count": 91,
     "metadata": {},
     "output_type": "execute_result"
    }
   ],
   "source": [
    "olist_orders_dataset['customer_id'].drop_duplicates().shape"
   ]
  },
  {
   "cell_type": "code",
   "execution_count": 92,
   "id": "97271923",
   "metadata": {},
   "outputs": [
    {
     "data": {
      "text/plain": [
       "(99441, 2)"
      ]
     },
     "execution_count": 92,
     "metadata": {},
     "output_type": "execute_result"
    }
   ],
   "source": [
    "olist_orders_dataset[['customer_id','order_id']].drop_duplicates().shape"
   ]
  },
  {
   "cell_type": "code",
   "execution_count": 93,
   "id": "1af5920a",
   "metadata": {},
   "outputs": [
    {
     "data": {
      "text/plain": [
       "(634,)"
      ]
     },
     "execution_count": 93,
     "metadata": {},
     "output_type": "execute_result"
    }
   ],
   "source": [
    "olist_orders_dataset['order_purchase_timestamp'].drop_duplicates().shape"
   ]
  },
  {
   "cell_type": "code",
   "execution_count": 94,
   "id": "ae1d19e8",
   "metadata": {},
   "outputs": [
    {
     "data": {
      "text/plain": [
       "order_id               0\n",
       "order_item_id          0\n",
       "product_id             0\n",
       "seller_id              0\n",
       "shipping_limit_date    0\n",
       "price                  0\n",
       "freight_value          0\n",
       "dtype: int64"
      ]
     },
     "execution_count": 94,
     "metadata": {},
     "output_type": "execute_result"
    }
   ],
   "source": [
    "olist_order_items_dataset.isnull().sum()"
   ]
  },
  {
   "cell_type": "code",
   "execution_count": 95,
   "id": "0423a6bd",
   "metadata": {},
   "outputs": [
    {
     "data": {
      "text/plain": [
       "((112650, 7), (112650, 7))"
      ]
     },
     "execution_count": 95,
     "metadata": {},
     "output_type": "execute_result"
    }
   ],
   "source": [
    "olist_order_items_dataset.drop_duplicates().shape,olist_order_items_dataset.shape"
   ]
  },
  {
   "cell_type": "code",
   "execution_count": 96,
   "id": "92a7e205",
   "metadata": {},
   "outputs": [
    {
     "data": {
      "text/plain": [
       "(98666, (98666,))"
      ]
     },
     "execution_count": 96,
     "metadata": {},
     "output_type": "execute_result"
    }
   ],
   "source": [
    "olist_order_items_dataset['order_id'].nunique(),olist_order_items_dataset['order_id'].drop_duplicates().shape"
   ]
  },
  {
   "cell_type": "code",
   "execution_count": 97,
   "id": "f11f8588",
   "metadata": {},
   "outputs": [
    {
     "data": {
      "text/plain": [
       "32951"
      ]
     },
     "execution_count": 97,
     "metadata": {},
     "output_type": "execute_result"
    }
   ],
   "source": [
    "olist_order_items_dataset['product_id'].nunique()"
   ]
  },
  {
   "cell_type": "code",
   "execution_count": 98,
   "id": "b5337d7f",
   "metadata": {},
   "outputs": [
    {
     "data": {
      "text/plain": [
       "(102425, 2)"
      ]
     },
     "execution_count": 98,
     "metadata": {},
     "output_type": "execute_result"
    }
   ],
   "source": [
    "olist_order_items_dataset[['order_id','product_id']].drop_duplicates().shape"
   ]
  },
  {
   "cell_type": "code",
   "execution_count": 99,
   "id": "43310df3",
   "metadata": {},
   "outputs": [
    {
     "data": {
      "text/plain": [
       "(112650, 3)"
      ]
     },
     "execution_count": 99,
     "metadata": {},
     "output_type": "execute_result"
    }
   ],
   "source": [
    "olist_order_items_dataset[['order_id','product_id','order_item_id']].drop_duplicates().shape"
   ]
  },
  {
   "cell_type": "code",
   "execution_count": 100,
   "id": "ee7caa99",
   "metadata": {},
   "outputs": [],
   "source": [
    "order_id_prod_id_combination = olist_order_items_dataset[['order_id','product_id']].drop_duplicates()"
   ]
  },
  {
   "cell_type": "code",
   "execution_count": 101,
   "id": "0cbdc35f",
   "metadata": {},
   "outputs": [],
   "source": [
    "order_id_with_existing_product_id = olist_orders_dataset[olist_orders_dataset['order_id'].isin(order_id_prod_id_combination['order_id'])]['order_id'].unique()"
   ]
  },
  {
   "cell_type": "code",
   "execution_count": 102,
   "id": "b1404c44",
   "metadata": {},
   "outputs": [
    {
     "data": {
      "text/plain": [
       "98666"
      ]
     },
     "execution_count": 102,
     "metadata": {},
     "output_type": "execute_result"
    }
   ],
   "source": [
    "len(order_id_with_existing_product_id)"
   ]
  },
  {
   "cell_type": "code",
   "execution_count": 103,
   "id": "839bb795",
   "metadata": {},
   "outputs": [],
   "source": [
    "olist_orders_dataset_filtered_df = olist_orders_dataset[olist_orders_dataset['order_id'].isin(order_id_with_existing_product_id)]\n",
    "#keeping only those consumer records for which product_id exists"
   ]
  },
  {
   "cell_type": "code",
   "execution_count": 104,
   "id": "40eb32d2",
   "metadata": {},
   "outputs": [
    {
     "data": {
      "text/html": [
       "<div>\n",
       "<style scoped>\n",
       "    .dataframe tbody tr th:only-of-type {\n",
       "        vertical-align: middle;\n",
       "    }\n",
       "\n",
       "    .dataframe tbody tr th {\n",
       "        vertical-align: top;\n",
       "    }\n",
       "\n",
       "    .dataframe thead th {\n",
       "        text-align: right;\n",
       "    }\n",
       "</style>\n",
       "<table border=\"1\" class=\"dataframe\">\n",
       "  <thead>\n",
       "    <tr style=\"text-align: right;\">\n",
       "      <th></th>\n",
       "      <th>order_id</th>\n",
       "      <th>customer_id</th>\n",
       "      <th>order_status</th>\n",
       "      <th>order_purchase_timestamp</th>\n",
       "      <th>order_estimated_delivery_date</th>\n",
       "    </tr>\n",
       "  </thead>\n",
       "  <tbody>\n",
       "    <tr>\n",
       "      <th>0</th>\n",
       "      <td>e481f51cbdc54678b7cc49136f2d6af7</td>\n",
       "      <td>9ef432eb6251297304e76186b10a928d</td>\n",
       "      <td>delivered</td>\n",
       "      <td>2017-10-02</td>\n",
       "      <td>2017-10-18 00:00:00</td>\n",
       "    </tr>\n",
       "    <tr>\n",
       "      <th>1</th>\n",
       "      <td>53cdb2fc8bc7dce0b6741e2150273451</td>\n",
       "      <td>b0830fb4747a6c6d20dea0b8c802d7ef</td>\n",
       "      <td>delivered</td>\n",
       "      <td>2018-07-24</td>\n",
       "      <td>2018-08-13 00:00:00</td>\n",
       "    </tr>\n",
       "    <tr>\n",
       "      <th>2</th>\n",
       "      <td>47770eb9100c2d0c44946d9cf07ec65d</td>\n",
       "      <td>41ce2a54c0b03bf3443c3d931a367089</td>\n",
       "      <td>delivered</td>\n",
       "      <td>2018-08-08</td>\n",
       "      <td>2018-09-04 00:00:00</td>\n",
       "    </tr>\n",
       "    <tr>\n",
       "      <th>3</th>\n",
       "      <td>949d5b44dbf5de918fe9c16f97b45f8a</td>\n",
       "      <td>f88197465ea7920adcdbec7375364d82</td>\n",
       "      <td>delivered</td>\n",
       "      <td>2017-11-18</td>\n",
       "      <td>2017-12-15 00:00:00</td>\n",
       "    </tr>\n",
       "    <tr>\n",
       "      <th>4</th>\n",
       "      <td>ad21c59c0840e6cb83a9ceb5573f8159</td>\n",
       "      <td>8ab97904e6daea8866dbdbc4fb7aad2c</td>\n",
       "      <td>delivered</td>\n",
       "      <td>2018-02-13</td>\n",
       "      <td>2018-02-26 00:00:00</td>\n",
       "    </tr>\n",
       "    <tr>\n",
       "      <th>...</th>\n",
       "      <td>...</td>\n",
       "      <td>...</td>\n",
       "      <td>...</td>\n",
       "      <td>...</td>\n",
       "      <td>...</td>\n",
       "    </tr>\n",
       "    <tr>\n",
       "      <th>99436</th>\n",
       "      <td>9c5dedf39a927c1b2549525ed64a053c</td>\n",
       "      <td>39bd1228ee8140590ac3aca26f2dfe00</td>\n",
       "      <td>delivered</td>\n",
       "      <td>2017-03-09</td>\n",
       "      <td>2017-03-28 00:00:00</td>\n",
       "    </tr>\n",
       "    <tr>\n",
       "      <th>99437</th>\n",
       "      <td>63943bddc261676b46f01ca7ac2f7bd8</td>\n",
       "      <td>1fca14ff2861355f6e5f14306ff977a7</td>\n",
       "      <td>delivered</td>\n",
       "      <td>2018-02-06</td>\n",
       "      <td>2018-03-02 00:00:00</td>\n",
       "    </tr>\n",
       "    <tr>\n",
       "      <th>99438</th>\n",
       "      <td>83c1379a015df1e13d02aae0204711ab</td>\n",
       "      <td>1aa71eb042121263aafbe80c1b562c9c</td>\n",
       "      <td>delivered</td>\n",
       "      <td>2017-08-27</td>\n",
       "      <td>2017-09-27 00:00:00</td>\n",
       "    </tr>\n",
       "    <tr>\n",
       "      <th>99439</th>\n",
       "      <td>11c177c8e97725db2631073c19f07b62</td>\n",
       "      <td>b331b74b18dc79bcdf6532d51e1637c1</td>\n",
       "      <td>delivered</td>\n",
       "      <td>2018-01-08</td>\n",
       "      <td>2018-02-15 00:00:00</td>\n",
       "    </tr>\n",
       "    <tr>\n",
       "      <th>99440</th>\n",
       "      <td>66dea50a8b16d9b4dee7af250b4be1a5</td>\n",
       "      <td>edb027a75a1449115f6b43211ae02a24</td>\n",
       "      <td>delivered</td>\n",
       "      <td>2018-03-08</td>\n",
       "      <td>2018-04-03 00:00:00</td>\n",
       "    </tr>\n",
       "  </tbody>\n",
       "</table>\n",
       "<p>98666 rows × 5 columns</p>\n",
       "</div>"
      ],
      "text/plain": [
       "                               order_id                       customer_id  \\\n",
       "0      e481f51cbdc54678b7cc49136f2d6af7  9ef432eb6251297304e76186b10a928d   \n",
       "1      53cdb2fc8bc7dce0b6741e2150273451  b0830fb4747a6c6d20dea0b8c802d7ef   \n",
       "2      47770eb9100c2d0c44946d9cf07ec65d  41ce2a54c0b03bf3443c3d931a367089   \n",
       "3      949d5b44dbf5de918fe9c16f97b45f8a  f88197465ea7920adcdbec7375364d82   \n",
       "4      ad21c59c0840e6cb83a9ceb5573f8159  8ab97904e6daea8866dbdbc4fb7aad2c   \n",
       "...                                 ...                               ...   \n",
       "99436  9c5dedf39a927c1b2549525ed64a053c  39bd1228ee8140590ac3aca26f2dfe00   \n",
       "99437  63943bddc261676b46f01ca7ac2f7bd8  1fca14ff2861355f6e5f14306ff977a7   \n",
       "99438  83c1379a015df1e13d02aae0204711ab  1aa71eb042121263aafbe80c1b562c9c   \n",
       "99439  11c177c8e97725db2631073c19f07b62  b331b74b18dc79bcdf6532d51e1637c1   \n",
       "99440  66dea50a8b16d9b4dee7af250b4be1a5  edb027a75a1449115f6b43211ae02a24   \n",
       "\n",
       "      order_status order_purchase_timestamp order_estimated_delivery_date  \n",
       "0        delivered               2017-10-02           2017-10-18 00:00:00  \n",
       "1        delivered               2018-07-24           2018-08-13 00:00:00  \n",
       "2        delivered               2018-08-08           2018-09-04 00:00:00  \n",
       "3        delivered               2017-11-18           2017-12-15 00:00:00  \n",
       "4        delivered               2018-02-13           2018-02-26 00:00:00  \n",
       "...            ...                      ...                           ...  \n",
       "99436    delivered               2017-03-09           2017-03-28 00:00:00  \n",
       "99437    delivered               2018-02-06           2018-03-02 00:00:00  \n",
       "99438    delivered               2017-08-27           2017-09-27 00:00:00  \n",
       "99439    delivered               2018-01-08           2018-02-15 00:00:00  \n",
       "99440    delivered               2018-03-08           2018-04-03 00:00:00  \n",
       "\n",
       "[98666 rows x 5 columns]"
      ]
     },
     "execution_count": 104,
     "metadata": {},
     "output_type": "execute_result"
    }
   ],
   "source": [
    "olist_orders_dataset_filtered_df"
   ]
  },
  {
   "cell_type": "code",
   "execution_count": 105,
   "id": "46b6928e",
   "metadata": {},
   "outputs": [
    {
     "data": {
      "text/html": [
       "<div>\n",
       "<style scoped>\n",
       "    .dataframe tbody tr th:only-of-type {\n",
       "        vertical-align: middle;\n",
       "    }\n",
       "\n",
       "    .dataframe tbody tr th {\n",
       "        vertical-align: top;\n",
       "    }\n",
       "\n",
       "    .dataframe thead th {\n",
       "        text-align: right;\n",
       "    }\n",
       "</style>\n",
       "<table border=\"1\" class=\"dataframe\">\n",
       "  <thead>\n",
       "    <tr style=\"text-align: right;\">\n",
       "      <th></th>\n",
       "      <th>order_id</th>\n",
       "      <th>product_id</th>\n",
       "    </tr>\n",
       "  </thead>\n",
       "  <tbody>\n",
       "    <tr>\n",
       "      <th>0</th>\n",
       "      <td>00010242fe8c5a6d1ba2dd792cb16214</td>\n",
       "      <td>4244733e06e7ecb4970a6e2683c13e61</td>\n",
       "    </tr>\n",
       "    <tr>\n",
       "      <th>1</th>\n",
       "      <td>00018f77f2f0320c557190d7a144bdd3</td>\n",
       "      <td>e5f2d52b802189ee658865ca93d83a8f</td>\n",
       "    </tr>\n",
       "    <tr>\n",
       "      <th>2</th>\n",
       "      <td>000229ec398224ef6ca0657da4fc703e</td>\n",
       "      <td>c777355d18b72b67abbeef9df44fd0fd</td>\n",
       "    </tr>\n",
       "    <tr>\n",
       "      <th>3</th>\n",
       "      <td>00024acbcdf0a6daa1e931b038114c75</td>\n",
       "      <td>7634da152a4610f1595efa32f14722fc</td>\n",
       "    </tr>\n",
       "    <tr>\n",
       "      <th>4</th>\n",
       "      <td>00042b26cf59d7ce69dfabb4e55b4fd9</td>\n",
       "      <td>ac6c3623068f30de03045865e4e10089</td>\n",
       "    </tr>\n",
       "    <tr>\n",
       "      <th>...</th>\n",
       "      <td>...</td>\n",
       "      <td>...</td>\n",
       "    </tr>\n",
       "    <tr>\n",
       "      <th>112645</th>\n",
       "      <td>fffc94f6ce00a00581880bf54a75a037</td>\n",
       "      <td>4aa6014eceb682077f9dc4bffebc05b0</td>\n",
       "    </tr>\n",
       "    <tr>\n",
       "      <th>112646</th>\n",
       "      <td>fffcd46ef2263f404302a634eb57f7eb</td>\n",
       "      <td>32e07fd915822b0765e448c4dd74c828</td>\n",
       "    </tr>\n",
       "    <tr>\n",
       "      <th>112647</th>\n",
       "      <td>fffce4705a9662cd70adb13d4a31832d</td>\n",
       "      <td>72a30483855e2eafc67aee5dc2560482</td>\n",
       "    </tr>\n",
       "    <tr>\n",
       "      <th>112648</th>\n",
       "      <td>fffe18544ffabc95dfada21779c9644f</td>\n",
       "      <td>9c422a519119dcad7575db5af1ba540e</td>\n",
       "    </tr>\n",
       "    <tr>\n",
       "      <th>112649</th>\n",
       "      <td>fffe41c64501cc87c801fd61db3f6244</td>\n",
       "      <td>350688d9dc1e75ff97be326363655e01</td>\n",
       "    </tr>\n",
       "  </tbody>\n",
       "</table>\n",
       "<p>102425 rows × 2 columns</p>\n",
       "</div>"
      ],
      "text/plain": [
       "                                order_id                        product_id\n",
       "0       00010242fe8c5a6d1ba2dd792cb16214  4244733e06e7ecb4970a6e2683c13e61\n",
       "1       00018f77f2f0320c557190d7a144bdd3  e5f2d52b802189ee658865ca93d83a8f\n",
       "2       000229ec398224ef6ca0657da4fc703e  c777355d18b72b67abbeef9df44fd0fd\n",
       "3       00024acbcdf0a6daa1e931b038114c75  7634da152a4610f1595efa32f14722fc\n",
       "4       00042b26cf59d7ce69dfabb4e55b4fd9  ac6c3623068f30de03045865e4e10089\n",
       "...                                  ...                               ...\n",
       "112645  fffc94f6ce00a00581880bf54a75a037  4aa6014eceb682077f9dc4bffebc05b0\n",
       "112646  fffcd46ef2263f404302a634eb57f7eb  32e07fd915822b0765e448c4dd74c828\n",
       "112647  fffce4705a9662cd70adb13d4a31832d  72a30483855e2eafc67aee5dc2560482\n",
       "112648  fffe18544ffabc95dfada21779c9644f  9c422a519119dcad7575db5af1ba540e\n",
       "112649  fffe41c64501cc87c801fd61db3f6244  350688d9dc1e75ff97be326363655e01\n",
       "\n",
       "[102425 rows x 2 columns]"
      ]
     },
     "execution_count": 105,
     "metadata": {},
     "output_type": "execute_result"
    }
   ],
   "source": [
    "order_id_prod_id_combination"
   ]
  },
  {
   "cell_type": "code",
   "execution_count": 106,
   "id": "e308ed96",
   "metadata": {},
   "outputs": [],
   "source": [
    "df_all_combi_consumer_prod_id = olist_orders_dataset_filtered_df.merge(order_id_prod_id_combination,on='order_id',how='outer')"
   ]
  },
  {
   "cell_type": "code",
   "execution_count": 107,
   "id": "52913c9f",
   "metadata": {},
   "outputs": [
    {
     "data": {
      "text/plain": [
       "(102425, 6)"
      ]
     },
     "execution_count": 107,
     "metadata": {},
     "output_type": "execute_result"
    }
   ],
   "source": [
    "df_all_combi_consumer_prod_id.shape"
   ]
  },
  {
   "cell_type": "code",
   "execution_count": 108,
   "id": "2db205b1",
   "metadata": {},
   "outputs": [
    {
     "data": {
      "text/plain": [
       "order_id                         0\n",
       "customer_id                      0\n",
       "order_status                     0\n",
       "order_purchase_timestamp         0\n",
       "order_estimated_delivery_date    0\n",
       "product_id                       0\n",
       "dtype: int64"
      ]
     },
     "execution_count": 108,
     "metadata": {},
     "output_type": "execute_result"
    }
   ],
   "source": [
    "df_all_combi_consumer_prod_id.isnull().sum()"
   ]
  },
  {
   "cell_type": "code",
   "execution_count": 109,
   "id": "2db1a499",
   "metadata": {},
   "outputs": [
    {
     "data": {
      "text/plain": [
       "((102425,), (98666,))"
      ]
     },
     "execution_count": 109,
     "metadata": {},
     "output_type": "execute_result"
    }
   ],
   "source": [
    "df_all_combi_consumer_prod_id['order_id'].shape,df_all_combi_consumer_prod_id['order_id'].drop_duplicates().shape"
   ]
  },
  {
   "cell_type": "code",
   "execution_count": 110,
   "id": "99ad1bc0",
   "metadata": {},
   "outputs": [
    {
     "data": {
      "text/plain": [
       "(102425, 6)"
      ]
     },
     "execution_count": 110,
     "metadata": {},
     "output_type": "execute_result"
    }
   ],
   "source": [
    "df_all_combi_consumer_prod_id.shape"
   ]
  },
  {
   "cell_type": "code",
   "execution_count": 111,
   "id": "44e60821",
   "metadata": {},
   "outputs": [
    {
     "data": {
      "text/plain": [
       "order_id                         0\n",
       "customer_id                      0\n",
       "order_status                     0\n",
       "order_purchase_timestamp         0\n",
       "order_estimated_delivery_date    0\n",
       "product_id                       0\n",
       "dtype: int64"
      ]
     },
     "execution_count": 111,
     "metadata": {},
     "output_type": "execute_result"
    }
   ],
   "source": [
    "df_all_combi_consumer_prod_id.isnull().sum()"
   ]
  },
  {
   "cell_type": "code",
   "execution_count": 112,
   "id": "4f7778ab",
   "metadata": {},
   "outputs": [
    {
     "data": {
      "text/plain": [
       "delivered      100196\n",
       "shipped          1127\n",
       "canceled          465\n",
       "invoiced          322\n",
       "processing        306\n",
       "unavailable         7\n",
       "approved            2\n",
       "Name: order_status, dtype: int64"
      ]
     },
     "execution_count": 112,
     "metadata": {},
     "output_type": "execute_result"
    }
   ],
   "source": [
    "df_all_combi_consumer_prod_id['order_status'].value_counts()"
   ]
  },
  {
   "cell_type": "code",
   "execution_count": 113,
   "id": "3c190107",
   "metadata": {},
   "outputs": [],
   "source": [
    "df_all_combi_consumer_prod_id = df_all_combi_consumer_prod_id.sort_values(\"order_purchase_timestamp\")"
   ]
  },
  {
   "cell_type": "code",
   "execution_count": 114,
   "id": "f351e81a",
   "metadata": {},
   "outputs": [],
   "source": [
    "df_all_combi_consumer_prod_id['purchase_proba'] = df_all_combi_consumer_prod_id['order_status'].apply(lambda x: 0 if x in ['canceled', 'unavailable'] else 1)"
   ]
  },
  {
   "cell_type": "code",
   "execution_count": 115,
   "id": "a51159b7",
   "metadata": {},
   "outputs": [
    {
     "data": {
      "text/plain": [
       "order_id                         0\n",
       "customer_id                      0\n",
       "order_status                     0\n",
       "order_purchase_timestamp         0\n",
       "order_estimated_delivery_date    0\n",
       "product_id                       0\n",
       "purchase_proba                   0\n",
       "dtype: int64"
      ]
     },
     "execution_count": 115,
     "metadata": {},
     "output_type": "execute_result"
    }
   ],
   "source": [
    "df_all_combi_consumer_prod_id.isnull().sum()"
   ]
  },
  {
   "cell_type": "code",
   "execution_count": 116,
   "id": "fec4a8da",
   "metadata": {},
   "outputs": [
    {
     "data": {
      "text/plain": [
       "1    101953\n",
       "0       472\n",
       "Name: purchase_proba, dtype: int64"
      ]
     },
     "execution_count": 116,
     "metadata": {},
     "output_type": "execute_result"
    }
   ],
   "source": [
    "df_all_combi_consumer_prod_id['purchase_proba'].value_counts()\n",
    "#imbalanced dataset"
   ]
  },
  {
   "cell_type": "code",
   "execution_count": 117,
   "id": "5e253144",
   "metadata": {},
   "outputs": [
    {
     "data": {
      "text/plain": [
       "(99441, 8)"
      ]
     },
     "execution_count": 117,
     "metadata": {},
     "output_type": "execute_result"
    }
   ],
   "source": [
    "olist_customers_dataset.shape"
   ]
  },
  {
   "cell_type": "code",
   "execution_count": 118,
   "id": "9c42b7cd",
   "metadata": {},
   "outputs": [
    {
     "name": "stdout",
     "output_type": "stream",
     "text": [
      "<class 'pandas.core.frame.DataFrame'>\n",
      "RangeIndex: 99441 entries, 0 to 99440\n",
      "Data columns (total 8 columns):\n",
      " #   Column                    Non-Null Count  Dtype  \n",
      "---  ------                    --------------  -----  \n",
      " 0   customer_id               99441 non-null  object \n",
      " 1   customer_unique_id        99441 non-null  object \n",
      " 2   customer_zip_code_prefix  99441 non-null  int64  \n",
      " 3   customer_city             99441 non-null  object \n",
      " 4   customer_state            99441 non-null  object \n",
      " 5   aging_index               99441 non-null  float64\n",
      " 6   Median_age                99441 non-null  float64\n",
      " 7   sex_ratio                 99441 non-null  float64\n",
      "dtypes: float64(3), int64(1), object(4)\n",
      "memory usage: 6.1+ MB\n"
     ]
    }
   ],
   "source": [
    "olist_customers_dataset.info()"
   ]
  },
  {
   "cell_type": "code",
   "execution_count": 119,
   "id": "5012e333",
   "metadata": {},
   "outputs": [
    {
     "data": {
      "text/plain": [
       "99441"
      ]
     },
     "execution_count": 119,
     "metadata": {},
     "output_type": "execute_result"
    }
   ],
   "source": [
    "olist_customers_dataset['customer_id'].nunique()"
   ]
  },
  {
   "cell_type": "code",
   "execution_count": 120,
   "id": "e665e775",
   "metadata": {},
   "outputs": [
    {
     "data": {
      "text/plain": [
       "98666"
      ]
     },
     "execution_count": 120,
     "metadata": {},
     "output_type": "execute_result"
    }
   ],
   "source": [
    "df_all_combi_consumer_prod_id['customer_id'].nunique()"
   ]
  },
  {
   "cell_type": "code",
   "execution_count": 121,
   "id": "ad9a0661",
   "metadata": {},
   "outputs": [],
   "source": [
    "common_consumer_id = set(olist_customers_dataset['customer_id'].unique()).intersection(set(df_all_combi_consumer_prod_id['customer_id'].unique()))"
   ]
  },
  {
   "cell_type": "code",
   "execution_count": 122,
   "id": "2d998e6e",
   "metadata": {},
   "outputs": [
    {
     "data": {
      "text/plain": [
       "98666"
      ]
     },
     "execution_count": 122,
     "metadata": {},
     "output_type": "execute_result"
    }
   ],
   "source": [
    "len(common_consumer_id)"
   ]
  },
  {
   "cell_type": "markdown",
   "id": "6a986ab3",
   "metadata": {},
   "source": [
    "### Integration of SIDRA With Olist customer transaction dataset"
   ]
  },
  {
   "cell_type": "markdown",
   "id": "fb134839",
   "metadata": {},
   "source": [
    "df_all_combi_consumer_prod_id: contains customer transaction information. It means that it shows what product is purchased by a customer and on which day. \n",
    "\n",
    "Next step is to integrate the SIDRA demograhic information for each consumer in this dataset. The SIDRA demographic information is available in olist_customers_dataset and hence this dataset is integrated with df_all_combi_consumer_prod_id."
   ]
  },
  {
   "cell_type": "code",
   "execution_count": 123,
   "id": "4d9c0e74",
   "metadata": {},
   "outputs": [],
   "source": [
    "final_consumer_df_2 = df_all_combi_consumer_prod_id.merge(olist_customers_dataset,on = 'customer_id',how = 'inner').drop_duplicates()"
   ]
  },
  {
   "cell_type": "code",
   "execution_count": 124,
   "id": "31b5b60a",
   "metadata": {},
   "outputs": [
    {
     "data": {
      "text/plain": [
       "98666"
      ]
     },
     "execution_count": 124,
     "metadata": {},
     "output_type": "execute_result"
    }
   ],
   "source": [
    "final_consumer_df_2['customer_id'].nunique()"
   ]
  },
  {
   "cell_type": "code",
   "execution_count": 125,
   "id": "e943a55b",
   "metadata": {},
   "outputs": [
    {
     "data": {
      "text/plain": [
       "order_id                         0\n",
       "customer_id                      0\n",
       "order_status                     0\n",
       "order_purchase_timestamp         0\n",
       "order_estimated_delivery_date    0\n",
       "product_id                       0\n",
       "purchase_proba                   0\n",
       "customer_unique_id               0\n",
       "customer_zip_code_prefix         0\n",
       "customer_city                    0\n",
       "customer_state                   0\n",
       "aging_index                      0\n",
       "Median_age                       0\n",
       "sex_ratio                        0\n",
       "dtype: int64"
      ]
     },
     "execution_count": 125,
     "metadata": {},
     "output_type": "execute_result"
    }
   ],
   "source": [
    "final_consumer_df_2.isnull().sum()"
   ]
  },
  {
   "cell_type": "code",
   "execution_count": 126,
   "id": "388a5690",
   "metadata": {},
   "outputs": [
    {
     "name": "stdout",
     "output_type": "stream",
     "text": [
      "<class 'pandas.core.frame.DataFrame'>\n",
      "Int64Index: 102425 entries, 0 to 102424\n",
      "Data columns (total 14 columns):\n",
      " #   Column                         Non-Null Count   Dtype         \n",
      "---  ------                         --------------   -----         \n",
      " 0   order_id                       102425 non-null  object        \n",
      " 1   customer_id                    102425 non-null  object        \n",
      " 2   order_status                   102425 non-null  object        \n",
      " 3   order_purchase_timestamp       102425 non-null  datetime64[ns]\n",
      " 4   order_estimated_delivery_date  102425 non-null  object        \n",
      " 5   product_id                     102425 non-null  object        \n",
      " 6   purchase_proba                 102425 non-null  int64         \n",
      " 7   customer_unique_id             102425 non-null  object        \n",
      " 8   customer_zip_code_prefix       102425 non-null  int64         \n",
      " 9   customer_city                  102425 non-null  object        \n",
      " 10  customer_state                 102425 non-null  object        \n",
      " 11  aging_index                    102425 non-null  float64       \n",
      " 12  Median_age                     102425 non-null  float64       \n",
      " 13  sex_ratio                      102425 non-null  float64       \n",
      "dtypes: datetime64[ns](1), float64(3), int64(2), object(8)\n",
      "memory usage: 11.7+ MB\n"
     ]
    }
   ],
   "source": [
    "final_consumer_df_2.info()"
   ]
  },
  {
   "cell_type": "markdown",
   "id": "ff75b88f",
   "metadata": {},
   "source": [
    "### Integrating product information to the consumer transaction data"
   ]
  },
  {
   "cell_type": "markdown",
   "id": "8c776eeb",
   "metadata": {},
   "source": [
    "final_consumer_df_2 : This dataset now contains the customer transaction information(i.e products bought by customer) along with customer charactersitics. \n",
    "\n",
    "Next step is to add product related information to this data. Hence , pricing_df dataset is used. This dataset is obtained from Part 2-Dynamic Pricing Estimation model"
   ]
  },
  {
   "cell_type": "code",
   "execution_count": 127,
   "id": "acafcb3e",
   "metadata": {},
   "outputs": [],
   "source": [
    "pricing_df.drop(['Unnamed: 0'],axis=1, inplace=True)"
   ]
  },
  {
   "cell_type": "code",
   "execution_count": 128,
   "id": "9b6ba4b9",
   "metadata": {},
   "outputs": [],
   "source": [
    "pricing_df['order_purchase_timestamp'] = pd.to_datetime(pricing_df['order_purchase_timestamp'])\n"
   ]
  },
  {
   "cell_type": "code",
   "execution_count": 129,
   "id": "9cd9ec6c",
   "metadata": {},
   "outputs": [
    {
     "name": "stdout",
     "output_type": "stream",
     "text": [
      "<class 'pandas.core.frame.DataFrame'>\n",
      "RangeIndex: 99607 entries, 0 to 99606\n",
      "Data columns (total 20 columns):\n",
      " #   Column                    Non-Null Count  Dtype         \n",
      "---  ------                    --------------  -----         \n",
      " 0   product_id                99607 non-null  object        \n",
      " 1   order_purchase_timestamp  99607 non-null  datetime64[ns]\n",
      " 2   demand                    99607 non-null  int64         \n",
      " 3   price                     99607 non-null  float64       \n",
      " 4   freight_value             99607 non-null  float64       \n",
      " 5   category_frequency        99607 non-null  float64       \n",
      " 6   cumulative_demand         99607 non-null  float64       \n",
      " 7   revenue                   99607 non-null  object        \n",
      " 8   weekday_number            99607 non-null  int64         \n",
      " 9   month_number              99607 non-null  int64         \n",
      " 10  year_number               99607 non-null  int64         \n",
      " 11  is_holiday                99607 non-null  bool          \n",
      " 12  sales_margin              99607 non-null  float64       \n",
      " 13  log_price                 99607 non-null  float64       \n",
      " 14  coef_log_price            99607 non-null  float64       \n",
      " 15  avg_price_last_3_days     99607 non-null  float64       \n",
      " 16  category_mean_demand      99607 non-null  float64       \n",
      " 17  product_category_name     99607 non-null  object        \n",
      " 18  optimal_prices_RF         99607 non-null  float64       \n",
      " 19  post                      99607 non-null  int64         \n",
      "dtypes: bool(1), datetime64[ns](1), float64(10), int64(5), object(3)\n",
      "memory usage: 14.5+ MB\n"
     ]
    }
   ],
   "source": [
    "pricing_df.info()"
   ]
  },
  {
   "cell_type": "code",
   "execution_count": 130,
   "id": "b4697bd1",
   "metadata": {},
   "outputs": [],
   "source": [
    "common_product_id = set(final_consumer_df_2['product_id'].unique()).intersection(set(pricing_df['product_id'].unique()))"
   ]
  },
  {
   "cell_type": "code",
   "execution_count": 131,
   "id": "ffd32aa5",
   "metadata": {},
   "outputs": [
    {
     "data": {
      "text/plain": [
       "(32934, 32951, 32934)"
      ]
     },
     "execution_count": 131,
     "metadata": {},
     "output_type": "execute_result"
    }
   ],
   "source": [
    "len(common_product_id),final_consumer_df_2['product_id'].nunique(),pricing_df['product_id'].nunique()"
   ]
  },
  {
   "cell_type": "code",
   "execution_count": 132,
   "id": "f009e259",
   "metadata": {},
   "outputs": [],
   "source": [
    "consumer_df_final = final_consumer_df_2.merge(pricing_df,on = ['product_id','order_purchase_timestamp'],how = 'inner').drop_duplicates()"
   ]
  },
  {
   "cell_type": "code",
   "execution_count": 133,
   "id": "9746c04c",
   "metadata": {},
   "outputs": [
    {
     "data": {
      "text/plain": [
       "order_id                         0\n",
       "customer_id                      0\n",
       "order_status                     0\n",
       "order_purchase_timestamp         0\n",
       "order_estimated_delivery_date    0\n",
       "product_id                       0\n",
       "purchase_proba                   0\n",
       "customer_unique_id               0\n",
       "customer_zip_code_prefix         0\n",
       "customer_city                    0\n",
       "customer_state                   0\n",
       "aging_index                      0\n",
       "Median_age                       0\n",
       "sex_ratio                        0\n",
       "demand                           0\n",
       "price                            0\n",
       "freight_value                    0\n",
       "category_frequency               0\n",
       "cumulative_demand                0\n",
       "revenue                          0\n",
       "weekday_number                   0\n",
       "month_number                     0\n",
       "year_number                      0\n",
       "is_holiday                       0\n",
       "sales_margin                     0\n",
       "log_price                        0\n",
       "coef_log_price                   0\n",
       "avg_price_last_3_days            0\n",
       "category_mean_demand             0\n",
       "product_category_name            0\n",
       "optimal_prices_RF                0\n",
       "post                             0\n",
       "dtype: int64"
      ]
     },
     "execution_count": 133,
     "metadata": {},
     "output_type": "execute_result"
    }
   ],
   "source": [
    "consumer_df_final.isnull().sum()"
   ]
  },
  {
   "cell_type": "code",
   "execution_count": 134,
   "id": "a6f61001",
   "metadata": {},
   "outputs": [
    {
     "data": {
      "text/plain": [
       "32934"
      ]
     },
     "execution_count": 134,
     "metadata": {},
     "output_type": "execute_result"
    }
   ],
   "source": [
    "consumer_df_final['product_id'].nunique()"
   ]
  },
  {
   "cell_type": "code",
   "execution_count": 135,
   "id": "91aad3bb",
   "metadata": {},
   "outputs": [
    {
     "name": "stdout",
     "output_type": "stream",
     "text": [
      "<class 'pandas.core.frame.DataFrame'>\n",
      "Int64Index: 116502 entries, 0 to 116501\n",
      "Data columns (total 32 columns):\n",
      " #   Column                         Non-Null Count   Dtype         \n",
      "---  ------                         --------------   -----         \n",
      " 0   order_id                       116502 non-null  object        \n",
      " 1   customer_id                    116502 non-null  object        \n",
      " 2   order_status                   116502 non-null  object        \n",
      " 3   order_purchase_timestamp       116502 non-null  datetime64[ns]\n",
      " 4   order_estimated_delivery_date  116502 non-null  object        \n",
      " 5   product_id                     116502 non-null  object        \n",
      " 6   purchase_proba                 116502 non-null  int64         \n",
      " 7   customer_unique_id             116502 non-null  object        \n",
      " 8   customer_zip_code_prefix       116502 non-null  int64         \n",
      " 9   customer_city                  116502 non-null  object        \n",
      " 10  customer_state                 116502 non-null  object        \n",
      " 11  aging_index                    116502 non-null  float64       \n",
      " 12  Median_age                     116502 non-null  float64       \n",
      " 13  sex_ratio                      116502 non-null  float64       \n",
      " 14  demand                         116502 non-null  int64         \n",
      " 15  price                          116502 non-null  float64       \n",
      " 16  freight_value                  116502 non-null  float64       \n",
      " 17  category_frequency             116502 non-null  float64       \n",
      " 18  cumulative_demand              116502 non-null  float64       \n",
      " 19  revenue                        116502 non-null  object        \n",
      " 20  weekday_number                 116502 non-null  int64         \n",
      " 21  month_number                   116502 non-null  int64         \n",
      " 22  year_number                    116502 non-null  int64         \n",
      " 23  is_holiday                     116502 non-null  bool          \n",
      " 24  sales_margin                   116502 non-null  float64       \n",
      " 25  log_price                      116502 non-null  float64       \n",
      " 26  coef_log_price                 116502 non-null  float64       \n",
      " 27  avg_price_last_3_days          116502 non-null  float64       \n",
      " 28  category_mean_demand           116502 non-null  float64       \n",
      " 29  product_category_name          116502 non-null  object        \n",
      " 30  optimal_prices_RF              116502 non-null  float64       \n",
      " 31  post                           116502 non-null  int64         \n",
      "dtypes: bool(1), datetime64[ns](1), float64(13), int64(7), object(10)\n",
      "memory usage: 28.6+ MB\n"
     ]
    }
   ],
   "source": [
    "consumer_df_final.info()"
   ]
  },
  {
   "cell_type": "code",
   "execution_count": 136,
   "id": "5aac0d0f",
   "metadata": {},
   "outputs": [
    {
     "data": {
      "text/plain": [
       "32934"
      ]
     },
     "execution_count": 136,
     "metadata": {},
     "output_type": "execute_result"
    }
   ],
   "source": [
    "consumer_df_final.product_id.nunique()"
   ]
  },
  {
   "cell_type": "code",
   "execution_count": 137,
   "id": "cdd57647",
   "metadata": {},
   "outputs": [
    {
     "data": {
      "text/plain": [
       "order_id                         0\n",
       "customer_id                      0\n",
       "order_status                     0\n",
       "order_purchase_timestamp         0\n",
       "order_estimated_delivery_date    0\n",
       "product_id                       0\n",
       "purchase_proba                   0\n",
       "customer_unique_id               0\n",
       "customer_zip_code_prefix         0\n",
       "customer_city                    0\n",
       "customer_state                   0\n",
       "aging_index                      0\n",
       "Median_age                       0\n",
       "sex_ratio                        0\n",
       "dtype: int64"
      ]
     },
     "execution_count": 137,
     "metadata": {},
     "output_type": "execute_result"
    }
   ],
   "source": [
    "final_consumer_df_2.isnull().sum()"
   ]
  },
  {
   "cell_type": "code",
   "execution_count": 138,
   "id": "fec1d15e",
   "metadata": {},
   "outputs": [
    {
     "data": {
      "text/plain": [
       "Index(['order_id', 'customer_id', 'order_status', 'order_purchase_timestamp',\n",
       "       'order_estimated_delivery_date', 'product_id', 'purchase_proba',\n",
       "       'customer_unique_id', 'customer_zip_code_prefix', 'customer_city',\n",
       "       'customer_state', 'aging_index', 'Median_age', 'sex_ratio', 'demand',\n",
       "       'price', 'freight_value', 'category_frequency', 'cumulative_demand',\n",
       "       'revenue', 'weekday_number', 'month_number', 'year_number',\n",
       "       'is_holiday', 'sales_margin', 'log_price', 'coef_log_price',\n",
       "       'avg_price_last_3_days', 'category_mean_demand',\n",
       "       'product_category_name', 'optimal_prices_RF', 'post'],\n",
       "      dtype='object')"
      ]
     },
     "execution_count": 138,
     "metadata": {},
     "output_type": "execute_result"
    }
   ],
   "source": [
    "consumer_df_final.columns"
   ]
  },
  {
   "cell_type": "code",
   "execution_count": 139,
   "id": "a7a40f15",
   "metadata": {},
   "outputs": [],
   "source": [
    "consumer_df_final.to_csv(\"C:/Users/akankshasaxena3/Downloads/olist/consumer_df_final.csv\")"
   ]
  }
 ],
 "metadata": {
  "kernelspec": {
   "display_name": "Python 3 (ipykernel)",
   "language": "python",
   "name": "python3"
  },
  "language_info": {
   "codemirror_mode": {
    "name": "ipython",
    "version": 3
   },
   "file_extension": ".py",
   "mimetype": "text/x-python",
   "name": "python",
   "nbconvert_exporter": "python",
   "pygments_lexer": "ipython3",
   "version": "3.9.12"
  },
  "toc": {
   "base_numbering": 1,
   "nav_menu": {},
   "number_sections": true,
   "sideBar": true,
   "skip_h1_title": false,
   "title_cell": "Table of Contents",
   "title_sidebar": "Contents",
   "toc_cell": false,
   "toc_position": {
    "height": "calc(100% - 180px)",
    "left": "10px",
    "top": "150px",
    "width": "549.391px"
   },
   "toc_section_display": true,
   "toc_window_display": true
  }
 },
 "nbformat": 4,
 "nbformat_minor": 5
}
