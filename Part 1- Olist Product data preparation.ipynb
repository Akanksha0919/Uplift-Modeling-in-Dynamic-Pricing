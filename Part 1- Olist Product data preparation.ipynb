{
 "cells": [
  {
   "cell_type": "code",
   "execution_count": 2,
   "id": "fac3dfd4",
   "metadata": {},
   "outputs": [],
   "source": [
    "import os\n",
    "import pandas as pd\n",
    "import numpy as np\n",
    "import seaborn as sns\n",
    "import matplotlib.pyplot as plt\n",
    "plt.style.use('seaborn')"
   ]
  },
  {
   "cell_type": "code",
   "execution_count": 3,
   "id": "7e795b5e",
   "metadata": {},
   "outputs": [],
   "source": [
    "dataset_list = [\"olist_customers_dataset\",\"olist_geolocation_dataset\",\"olist_order_items_dataset\",\"olist_order_payments_dataset\",\"olist_orders_dataset\",\"olist_products_dataset\",\"product_category_name_translation\"]\n",
    "for csv in dataset_list:\n",
    "    locals()[csv] = pd.read_csv(\"C:/Users/akankshasaxena3/Downloads/olist/\"+csv+\".csv\")"
   ]
  },
  {
   "cell_type": "code",
   "execution_count": 4,
   "id": "e32f086d",
   "metadata": {},
   "outputs": [
    {
     "data": {
      "text/html": [
       "<div>\n",
       "<style scoped>\n",
       "    .dataframe tbody tr th:only-of-type {\n",
       "        vertical-align: middle;\n",
       "    }\n",
       "\n",
       "    .dataframe tbody tr th {\n",
       "        vertical-align: top;\n",
       "    }\n",
       "\n",
       "    .dataframe thead th {\n",
       "        text-align: right;\n",
       "    }\n",
       "</style>\n",
       "<table border=\"1\" class=\"dataframe\">\n",
       "  <thead>\n",
       "    <tr style=\"text-align: right;\">\n",
       "      <th></th>\n",
       "      <th>product_id</th>\n",
       "      <th>product_category_name</th>\n",
       "      <th>product_name_lenght</th>\n",
       "      <th>product_description_lenght</th>\n",
       "      <th>product_photos_qty</th>\n",
       "      <th>product_weight_g</th>\n",
       "      <th>product_length_cm</th>\n",
       "      <th>product_height_cm</th>\n",
       "      <th>product_width_cm</th>\n",
       "    </tr>\n",
       "  </thead>\n",
       "  <tbody>\n",
       "    <tr>\n",
       "      <th>0</th>\n",
       "      <td>1e9e8ef04dbcff4541ed26657ea517e5</td>\n",
       "      <td>perfumaria</td>\n",
       "      <td>40.0</td>\n",
       "      <td>287.0</td>\n",
       "      <td>1.0</td>\n",
       "      <td>225.0</td>\n",
       "      <td>16.0</td>\n",
       "      <td>10.0</td>\n",
       "      <td>14.0</td>\n",
       "    </tr>\n",
       "    <tr>\n",
       "      <th>1</th>\n",
       "      <td>3aa071139cb16b67ca9e5dea641aaa2f</td>\n",
       "      <td>artes</td>\n",
       "      <td>44.0</td>\n",
       "      <td>276.0</td>\n",
       "      <td>1.0</td>\n",
       "      <td>1000.0</td>\n",
       "      <td>30.0</td>\n",
       "      <td>18.0</td>\n",
       "      <td>20.0</td>\n",
       "    </tr>\n",
       "    <tr>\n",
       "      <th>2</th>\n",
       "      <td>96bd76ec8810374ed1b65e291975717f</td>\n",
       "      <td>esporte_lazer</td>\n",
       "      <td>46.0</td>\n",
       "      <td>250.0</td>\n",
       "      <td>1.0</td>\n",
       "      <td>154.0</td>\n",
       "      <td>18.0</td>\n",
       "      <td>9.0</td>\n",
       "      <td>15.0</td>\n",
       "    </tr>\n",
       "    <tr>\n",
       "      <th>3</th>\n",
       "      <td>cef67bcfe19066a932b7673e239eb23d</td>\n",
       "      <td>bebes</td>\n",
       "      <td>27.0</td>\n",
       "      <td>261.0</td>\n",
       "      <td>1.0</td>\n",
       "      <td>371.0</td>\n",
       "      <td>26.0</td>\n",
       "      <td>4.0</td>\n",
       "      <td>26.0</td>\n",
       "    </tr>\n",
       "    <tr>\n",
       "      <th>4</th>\n",
       "      <td>9dc1a7de274444849c219cff195d0b71</td>\n",
       "      <td>utilidades_domesticas</td>\n",
       "      <td>37.0</td>\n",
       "      <td>402.0</td>\n",
       "      <td>4.0</td>\n",
       "      <td>625.0</td>\n",
       "      <td>20.0</td>\n",
       "      <td>17.0</td>\n",
       "      <td>13.0</td>\n",
       "    </tr>\n",
       "  </tbody>\n",
       "</table>\n",
       "</div>"
      ],
      "text/plain": [
       "                         product_id  product_category_name  \\\n",
       "0  1e9e8ef04dbcff4541ed26657ea517e5             perfumaria   \n",
       "1  3aa071139cb16b67ca9e5dea641aaa2f                  artes   \n",
       "2  96bd76ec8810374ed1b65e291975717f          esporte_lazer   \n",
       "3  cef67bcfe19066a932b7673e239eb23d                  bebes   \n",
       "4  9dc1a7de274444849c219cff195d0b71  utilidades_domesticas   \n",
       "\n",
       "   product_name_lenght  product_description_lenght  product_photos_qty  \\\n",
       "0                 40.0                       287.0                 1.0   \n",
       "1                 44.0                       276.0                 1.0   \n",
       "2                 46.0                       250.0                 1.0   \n",
       "3                 27.0                       261.0                 1.0   \n",
       "4                 37.0                       402.0                 4.0   \n",
       "\n",
       "   product_weight_g  product_length_cm  product_height_cm  product_width_cm  \n",
       "0             225.0               16.0               10.0              14.0  \n",
       "1            1000.0               30.0               18.0              20.0  \n",
       "2             154.0               18.0                9.0              15.0  \n",
       "3             371.0               26.0                4.0              26.0  \n",
       "4             625.0               20.0               17.0              13.0  "
      ]
     },
     "execution_count": 4,
     "metadata": {},
     "output_type": "execute_result"
    }
   ],
   "source": [
    "olist_products_dataset.head()\n",
    "#contains information about product characteristics such as its category, height, width, length, and weight of products."
   ]
  },
  {
   "cell_type": "code",
   "execution_count": 5,
   "id": "c96cb6ff",
   "metadata": {
    "extensions": {
     "jupyter_dashboards": {
      "version": 1,
      "views": {
       "default_view": {
        "col": 0,
        "height": 2,
        "row": 4,
        "width": 12
       }
      }
     }
    }
   },
   "outputs": [
    {
     "data": {
      "text/html": [
       "<div>\n",
       "<style scoped>\n",
       "    .dataframe tbody tr th:only-of-type {\n",
       "        vertical-align: middle;\n",
       "    }\n",
       "\n",
       "    .dataframe tbody tr th {\n",
       "        vertical-align: top;\n",
       "    }\n",
       "\n",
       "    .dataframe thead th {\n",
       "        text-align: right;\n",
       "    }\n",
       "</style>\n",
       "<table border=\"1\" class=\"dataframe\">\n",
       "  <thead>\n",
       "    <tr style=\"text-align: right;\">\n",
       "      <th></th>\n",
       "      <th>order_id</th>\n",
       "      <th>customer_id</th>\n",
       "      <th>order_status</th>\n",
       "      <th>order_purchase_timestamp</th>\n",
       "      <th>order_approved_at</th>\n",
       "      <th>order_delivered_carrier_date</th>\n",
       "      <th>order_delivered_customer_date</th>\n",
       "      <th>order_estimated_delivery_date</th>\n",
       "    </tr>\n",
       "  </thead>\n",
       "  <tbody>\n",
       "    <tr>\n",
       "      <th>0</th>\n",
       "      <td>e481f51cbdc54678b7cc49136f2d6af7</td>\n",
       "      <td>9ef432eb6251297304e76186b10a928d</td>\n",
       "      <td>delivered</td>\n",
       "      <td>2017-10-02 10:56:33</td>\n",
       "      <td>2017-10-02 11:07:15</td>\n",
       "      <td>2017-10-04 19:55:00</td>\n",
       "      <td>2017-10-10 21:25:13</td>\n",
       "      <td>2017-10-18 00:00:00</td>\n",
       "    </tr>\n",
       "    <tr>\n",
       "      <th>1</th>\n",
       "      <td>53cdb2fc8bc7dce0b6741e2150273451</td>\n",
       "      <td>b0830fb4747a6c6d20dea0b8c802d7ef</td>\n",
       "      <td>delivered</td>\n",
       "      <td>2018-07-24 20:41:37</td>\n",
       "      <td>2018-07-26 03:24:27</td>\n",
       "      <td>2018-07-26 14:31:00</td>\n",
       "      <td>2018-08-07 15:27:45</td>\n",
       "      <td>2018-08-13 00:00:00</td>\n",
       "    </tr>\n",
       "    <tr>\n",
       "      <th>2</th>\n",
       "      <td>47770eb9100c2d0c44946d9cf07ec65d</td>\n",
       "      <td>41ce2a54c0b03bf3443c3d931a367089</td>\n",
       "      <td>delivered</td>\n",
       "      <td>2018-08-08 08:38:49</td>\n",
       "      <td>2018-08-08 08:55:23</td>\n",
       "      <td>2018-08-08 13:50:00</td>\n",
       "      <td>2018-08-17 18:06:29</td>\n",
       "      <td>2018-09-04 00:00:00</td>\n",
       "    </tr>\n",
       "    <tr>\n",
       "      <th>3</th>\n",
       "      <td>949d5b44dbf5de918fe9c16f97b45f8a</td>\n",
       "      <td>f88197465ea7920adcdbec7375364d82</td>\n",
       "      <td>delivered</td>\n",
       "      <td>2017-11-18 19:28:06</td>\n",
       "      <td>2017-11-18 19:45:59</td>\n",
       "      <td>2017-11-22 13:39:59</td>\n",
       "      <td>2017-12-02 00:28:42</td>\n",
       "      <td>2017-12-15 00:00:00</td>\n",
       "    </tr>\n",
       "    <tr>\n",
       "      <th>4</th>\n",
       "      <td>ad21c59c0840e6cb83a9ceb5573f8159</td>\n",
       "      <td>8ab97904e6daea8866dbdbc4fb7aad2c</td>\n",
       "      <td>delivered</td>\n",
       "      <td>2018-02-13 21:18:39</td>\n",
       "      <td>2018-02-13 22:20:29</td>\n",
       "      <td>2018-02-14 19:46:34</td>\n",
       "      <td>2018-02-16 18:17:02</td>\n",
       "      <td>2018-02-26 00:00:00</td>\n",
       "    </tr>\n",
       "  </tbody>\n",
       "</table>\n",
       "</div>"
      ],
      "text/plain": [
       "                           order_id                       customer_id  \\\n",
       "0  e481f51cbdc54678b7cc49136f2d6af7  9ef432eb6251297304e76186b10a928d   \n",
       "1  53cdb2fc8bc7dce0b6741e2150273451  b0830fb4747a6c6d20dea0b8c802d7ef   \n",
       "2  47770eb9100c2d0c44946d9cf07ec65d  41ce2a54c0b03bf3443c3d931a367089   \n",
       "3  949d5b44dbf5de918fe9c16f97b45f8a  f88197465ea7920adcdbec7375364d82   \n",
       "4  ad21c59c0840e6cb83a9ceb5573f8159  8ab97904e6daea8866dbdbc4fb7aad2c   \n",
       "\n",
       "  order_status order_purchase_timestamp    order_approved_at  \\\n",
       "0    delivered      2017-10-02 10:56:33  2017-10-02 11:07:15   \n",
       "1    delivered      2018-07-24 20:41:37  2018-07-26 03:24:27   \n",
       "2    delivered      2018-08-08 08:38:49  2018-08-08 08:55:23   \n",
       "3    delivered      2017-11-18 19:28:06  2017-11-18 19:45:59   \n",
       "4    delivered      2018-02-13 21:18:39  2018-02-13 22:20:29   \n",
       "\n",
       "  order_delivered_carrier_date order_delivered_customer_date  \\\n",
       "0          2017-10-04 19:55:00           2017-10-10 21:25:13   \n",
       "1          2018-07-26 14:31:00           2018-08-07 15:27:45   \n",
       "2          2018-08-08 13:50:00           2018-08-17 18:06:29   \n",
       "3          2017-11-22 13:39:59           2017-12-02 00:28:42   \n",
       "4          2018-02-14 19:46:34           2018-02-16 18:17:02   \n",
       "\n",
       "  order_estimated_delivery_date  \n",
       "0           2017-10-18 00:00:00  \n",
       "1           2018-08-13 00:00:00  \n",
       "2           2018-09-04 00:00:00  \n",
       "3           2017-12-15 00:00:00  \n",
       "4           2018-02-26 00:00:00  "
      ]
     },
     "execution_count": 5,
     "metadata": {},
     "output_type": "execute_result"
    }
   ],
   "source": [
    "olist_orders_dataset.head()\n",
    "#contains order information. which order was placed by which customer, and at what time. \n",
    "#Additionally, it contains information about order status also, which is essential in estimating\n",
    "#consumer purchase probability. However, this dataset doesn’t provide information about which order \n",
    "#contains which products. This is where the olist_order_items_dataset is needed."
   ]
  },
  {
   "cell_type": "code",
   "execution_count": 6,
   "id": "32aabf38",
   "metadata": {},
   "outputs": [
    {
     "data": {
      "text/html": [
       "<div>\n",
       "<style scoped>\n",
       "    .dataframe tbody tr th:only-of-type {\n",
       "        vertical-align: middle;\n",
       "    }\n",
       "\n",
       "    .dataframe tbody tr th {\n",
       "        vertical-align: top;\n",
       "    }\n",
       "\n",
       "    .dataframe thead th {\n",
       "        text-align: right;\n",
       "    }\n",
       "</style>\n",
       "<table border=\"1\" class=\"dataframe\">\n",
       "  <thead>\n",
       "    <tr style=\"text-align: right;\">\n",
       "      <th></th>\n",
       "      <th>order_id</th>\n",
       "      <th>order_item_id</th>\n",
       "      <th>product_id</th>\n",
       "      <th>seller_id</th>\n",
       "      <th>shipping_limit_date</th>\n",
       "      <th>price</th>\n",
       "      <th>freight_value</th>\n",
       "    </tr>\n",
       "  </thead>\n",
       "  <tbody>\n",
       "    <tr>\n",
       "      <th>0</th>\n",
       "      <td>00010242fe8c5a6d1ba2dd792cb16214</td>\n",
       "      <td>1</td>\n",
       "      <td>4244733e06e7ecb4970a6e2683c13e61</td>\n",
       "      <td>48436dade18ac8b2bce089ec2a041202</td>\n",
       "      <td>2017-09-19 09:45:35</td>\n",
       "      <td>58.90</td>\n",
       "      <td>13.29</td>\n",
       "    </tr>\n",
       "    <tr>\n",
       "      <th>1</th>\n",
       "      <td>00018f77f2f0320c557190d7a144bdd3</td>\n",
       "      <td>1</td>\n",
       "      <td>e5f2d52b802189ee658865ca93d83a8f</td>\n",
       "      <td>dd7ddc04e1b6c2c614352b383efe2d36</td>\n",
       "      <td>2017-05-03 11:05:13</td>\n",
       "      <td>239.90</td>\n",
       "      <td>19.93</td>\n",
       "    </tr>\n",
       "    <tr>\n",
       "      <th>2</th>\n",
       "      <td>000229ec398224ef6ca0657da4fc703e</td>\n",
       "      <td>1</td>\n",
       "      <td>c777355d18b72b67abbeef9df44fd0fd</td>\n",
       "      <td>5b51032eddd242adc84c38acab88f23d</td>\n",
       "      <td>2018-01-18 14:48:30</td>\n",
       "      <td>199.00</td>\n",
       "      <td>17.87</td>\n",
       "    </tr>\n",
       "    <tr>\n",
       "      <th>3</th>\n",
       "      <td>00024acbcdf0a6daa1e931b038114c75</td>\n",
       "      <td>1</td>\n",
       "      <td>7634da152a4610f1595efa32f14722fc</td>\n",
       "      <td>9d7a1d34a5052409006425275ba1c2b4</td>\n",
       "      <td>2018-08-15 10:10:18</td>\n",
       "      <td>12.99</td>\n",
       "      <td>12.79</td>\n",
       "    </tr>\n",
       "    <tr>\n",
       "      <th>4</th>\n",
       "      <td>00042b26cf59d7ce69dfabb4e55b4fd9</td>\n",
       "      <td>1</td>\n",
       "      <td>ac6c3623068f30de03045865e4e10089</td>\n",
       "      <td>df560393f3a51e74553ab94004ba5c87</td>\n",
       "      <td>2017-02-13 13:57:51</td>\n",
       "      <td>199.90</td>\n",
       "      <td>18.14</td>\n",
       "    </tr>\n",
       "  </tbody>\n",
       "</table>\n",
       "</div>"
      ],
      "text/plain": [
       "                           order_id  order_item_id  \\\n",
       "0  00010242fe8c5a6d1ba2dd792cb16214              1   \n",
       "1  00018f77f2f0320c557190d7a144bdd3              1   \n",
       "2  000229ec398224ef6ca0657da4fc703e              1   \n",
       "3  00024acbcdf0a6daa1e931b038114c75              1   \n",
       "4  00042b26cf59d7ce69dfabb4e55b4fd9              1   \n",
       "\n",
       "                         product_id                         seller_id  \\\n",
       "0  4244733e06e7ecb4970a6e2683c13e61  48436dade18ac8b2bce089ec2a041202   \n",
       "1  e5f2d52b802189ee658865ca93d83a8f  dd7ddc04e1b6c2c614352b383efe2d36   \n",
       "2  c777355d18b72b67abbeef9df44fd0fd  5b51032eddd242adc84c38acab88f23d   \n",
       "3  7634da152a4610f1595efa32f14722fc  9d7a1d34a5052409006425275ba1c2b4   \n",
       "4  ac6c3623068f30de03045865e4e10089  df560393f3a51e74553ab94004ba5c87   \n",
       "\n",
       "   shipping_limit_date   price  freight_value  \n",
       "0  2017-09-19 09:45:35   58.90          13.29  \n",
       "1  2017-05-03 11:05:13  239.90          19.93  \n",
       "2  2018-01-18 14:48:30  199.00          17.87  \n",
       "3  2018-08-15 10:10:18   12.99          12.79  \n",
       "4  2017-02-13 13:57:51  199.90          18.14  "
      ]
     },
     "execution_count": 6,
     "metadata": {},
     "output_type": "execute_result"
    }
   ],
   "source": [
    "olist_order_items_dataset.head()"
   ]
  },
  {
   "cell_type": "code",
   "execution_count": 8,
   "id": "14312026",
   "metadata": {},
   "outputs": [
    {
     "data": {
      "text/html": [
       "<div>\n",
       "<style scoped>\n",
       "    .dataframe tbody tr th:only-of-type {\n",
       "        vertical-align: middle;\n",
       "    }\n",
       "\n",
       "    .dataframe tbody tr th {\n",
       "        vertical-align: top;\n",
       "    }\n",
       "\n",
       "    .dataframe thead th {\n",
       "        text-align: right;\n",
       "    }\n",
       "</style>\n",
       "<table border=\"1\" class=\"dataframe\">\n",
       "  <thead>\n",
       "    <tr style=\"text-align: right;\">\n",
       "      <th></th>\n",
       "      <th>order_id</th>\n",
       "      <th>order_item_id</th>\n",
       "      <th>product_id</th>\n",
       "      <th>seller_id</th>\n",
       "      <th>shipping_limit_date</th>\n",
       "      <th>price</th>\n",
       "      <th>freight_value</th>\n",
       "    </tr>\n",
       "  </thead>\n",
       "  <tbody>\n",
       "    <tr>\n",
       "      <th>94061</th>\n",
       "      <td>d543201a9b42a1402ff97e65b439a48b</td>\n",
       "      <td>1</td>\n",
       "      <td>595fac2a385ac33a80bd5114aec74eb8</td>\n",
       "      <td>289cdb325fb7e7f891c38608bf9e0962</td>\n",
       "      <td>2018-08-23 10:50:54</td>\n",
       "      <td>116.9</td>\n",
       "      <td>22.75</td>\n",
       "    </tr>\n",
       "    <tr>\n",
       "      <th>94062</th>\n",
       "      <td>d543201a9b42a1402ff97e65b439a48b</td>\n",
       "      <td>2</td>\n",
       "      <td>595fac2a385ac33a80bd5114aec74eb8</td>\n",
       "      <td>289cdb325fb7e7f891c38608bf9e0962</td>\n",
       "      <td>2018-08-23 10:50:54</td>\n",
       "      <td>116.9</td>\n",
       "      <td>22.75</td>\n",
       "    </tr>\n",
       "  </tbody>\n",
       "</table>\n",
       "</div>"
      ],
      "text/plain": [
       "                               order_id  order_item_id  \\\n",
       "94061  d543201a9b42a1402ff97e65b439a48b              1   \n",
       "94062  d543201a9b42a1402ff97e65b439a48b              2   \n",
       "\n",
       "                             product_id                         seller_id  \\\n",
       "94061  595fac2a385ac33a80bd5114aec74eb8  289cdb325fb7e7f891c38608bf9e0962   \n",
       "94062  595fac2a385ac33a80bd5114aec74eb8  289cdb325fb7e7f891c38608bf9e0962   \n",
       "\n",
       "       shipping_limit_date  price  freight_value  \n",
       "94061  2018-08-23 10:50:54  116.9          22.75  \n",
       "94062  2018-08-23 10:50:54  116.9          22.75  "
      ]
     },
     "execution_count": 8,
     "metadata": {},
     "output_type": "execute_result"
    }
   ],
   "source": [
    "olist_order_items_dataset[olist_order_items_dataset['order_id'] == 'd543201a9b42a1402ff97e65b439a48b']"
   ]
  },
  {
   "cell_type": "code",
   "execution_count": 9,
   "id": "e13c973e",
   "metadata": {},
   "outputs": [
    {
     "name": "stdout",
     "output_type": "stream",
     "text": [
      "['order_item_id']\n"
     ]
    }
   ],
   "source": [
    "# Comparing the two rows\n",
    "different_columns = olist_order_items_dataset.iloc[94061] != olist_order_items_dataset.iloc[94062]\n",
    "\n",
    "# Identifying columns with different values\n",
    "different_columns = different_columns[different_columns].index.tolist()\n",
    "print(different_columns)"
   ]
  },
  {
   "cell_type": "code",
   "execution_count": 10,
   "id": "c5785aed",
   "metadata": {},
   "outputs": [
    {
     "data": {
      "text/plain": [
       "((112650, 7), (99441, 8))"
      ]
     },
     "execution_count": 10,
     "metadata": {},
     "output_type": "execute_result"
    }
   ],
   "source": [
    "olist_order_items_dataset.shape,olist_orders_dataset.shape"
   ]
  },
  {
   "cell_type": "code",
   "execution_count": 11,
   "id": "1e1d4ff2",
   "metadata": {},
   "outputs": [
    {
     "data": {
      "text/plain": [
       "(0, 0)"
      ]
     },
     "execution_count": 11,
     "metadata": {},
     "output_type": "execute_result"
    }
   ],
   "source": [
    "olist_order_items_dataset.duplicated().sum(),olist_orders_dataset.duplicated().sum()"
   ]
  },
  {
   "cell_type": "code",
   "execution_count": 8,
   "id": "27d20f0a",
   "metadata": {},
   "outputs": [],
   "source": [
    "transaction_df = olist_orders_dataset.merge(olist_order_items_dataset,on = 'order_id',how ='inner')\n"
   ]
  },
  {
   "cell_type": "markdown",
   "id": "cbd61550",
   "metadata": {},
   "source": [
    "transaction_df: this dataset contains information regarding which products make up a particular order on a particular day. Corresponding to each product now we also have information about consumer_id i.e. we now have knowledge about which exact item was ordered the customer on a particular day"
   ]
  },
  {
   "cell_type": "code",
   "execution_count": 9,
   "id": "55d1bc2b",
   "metadata": {},
   "outputs": [
    {
     "name": "stdout",
     "output_type": "stream",
     "text": [
      "<class 'pandas.core.frame.DataFrame'>\n",
      "Int64Index: 112650 entries, 0 to 112649\n",
      "Data columns (total 14 columns):\n",
      " #   Column                         Non-Null Count   Dtype  \n",
      "---  ------                         --------------   -----  \n",
      " 0   order_id                       112650 non-null  object \n",
      " 1   customer_id                    112650 non-null  object \n",
      " 2   order_status                   112650 non-null  object \n",
      " 3   order_purchase_timestamp       112650 non-null  object \n",
      " 4   order_approved_at              112635 non-null  object \n",
      " 5   order_delivered_carrier_date   111456 non-null  object \n",
      " 6   order_delivered_customer_date  110196 non-null  object \n",
      " 7   order_estimated_delivery_date  112650 non-null  object \n",
      " 8   order_item_id                  112650 non-null  int64  \n",
      " 9   product_id                     112650 non-null  object \n",
      " 10  seller_id                      112650 non-null  object \n",
      " 11  shipping_limit_date            112650 non-null  object \n",
      " 12  price                          112650 non-null  float64\n",
      " 13  freight_value                  112650 non-null  float64\n",
      "dtypes: float64(2), int64(1), object(11)\n",
      "memory usage: 12.9+ MB\n"
     ]
    }
   ],
   "source": [
    "transaction_df.info()"
   ]
  },
  {
   "cell_type": "code",
   "execution_count": 11,
   "id": "69e966d7",
   "metadata": {},
   "outputs": [
    {
     "data": {
      "text/plain": [
       "((112650, 14), 0)"
      ]
     },
     "execution_count": 11,
     "metadata": {},
     "output_type": "execute_result"
    }
   ],
   "source": [
    "transaction_df.shape,transaction_df.duplicated().sum()"
   ]
  },
  {
   "cell_type": "code",
   "execution_count": 12,
   "id": "a7681675",
   "metadata": {},
   "outputs": [
    {
     "name": "stdout",
     "output_type": "stream",
     "text": [
      "number of null values in product_id is 0\n",
      "number of null values in product_category_name is 610\n",
      "number of null values in product_name_lenght is 610\n",
      "number of null values in product_description_lenght is 610\n",
      "number of null values in product_photos_qty is 610\n",
      "number of null values in product_weight_g is 2\n",
      "number of null values in product_length_cm is 2\n",
      "number of null values in product_height_cm is 2\n",
      "number of null values in product_width_cm is 2\n"
     ]
    }
   ],
   "source": [
    "for column in olist_products_dataset.columns:\n",
    "    print(\"number of null values in \"+column+\" is \"+str(olist_products_dataset[column].isnull().sum()))"
   ]
  },
  {
   "cell_type": "code",
   "execution_count": 22,
   "id": "e1142982",
   "metadata": {},
   "outputs": [
    {
     "data": {
      "text/plain": [
       "(610,)"
      ]
     },
     "execution_count": 22,
     "metadata": {},
     "output_type": "execute_result"
    }
   ],
   "source": [
    "prod_id_missing_cat = olist_products_dataset[olist_products_dataset['product_category_name'].isnull()==True]['product_id'].drop_duplicates()\n",
    "prod_id_missing_cat.shape\n",
    "#number of unique products which do not have a category in olist_products_dataset df"
   ]
  },
  {
   "cell_type": "code",
   "execution_count": 23,
   "id": "2203b298",
   "metadata": {},
   "outputs": [
    {
     "data": {
      "text/plain": [
       "(32341,)"
      ]
     },
     "execution_count": 23,
     "metadata": {},
     "output_type": "execute_result"
    }
   ],
   "source": [
    "prod_id_with_cat = olist_products_dataset[olist_products_dataset['product_category_name'].isnull()==False]['product_id'].drop_duplicates()\n",
    "prod_id_with_cat.shape\n",
    "#number of unique products which do have a category in olist_products_dataset df"
   ]
  },
  {
   "cell_type": "code",
   "execution_count": 24,
   "id": "76bf2204",
   "metadata": {},
   "outputs": [
    {
     "data": {
      "text/plain": [
       "0"
      ]
     },
     "execution_count": 24,
     "metadata": {},
     "output_type": "execute_result"
    }
   ],
   "source": [
    "prod_id_missing_cat.isin(prod_id_with_cat).sum()\n"
   ]
  },
  {
   "cell_type": "markdown",
   "id": "4c765e9b",
   "metadata": {},
   "source": [
    "no overlap exists between products that have a category assigned to them and those that do not have category assigned to them\n",
    "if any product would have overlapped between the two sets a direct mapping could have been done to fill null product category for such products. "
   ]
  },
  {
   "cell_type": "code",
   "execution_count": 15,
   "id": "55ac5d64",
   "metadata": {},
   "outputs": [
    {
     "data": {
      "text/plain": [
       "(73, 32951)"
      ]
     },
     "execution_count": 15,
     "metadata": {},
     "output_type": "execute_result"
    }
   ],
   "source": [
    "olist_products_dataset['product_category_name'].nunique(),olist_products_dataset['product_id'].nunique()\n",
    "#total 73 unique categories exists for 32951 unique products "
   ]
  },
  {
   "cell_type": "code",
   "execution_count": 25,
   "id": "4cc541ce",
   "metadata": {},
   "outputs": [
    {
     "name": "stdout",
     "output_type": "stream",
     "text": [
      "<class 'pandas.core.frame.DataFrame'>\n",
      "Int64Index: 112650 entries, 0 to 112649\n",
      "Data columns (total 14 columns):\n",
      " #   Column                         Non-Null Count   Dtype  \n",
      "---  ------                         --------------   -----  \n",
      " 0   order_id                       112650 non-null  object \n",
      " 1   customer_id                    112650 non-null  object \n",
      " 2   order_status                   112650 non-null  object \n",
      " 3   order_purchase_timestamp       112650 non-null  object \n",
      " 4   order_approved_at              112635 non-null  object \n",
      " 5   order_delivered_carrier_date   111456 non-null  object \n",
      " 6   order_delivered_customer_date  110196 non-null  object \n",
      " 7   order_estimated_delivery_date  112650 non-null  object \n",
      " 8   order_item_id                  112650 non-null  int64  \n",
      " 9   product_id                     112650 non-null  object \n",
      " 10  seller_id                      112650 non-null  object \n",
      " 11  shipping_limit_date            112650 non-null  object \n",
      " 12  price                          112650 non-null  float64\n",
      " 13  freight_value                  112650 non-null  float64\n",
      "dtypes: float64(2), int64(1), object(11)\n",
      "memory usage: 12.9+ MB\n"
     ]
    }
   ],
   "source": [
    "transaction_df.info()"
   ]
  },
  {
   "cell_type": "code",
   "execution_count": 26,
   "id": "6a7c20b0",
   "metadata": {},
   "outputs": [
    {
     "name": "stdout",
     "output_type": "stream",
     "text": [
      "<class 'pandas.core.frame.DataFrame'>\n",
      "RangeIndex: 32951 entries, 0 to 32950\n",
      "Data columns (total 9 columns):\n",
      " #   Column                      Non-Null Count  Dtype  \n",
      "---  ------                      --------------  -----  \n",
      " 0   product_id                  32951 non-null  object \n",
      " 1   product_category_name       32341 non-null  object \n",
      " 2   product_name_lenght         32341 non-null  float64\n",
      " 3   product_description_lenght  32341 non-null  float64\n",
      " 4   product_photos_qty          32341 non-null  float64\n",
      " 5   product_weight_g            32949 non-null  float64\n",
      " 6   product_length_cm           32949 non-null  float64\n",
      " 7   product_height_cm           32949 non-null  float64\n",
      " 8   product_width_cm            32949 non-null  float64\n",
      "dtypes: float64(7), object(2)\n",
      "memory usage: 2.3+ MB\n"
     ]
    }
   ],
   "source": [
    "olist_products_dataset.info()"
   ]
  },
  {
   "cell_type": "code",
   "execution_count": 27,
   "id": "564a55ec",
   "metadata": {},
   "outputs": [],
   "source": [
    "product_df=transaction_df.merge(olist_products_dataset,on = 'product_id',how = 'inner')"
   ]
  },
  {
   "cell_type": "code",
   "execution_count": 28,
   "id": "c7f6cf93",
   "metadata": {},
   "outputs": [
    {
     "name": "stdout",
     "output_type": "stream",
     "text": [
      "<class 'pandas.core.frame.DataFrame'>\n",
      "Int64Index: 112650 entries, 0 to 112649\n",
      "Data columns (total 22 columns):\n",
      " #   Column                         Non-Null Count   Dtype  \n",
      "---  ------                         --------------   -----  \n",
      " 0   order_id                       112650 non-null  object \n",
      " 1   customer_id                    112650 non-null  object \n",
      " 2   order_status                   112650 non-null  object \n",
      " 3   order_purchase_timestamp       112650 non-null  object \n",
      " 4   order_approved_at              112635 non-null  object \n",
      " 5   order_delivered_carrier_date   111456 non-null  object \n",
      " 6   order_delivered_customer_date  110196 non-null  object \n",
      " 7   order_estimated_delivery_date  112650 non-null  object \n",
      " 8   order_item_id                  112650 non-null  int64  \n",
      " 9   product_id                     112650 non-null  object \n",
      " 10  seller_id                      112650 non-null  object \n",
      " 11  shipping_limit_date            112650 non-null  object \n",
      " 12  price                          112650 non-null  float64\n",
      " 13  freight_value                  112650 non-null  float64\n",
      " 14  product_category_name          111047 non-null  object \n",
      " 15  product_name_lenght            111047 non-null  float64\n",
      " 16  product_description_lenght     111047 non-null  float64\n",
      " 17  product_photos_qty             111047 non-null  float64\n",
      " 18  product_weight_g               112632 non-null  float64\n",
      " 19  product_length_cm              112632 non-null  float64\n",
      " 20  product_height_cm              112632 non-null  float64\n",
      " 21  product_width_cm               112632 non-null  float64\n",
      "dtypes: float64(9), int64(1), object(12)\n",
      "memory usage: 19.8+ MB\n"
     ]
    }
   ],
   "source": [
    "product_df.info()"
   ]
  },
  {
   "cell_type": "code",
   "execution_count": 31,
   "id": "b759003c",
   "metadata": {},
   "outputs": [],
   "source": [
    "product_df = product_df[['order_id', 'product_id', 'price', 'freight_value',\n",
    "       'order_purchase_timestamp', 'product_category_name',\n",
    "       'product_name_lenght', 'product_description_lenght',\n",
    "       'product_photos_qty', 'product_weight_g', 'product_length_cm',\n",
    "       'product_height_cm', 'product_width_cm']]"
   ]
  },
  {
   "cell_type": "code",
   "execution_count": 32,
   "id": "9f8ed16d",
   "metadata": {},
   "outputs": [
    {
     "name": "stdout",
     "output_type": "stream",
     "text": [
      "<class 'pandas.core.frame.DataFrame'>\n",
      "Int64Index: 112650 entries, 0 to 112649\n",
      "Data columns (total 13 columns):\n",
      " #   Column                      Non-Null Count   Dtype  \n",
      "---  ------                      --------------   -----  \n",
      " 0   order_id                    112650 non-null  object \n",
      " 1   product_id                  112650 non-null  object \n",
      " 2   price                       112650 non-null  float64\n",
      " 3   freight_value               112650 non-null  float64\n",
      " 4   order_purchase_timestamp    112650 non-null  object \n",
      " 5   product_category_name       111047 non-null  object \n",
      " 6   product_name_lenght         111047 non-null  float64\n",
      " 7   product_description_lenght  111047 non-null  float64\n",
      " 8   product_photos_qty          111047 non-null  float64\n",
      " 9   product_weight_g            112632 non-null  float64\n",
      " 10  product_length_cm           112632 non-null  float64\n",
      " 11  product_height_cm           112632 non-null  float64\n",
      " 12  product_width_cm            112632 non-null  float64\n",
      "dtypes: float64(9), object(4)\n",
      "memory usage: 12.0+ MB\n"
     ]
    }
   ],
   "source": [
    "product_df.info()"
   ]
  },
  {
   "cell_type": "code",
   "execution_count": 33,
   "id": "d1b614c9",
   "metadata": {},
   "outputs": [
    {
     "data": {
      "text/plain": [
       "((112650, 13), (102425, 13))"
      ]
     },
     "execution_count": 33,
     "metadata": {},
     "output_type": "execute_result"
    }
   ],
   "source": [
    "\n",
    "product_df.shape,product_df.drop_duplicates().shape"
   ]
  },
  {
   "cell_type": "code",
   "execution_count": 37,
   "id": "77340c8a",
   "metadata": {},
   "outputs": [
    {
     "data": {
      "text/plain": [
       "1603"
      ]
     },
     "execution_count": 37,
     "metadata": {},
     "output_type": "execute_result"
    }
   ],
   "source": [
    "product_df['product_category_name'].isnull().sum()"
   ]
  },
  {
   "cell_type": "code",
   "execution_count": 38,
   "id": "df8244fa",
   "metadata": {},
   "outputs": [],
   "source": [
    "product_df['order_purchase_timestamp'] = pd.to_datetime(product_df['order_purchase_timestamp'])\n",
    "product_df['order_purchase_timestamp'] = product_df['order_purchase_timestamp'].dt.strftime('%Y-%m-%d')"
   ]
  },
  {
   "cell_type": "code",
   "execution_count": 39,
   "id": "0ff03cd9",
   "metadata": {},
   "outputs": [],
   "source": [
    "final_product_df = product_df[['product_id','order_purchase_timestamp','price','freight_value','product_category_name','product_name_lenght','product_description_lenght','product_photos_qty','product_weight_g','product_length_cm','product_height_cm','product_width_cm']]"
   ]
  },
  {
   "cell_type": "code",
   "execution_count": 40,
   "id": "2f1fd3cd",
   "metadata": {},
   "outputs": [
    {
     "data": {
      "text/plain": [
       "((99625, 12), (112650, 12))"
      ]
     },
     "execution_count": 40,
     "metadata": {},
     "output_type": "execute_result"
    }
   ],
   "source": [
    "final_product_df.drop_duplicates().shape,final_product_df.shape"
   ]
  },
  {
   "cell_type": "code",
   "execution_count": 41,
   "id": "1b70a2ce",
   "metadata": {},
   "outputs": [
    {
     "data": {
      "text/html": [
       "<div>\n",
       "<style scoped>\n",
       "    .dataframe tbody tr th:only-of-type {\n",
       "        vertical-align: middle;\n",
       "    }\n",
       "\n",
       "    .dataframe tbody tr th {\n",
       "        vertical-align: top;\n",
       "    }\n",
       "\n",
       "    .dataframe thead th {\n",
       "        text-align: right;\n",
       "    }\n",
       "</style>\n",
       "<table border=\"1\" class=\"dataframe\">\n",
       "  <thead>\n",
       "    <tr style=\"text-align: right;\">\n",
       "      <th></th>\n",
       "      <th>product_id</th>\n",
       "      <th>order_purchase_timestamp</th>\n",
       "      <th>price</th>\n",
       "      <th>freight_value</th>\n",
       "      <th>product_category_name</th>\n",
       "      <th>product_name_lenght</th>\n",
       "      <th>product_description_lenght</th>\n",
       "      <th>product_photos_qty</th>\n",
       "      <th>product_weight_g</th>\n",
       "      <th>product_length_cm</th>\n",
       "      <th>product_height_cm</th>\n",
       "      <th>product_width_cm</th>\n",
       "    </tr>\n",
       "  </thead>\n",
       "  <tbody>\n",
       "    <tr>\n",
       "      <th>29</th>\n",
       "      <td>595fac2a385ac33a80bd5114aec74eb8</td>\n",
       "      <td>2018-08-21</td>\n",
       "      <td>116.9</td>\n",
       "      <td>22.75</td>\n",
       "      <td>perfumaria</td>\n",
       "      <td>29.0</td>\n",
       "      <td>178.0</td>\n",
       "      <td>1.0</td>\n",
       "      <td>400.0</td>\n",
       "      <td>19.0</td>\n",
       "      <td>13.0</td>\n",
       "      <td>19.0</td>\n",
       "    </tr>\n",
       "    <tr>\n",
       "      <th>31</th>\n",
       "      <td>595fac2a385ac33a80bd5114aec74eb8</td>\n",
       "      <td>2018-01-02</td>\n",
       "      <td>117.9</td>\n",
       "      <td>12.83</td>\n",
       "      <td>perfumaria</td>\n",
       "      <td>29.0</td>\n",
       "      <td>178.0</td>\n",
       "      <td>1.0</td>\n",
       "      <td>400.0</td>\n",
       "      <td>19.0</td>\n",
       "      <td>13.0</td>\n",
       "      <td>19.0</td>\n",
       "    </tr>\n",
       "    <tr>\n",
       "      <th>39</th>\n",
       "      <td>595fac2a385ac33a80bd5114aec74eb8</td>\n",
       "      <td>2018-05-02</td>\n",
       "      <td>119.9</td>\n",
       "      <td>15.72</td>\n",
       "      <td>perfumaria</td>\n",
       "      <td>29.0</td>\n",
       "      <td>178.0</td>\n",
       "      <td>1.0</td>\n",
       "      <td>400.0</td>\n",
       "      <td>19.0</td>\n",
       "      <td>13.0</td>\n",
       "      <td>19.0</td>\n",
       "    </tr>\n",
       "    <tr>\n",
       "      <th>62</th>\n",
       "      <td>595fac2a385ac33a80bd5114aec74eb8</td>\n",
       "      <td>2018-08-18</td>\n",
       "      <td>116.9</td>\n",
       "      <td>22.75</td>\n",
       "      <td>perfumaria</td>\n",
       "      <td>29.0</td>\n",
       "      <td>178.0</td>\n",
       "      <td>1.0</td>\n",
       "      <td>400.0</td>\n",
       "      <td>19.0</td>\n",
       "      <td>13.0</td>\n",
       "      <td>19.0</td>\n",
       "    </tr>\n",
       "    <tr>\n",
       "      <th>73</th>\n",
       "      <td>595fac2a385ac33a80bd5114aec74eb8</td>\n",
       "      <td>2017-12-12</td>\n",
       "      <td>118.0</td>\n",
       "      <td>9.02</td>\n",
       "      <td>perfumaria</td>\n",
       "      <td>29.0</td>\n",
       "      <td>178.0</td>\n",
       "      <td>1.0</td>\n",
       "      <td>400.0</td>\n",
       "      <td>19.0</td>\n",
       "      <td>13.0</td>\n",
       "      <td>19.0</td>\n",
       "    </tr>\n",
       "    <tr>\n",
       "      <th>...</th>\n",
       "      <td>...</td>\n",
       "      <td>...</td>\n",
       "      <td>...</td>\n",
       "      <td>...</td>\n",
       "      <td>...</td>\n",
       "      <td>...</td>\n",
       "      <td>...</td>\n",
       "      <td>...</td>\n",
       "      <td>...</td>\n",
       "      <td>...</td>\n",
       "      <td>...</td>\n",
       "      <td>...</td>\n",
       "    </tr>\n",
       "    <tr>\n",
       "      <th>112627</th>\n",
       "      <td>f5e585e188891ed071253bacfad60820</td>\n",
       "      <td>2018-05-07</td>\n",
       "      <td>194.8</td>\n",
       "      <td>19.24</td>\n",
       "      <td>informatica_acessorios</td>\n",
       "      <td>38.0</td>\n",
       "      <td>511.0</td>\n",
       "      <td>1.0</td>\n",
       "      <td>100.0</td>\n",
       "      <td>16.0</td>\n",
       "      <td>8.0</td>\n",
       "      <td>12.0</td>\n",
       "    </tr>\n",
       "    <tr>\n",
       "      <th>112632</th>\n",
       "      <td>af16005fca813272caf59c432153949e</td>\n",
       "      <td>2017-11-18</td>\n",
       "      <td>75.9</td>\n",
       "      <td>9.35</td>\n",
       "      <td>moveis_decoracao</td>\n",
       "      <td>55.0</td>\n",
       "      <td>1186.0</td>\n",
       "      <td>2.0</td>\n",
       "      <td>800.0</td>\n",
       "      <td>53.0</td>\n",
       "      <td>8.0</td>\n",
       "      <td>20.0</td>\n",
       "    </tr>\n",
       "    <tr>\n",
       "      <th>112633</th>\n",
       "      <td>af16005fca813272caf59c432153949e</td>\n",
       "      <td>2017-11-18</td>\n",
       "      <td>75.9</td>\n",
       "      <td>9.35</td>\n",
       "      <td>moveis_decoracao</td>\n",
       "      <td>55.0</td>\n",
       "      <td>1186.0</td>\n",
       "      <td>2.0</td>\n",
       "      <td>800.0</td>\n",
       "      <td>53.0</td>\n",
       "      <td>8.0</td>\n",
       "      <td>20.0</td>\n",
       "    </tr>\n",
       "    <tr>\n",
       "      <th>112634</th>\n",
       "      <td>af16005fca813272caf59c432153949e</td>\n",
       "      <td>2017-11-18</td>\n",
       "      <td>75.9</td>\n",
       "      <td>9.35</td>\n",
       "      <td>moveis_decoracao</td>\n",
       "      <td>55.0</td>\n",
       "      <td>1186.0</td>\n",
       "      <td>2.0</td>\n",
       "      <td>800.0</td>\n",
       "      <td>53.0</td>\n",
       "      <td>8.0</td>\n",
       "      <td>20.0</td>\n",
       "    </tr>\n",
       "    <tr>\n",
       "      <th>112646</th>\n",
       "      <td>0df37da38a30a713453b03053d60d3f7</td>\n",
       "      <td>2017-08-10</td>\n",
       "      <td>356.0</td>\n",
       "      <td>18.12</td>\n",
       "      <td>esporte_lazer</td>\n",
       "      <td>53.0</td>\n",
       "      <td>1105.0</td>\n",
       "      <td>1.0</td>\n",
       "      <td>2800.0</td>\n",
       "      <td>28.0</td>\n",
       "      <td>23.0</td>\n",
       "      <td>23.0</td>\n",
       "    </tr>\n",
       "  </tbody>\n",
       "</table>\n",
       "<p>13025 rows × 12 columns</p>\n",
       "</div>"
      ],
      "text/plain": [
       "                              product_id order_purchase_timestamp  price  \\\n",
       "29      595fac2a385ac33a80bd5114aec74eb8               2018-08-21  116.9   \n",
       "31      595fac2a385ac33a80bd5114aec74eb8               2018-01-02  117.9   \n",
       "39      595fac2a385ac33a80bd5114aec74eb8               2018-05-02  119.9   \n",
       "62      595fac2a385ac33a80bd5114aec74eb8               2018-08-18  116.9   \n",
       "73      595fac2a385ac33a80bd5114aec74eb8               2017-12-12  118.0   \n",
       "...                                  ...                      ...    ...   \n",
       "112627  f5e585e188891ed071253bacfad60820               2018-05-07  194.8   \n",
       "112632  af16005fca813272caf59c432153949e               2017-11-18   75.9   \n",
       "112633  af16005fca813272caf59c432153949e               2017-11-18   75.9   \n",
       "112634  af16005fca813272caf59c432153949e               2017-11-18   75.9   \n",
       "112646  0df37da38a30a713453b03053d60d3f7               2017-08-10  356.0   \n",
       "\n",
       "        freight_value   product_category_name  product_name_lenght  \\\n",
       "29              22.75              perfumaria                 29.0   \n",
       "31              12.83              perfumaria                 29.0   \n",
       "39              15.72              perfumaria                 29.0   \n",
       "62              22.75              perfumaria                 29.0   \n",
       "73               9.02              perfumaria                 29.0   \n",
       "...               ...                     ...                  ...   \n",
       "112627          19.24  informatica_acessorios                 38.0   \n",
       "112632           9.35        moveis_decoracao                 55.0   \n",
       "112633           9.35        moveis_decoracao                 55.0   \n",
       "112634           9.35        moveis_decoracao                 55.0   \n",
       "112646          18.12           esporte_lazer                 53.0   \n",
       "\n",
       "        product_description_lenght  product_photos_qty  product_weight_g  \\\n",
       "29                           178.0                 1.0             400.0   \n",
       "31                           178.0                 1.0             400.0   \n",
       "39                           178.0                 1.0             400.0   \n",
       "62                           178.0                 1.0             400.0   \n",
       "73                           178.0                 1.0             400.0   \n",
       "...                            ...                 ...               ...   \n",
       "112627                       511.0                 1.0             100.0   \n",
       "112632                      1186.0                 2.0             800.0   \n",
       "112633                      1186.0                 2.0             800.0   \n",
       "112634                      1186.0                 2.0             800.0   \n",
       "112646                      1105.0                 1.0            2800.0   \n",
       "\n",
       "        product_length_cm  product_height_cm  product_width_cm  \n",
       "29                   19.0               13.0              19.0  \n",
       "31                   19.0               13.0              19.0  \n",
       "39                   19.0               13.0              19.0  \n",
       "62                   19.0               13.0              19.0  \n",
       "73                   19.0               13.0              19.0  \n",
       "...                   ...                ...               ...  \n",
       "112627               16.0                8.0              12.0  \n",
       "112632               53.0                8.0              20.0  \n",
       "112633               53.0                8.0              20.0  \n",
       "112634               53.0                8.0              20.0  \n",
       "112646               28.0               23.0              23.0  \n",
       "\n",
       "[13025 rows x 12 columns]"
      ]
     },
     "execution_count": 41,
     "metadata": {},
     "output_type": "execute_result"
    }
   ],
   "source": [
    "final_product_df[final_product_df.duplicated()]"
   ]
  },
  {
   "cell_type": "code",
   "execution_count": 43,
   "id": "5363a344",
   "metadata": {},
   "outputs": [
    {
     "data": {
      "text/html": [
       "<div>\n",
       "<style scoped>\n",
       "    .dataframe tbody tr th:only-of-type {\n",
       "        vertical-align: middle;\n",
       "    }\n",
       "\n",
       "    .dataframe tbody tr th {\n",
       "        vertical-align: top;\n",
       "    }\n",
       "\n",
       "    .dataframe thead th {\n",
       "        text-align: right;\n",
       "    }\n",
       "</style>\n",
       "<table border=\"1\" class=\"dataframe\">\n",
       "  <thead>\n",
       "    <tr style=\"text-align: right;\">\n",
       "      <th></th>\n",
       "      <th>order_id</th>\n",
       "      <th>product_id</th>\n",
       "      <th>price</th>\n",
       "      <th>freight_value</th>\n",
       "      <th>order_purchase_timestamp</th>\n",
       "      <th>product_category_name</th>\n",
       "      <th>product_name_lenght</th>\n",
       "      <th>product_description_lenght</th>\n",
       "      <th>product_photos_qty</th>\n",
       "      <th>product_weight_g</th>\n",
       "      <th>product_length_cm</th>\n",
       "      <th>product_height_cm</th>\n",
       "      <th>product_width_cm</th>\n",
       "    </tr>\n",
       "  </thead>\n",
       "  <tbody>\n",
       "    <tr>\n",
       "      <th>15</th>\n",
       "      <td>21b966a378471db65c18fa4ca20d6800</td>\n",
       "      <td>595fac2a385ac33a80bd5114aec74eb8</td>\n",
       "      <td>116.9</td>\n",
       "      <td>15.92</td>\n",
       "      <td>2018-08-21</td>\n",
       "      <td>perfumaria</td>\n",
       "      <td>29.0</td>\n",
       "      <td>178.0</td>\n",
       "      <td>1.0</td>\n",
       "      <td>400.0</td>\n",
       "      <td>19.0</td>\n",
       "      <td>13.0</td>\n",
       "      <td>19.0</td>\n",
       "    </tr>\n",
       "    <tr>\n",
       "      <th>28</th>\n",
       "      <td>d543201a9b42a1402ff97e65b439a48b</td>\n",
       "      <td>595fac2a385ac33a80bd5114aec74eb8</td>\n",
       "      <td>116.9</td>\n",
       "      <td>22.75</td>\n",
       "      <td>2018-08-21</td>\n",
       "      <td>perfumaria</td>\n",
       "      <td>29.0</td>\n",
       "      <td>178.0</td>\n",
       "      <td>1.0</td>\n",
       "      <td>400.0</td>\n",
       "      <td>19.0</td>\n",
       "      <td>13.0</td>\n",
       "      <td>19.0</td>\n",
       "    </tr>\n",
       "    <tr>\n",
       "      <th>29</th>\n",
       "      <td>d543201a9b42a1402ff97e65b439a48b</td>\n",
       "      <td>595fac2a385ac33a80bd5114aec74eb8</td>\n",
       "      <td>116.9</td>\n",
       "      <td>22.75</td>\n",
       "      <td>2018-08-21</td>\n",
       "      <td>perfumaria</td>\n",
       "      <td>29.0</td>\n",
       "      <td>178.0</td>\n",
       "      <td>1.0</td>\n",
       "      <td>400.0</td>\n",
       "      <td>19.0</td>\n",
       "      <td>13.0</td>\n",
       "      <td>19.0</td>\n",
       "    </tr>\n",
       "  </tbody>\n",
       "</table>\n",
       "</div>"
      ],
      "text/plain": [
       "                            order_id                        product_id  price  \\\n",
       "15  21b966a378471db65c18fa4ca20d6800  595fac2a385ac33a80bd5114aec74eb8  116.9   \n",
       "28  d543201a9b42a1402ff97e65b439a48b  595fac2a385ac33a80bd5114aec74eb8  116.9   \n",
       "29  d543201a9b42a1402ff97e65b439a48b  595fac2a385ac33a80bd5114aec74eb8  116.9   \n",
       "\n",
       "    freight_value order_purchase_timestamp product_category_name  \\\n",
       "15          15.92               2018-08-21            perfumaria   \n",
       "28          22.75               2018-08-21            perfumaria   \n",
       "29          22.75               2018-08-21            perfumaria   \n",
       "\n",
       "    product_name_lenght  product_description_lenght  product_photos_qty  \\\n",
       "15                 29.0                       178.0                 1.0   \n",
       "28                 29.0                       178.0                 1.0   \n",
       "29                 29.0                       178.0                 1.0   \n",
       "\n",
       "    product_weight_g  product_length_cm  product_height_cm  product_width_cm  \n",
       "15             400.0               19.0               13.0              19.0  \n",
       "28             400.0               19.0               13.0              19.0  \n",
       "29             400.0               19.0               13.0              19.0  "
      ]
     },
     "execution_count": 43,
     "metadata": {},
     "output_type": "execute_result"
    }
   ],
   "source": [
    "prod = '595fac2a385ac33a80bd5114aec74eb8'\n",
    "day = '2018-08-21'\n",
    "product_df.query(\"product_id == @prod and order_purchase_timestamp == @day\")"
   ]
  },
  {
   "cell_type": "code",
   "execution_count": 44,
   "id": "0756da88",
   "metadata": {},
   "outputs": [
    {
     "data": {
      "text/html": [
       "<div>\n",
       "<style scoped>\n",
       "    .dataframe tbody tr th:only-of-type {\n",
       "        vertical-align: middle;\n",
       "    }\n",
       "\n",
       "    .dataframe tbody tr th {\n",
       "        vertical-align: top;\n",
       "    }\n",
       "\n",
       "    .dataframe thead th {\n",
       "        text-align: right;\n",
       "    }\n",
       "</style>\n",
       "<table border=\"1\" class=\"dataframe\">\n",
       "  <thead>\n",
       "    <tr style=\"text-align: right;\">\n",
       "      <th></th>\n",
       "      <th>product_id</th>\n",
       "      <th>order_purchase_timestamp</th>\n",
       "      <th>price</th>\n",
       "      <th>freight_value</th>\n",
       "      <th>product_category_name</th>\n",
       "      <th>product_name_lenght</th>\n",
       "      <th>product_description_lenght</th>\n",
       "      <th>product_photos_qty</th>\n",
       "      <th>product_weight_g</th>\n",
       "      <th>product_length_cm</th>\n",
       "      <th>product_height_cm</th>\n",
       "      <th>product_width_cm</th>\n",
       "    </tr>\n",
       "  </thead>\n",
       "  <tbody>\n",
       "    <tr>\n",
       "      <th>15</th>\n",
       "      <td>595fac2a385ac33a80bd5114aec74eb8</td>\n",
       "      <td>2018-08-21</td>\n",
       "      <td>116.9</td>\n",
       "      <td>15.92</td>\n",
       "      <td>perfumaria</td>\n",
       "      <td>29.0</td>\n",
       "      <td>178.0</td>\n",
       "      <td>1.0</td>\n",
       "      <td>400.0</td>\n",
       "      <td>19.0</td>\n",
       "      <td>13.0</td>\n",
       "      <td>19.0</td>\n",
       "    </tr>\n",
       "    <tr>\n",
       "      <th>28</th>\n",
       "      <td>595fac2a385ac33a80bd5114aec74eb8</td>\n",
       "      <td>2018-08-21</td>\n",
       "      <td>116.9</td>\n",
       "      <td>22.75</td>\n",
       "      <td>perfumaria</td>\n",
       "      <td>29.0</td>\n",
       "      <td>178.0</td>\n",
       "      <td>1.0</td>\n",
       "      <td>400.0</td>\n",
       "      <td>19.0</td>\n",
       "      <td>13.0</td>\n",
       "      <td>19.0</td>\n",
       "    </tr>\n",
       "    <tr>\n",
       "      <th>29</th>\n",
       "      <td>595fac2a385ac33a80bd5114aec74eb8</td>\n",
       "      <td>2018-08-21</td>\n",
       "      <td>116.9</td>\n",
       "      <td>22.75</td>\n",
       "      <td>perfumaria</td>\n",
       "      <td>29.0</td>\n",
       "      <td>178.0</td>\n",
       "      <td>1.0</td>\n",
       "      <td>400.0</td>\n",
       "      <td>19.0</td>\n",
       "      <td>13.0</td>\n",
       "      <td>19.0</td>\n",
       "    </tr>\n",
       "  </tbody>\n",
       "</table>\n",
       "</div>"
      ],
      "text/plain": [
       "                          product_id order_purchase_timestamp  price  \\\n",
       "15  595fac2a385ac33a80bd5114aec74eb8               2018-08-21  116.9   \n",
       "28  595fac2a385ac33a80bd5114aec74eb8               2018-08-21  116.9   \n",
       "29  595fac2a385ac33a80bd5114aec74eb8               2018-08-21  116.9   \n",
       "\n",
       "    freight_value product_category_name  product_name_lenght  \\\n",
       "15          15.92            perfumaria                 29.0   \n",
       "28          22.75            perfumaria                 29.0   \n",
       "29          22.75            perfumaria                 29.0   \n",
       "\n",
       "    product_description_lenght  product_photos_qty  product_weight_g  \\\n",
       "15                       178.0                 1.0             400.0   \n",
       "28                       178.0                 1.0             400.0   \n",
       "29                       178.0                 1.0             400.0   \n",
       "\n",
       "    product_length_cm  product_height_cm  product_width_cm  \n",
       "15               19.0               13.0              19.0  \n",
       "28               19.0               13.0              19.0  \n",
       "29               19.0               13.0              19.0  "
      ]
     },
     "execution_count": 44,
     "metadata": {},
     "output_type": "execute_result"
    }
   ],
   "source": [
    "final_product_df.query(\"product_id == @prod and order_purchase_timestamp == @day\")"
   ]
  },
  {
   "cell_type": "code",
   "execution_count": 45,
   "id": "9b2127eb",
   "metadata": {},
   "outputs": [
    {
     "data": {
      "text/plain": [
       "((94591, 3), (94591, 3))"
      ]
     },
     "execution_count": 45,
     "metadata": {},
     "output_type": "execute_result"
    }
   ],
   "source": [
    "count_df = final_product_df.groupby(['product_id', 'order_purchase_timestamp']).size().reset_index(name='demand')\n",
    "count_df.drop_duplicates().shape,count_df.shape"
   ]
  },
  {
   "cell_type": "code",
   "execution_count": 46,
   "id": "c8ec5fa6",
   "metadata": {},
   "outputs": [],
   "source": [
    "final_df = count_df.merge(final_product_df.drop_duplicates(),on = ['product_id', 'order_purchase_timestamp'],how = 'left')"
   ]
  },
  {
   "cell_type": "code",
   "execution_count": 47,
   "id": "45f1fb55",
   "metadata": {},
   "outputs": [
    {
     "data": {
      "text/plain": [
       "((99625, 13), (99625, 13))"
      ]
     },
     "execution_count": 47,
     "metadata": {},
     "output_type": "execute_result"
    }
   ],
   "source": [
    "final_df.drop_duplicates().shape,final_df.shape #duplicates because timestamp is converted to day , we removed the time aspect"
   ]
  },
  {
   "cell_type": "code",
   "execution_count": 48,
   "id": "d95278fe",
   "metadata": {},
   "outputs": [
    {
     "data": {
      "text/plain": [
       "((99625, 13), (99625, 13))"
      ]
     },
     "execution_count": 48,
     "metadata": {},
     "output_type": "execute_result"
    }
   ],
   "source": [
    "final_df.shape,final_df.drop_duplicates().shape"
   ]
  },
  {
   "cell_type": "code",
   "execution_count": 49,
   "id": "48e111cf",
   "metadata": {},
   "outputs": [
    {
     "name": "stdout",
     "output_type": "stream",
     "text": [
      "<class 'pandas.core.frame.DataFrame'>\n",
      "Int64Index: 99625 entries, 0 to 99624\n",
      "Data columns (total 13 columns):\n",
      " #   Column                      Non-Null Count  Dtype  \n",
      "---  ------                      --------------  -----  \n",
      " 0   product_id                  99625 non-null  object \n",
      " 1   order_purchase_timestamp    99625 non-null  object \n",
      " 2   demand                      99625 non-null  int64  \n",
      " 3   price                       99625 non-null  float64\n",
      " 4   freight_value               99625 non-null  float64\n",
      " 5   product_category_name       98226 non-null  object \n",
      " 6   product_name_lenght         98226 non-null  float64\n",
      " 7   product_description_lenght  98226 non-null  float64\n",
      " 8   product_photos_qty          98226 non-null  float64\n",
      " 9   product_weight_g            99609 non-null  float64\n",
      " 10  product_length_cm           99609 non-null  float64\n",
      " 11  product_height_cm           99609 non-null  float64\n",
      " 12  product_width_cm            99609 non-null  float64\n",
      "dtypes: float64(9), int64(1), object(3)\n",
      "memory usage: 10.6+ MB\n"
     ]
    }
   ],
   "source": [
    "final_df.info()"
   ]
  },
  {
   "cell_type": "code",
   "execution_count": 49,
   "id": "22dc17f4",
   "metadata": {},
   "outputs": [],
   "source": [
    "final_df.to_csv(\"C:/Users/akankshasaxena3/Downloads/olist/product_charateristics_df_developed_in_easy_way.csv\")"
   ]
  }
 ],
 "metadata": {
  "kernelspec": {
   "display_name": "Python 3 (ipykernel)",
   "language": "python",
   "name": "python3"
  },
  "language_info": {
   "codemirror_mode": {
    "name": "ipython",
    "version": 3
   },
   "file_extension": ".py",
   "mimetype": "text/x-python",
   "name": "python",
   "nbconvert_exporter": "python",
   "pygments_lexer": "ipython3",
   "version": "3.9.12"
  },
  "toc": {
   "base_numbering": 1,
   "nav_menu": {},
   "number_sections": true,
   "sideBar": true,
   "skip_h1_title": false,
   "title_cell": "Table of Contents",
   "title_sidebar": "Contents",
   "toc_cell": false,
   "toc_position": {},
   "toc_section_display": true,
   "toc_window_display": false
  }
 },
 "nbformat": 4,
 "nbformat_minor": 5
}
