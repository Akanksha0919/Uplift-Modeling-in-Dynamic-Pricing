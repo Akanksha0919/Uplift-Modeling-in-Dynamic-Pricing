{
 "cells": [
  {
   "cell_type": "code",
   "execution_count": 1,
   "id": "883c4088",
   "metadata": {},
   "outputs": [],
   "source": [
    "from linearmodels import PooledOLS\n",
    "import statsmodels.api as sm\n",
    "import os\n",
    "import pandas as pd\n",
    "import numpy as np\n",
    "import re\n",
    "import matplotlib.pyplot as plt\n",
    "from linearmodels import PanelOLS\n",
    "\n",
    "%matplotlib inline "
   ]
  },
  {
   "cell_type": "markdown",
   "id": "caaafdef",
   "metadata": {},
   "source": [
    "## Data Importing"
   ]
  },
  {
   "cell_type": "code",
   "execution_count": 2,
   "id": "d2a75400",
   "metadata": {},
   "outputs": [],
   "source": [
    "product_category_name_translation=pd.read_csv(\"C:/Users/akankshasaxena3/Downloads/olist/product_category_name_translation.csv\")"
   ]
  },
  {
   "cell_type": "code",
   "execution_count": 3,
   "id": "e9e0eced",
   "metadata": {
    "scrolled": true
   },
   "outputs": [
    {
     "name": "stderr",
     "output_type": "stream",
     "text": [
      "C:\\Users\\akankshasaxena3\\AppData\\Local\\Temp\\ipykernel_38596\\2823244794.py:1: DtypeWarning: Columns (21) have mixed types. Specify dtype option on import or set low_memory=False.\n",
      "  causal_df_all_products =  pd.read_csv(\"C:/Users/akankshasaxena3/Downloads/olist/purhcase_proba_all_products_resampled.csv\")\n",
      "C:\\Users\\akankshasaxena3\\AppData\\Local\\Temp\\ipykernel_38596\\2823244794.py:2: DtypeWarning: Columns (21) have mixed types. Specify dtype option on import or set low_memory=False.\n",
      "  causal_df_elastic_products = pd.read_csv(\"C:/Users/akankshasaxena3/Downloads/olist/purhcase_proba_elastic_products.csv\")\n",
      "C:\\Users\\akankshasaxena3\\AppData\\Local\\Temp\\ipykernel_38596\\2823244794.py:5: DtypeWarning: Columns (21) have mixed types. Specify dtype option on import or set low_memory=False.\n",
      "  causal_inelastic_products=pd.read_csv(\"C:/Users/akankshasaxena3/Downloads/olist/purhcase_proba_inelastic_products.csv\")\n"
     ]
    }
   ],
   "source": [
    "causal_df_all_products =  pd.read_csv(\"C:/Users/akankshasaxena3/Downloads/olist/purhcase_proba_all_products_resampled.csv\")\n",
    "causal_df_elastic_products = pd.read_csv(\"C:/Users/akankshasaxena3/Downloads/olist/purhcase_proba_elastic_products.csv\")\n",
    "causal_df_veblen_products = pd.read_csv(\"C:/Users/akankshasaxena3/Downloads/olist/purhcase_proba_veblen_products.csv\")\n",
    "causal_df_neg_PED_products = pd.read_csv(\"C:/Users/akankshasaxena3/Downloads/olist/purhcase_proba_neg_PED_elastic_prods_products.csv\")\n",
    "causal_inelastic_products=pd.read_csv(\"C:/Users/akankshasaxena3/Downloads/olist/purhcase_proba_inelastic_products.csv\")"
   ]
  },
  {
   "cell_type": "markdown",
   "id": "4cd17c5e",
   "metadata": {},
   "source": [
    "### Adding English transaltion of product category names to all datasets"
   ]
  },
  {
   "cell_type": "code",
   "execution_count": 4,
   "id": "09fe5879",
   "metadata": {},
   "outputs": [],
   "source": [
    "def print_shape(data,data_name):\n",
    "    print(f\"shape of the DataFrame {data_name} =\"+ str(data.shape))\n",
    "            \n",
    "def add_english_translation_prod_name(data):\n",
    "    final = pd.merge(data,product_category_name_translation,on = 'product_category_name',how ='left')\n",
    "    return final\n"
   ]
  },
  {
   "cell_type": "code",
   "execution_count": 5,
   "id": "3572c259",
   "metadata": {},
   "outputs": [],
   "source": [
    "dataframes_dict = {'causal_df_all_products': causal_df_all_products, 'causal_df_elastic_products': causal_df_elastic_products, 'causal_df_veblen_products': causal_df_veblen_products, 'causal_df_neg_PED_products': causal_df_neg_PED_products,'causal_inelastic_products':causal_inelastic_products}"
   ]
  },
  {
   "cell_type": "code",
   "execution_count": 6,
   "id": "beecee9c",
   "metadata": {},
   "outputs": [
    {
     "data": {
      "text/plain": [
       "((116502, 38), (116502, 38))"
      ]
     },
     "execution_count": 6,
     "metadata": {},
     "output_type": "execute_result"
    }
   ],
   "source": [
    "dataframes_dict['causal_df_all_products'].shape,causal_df_all_products.shape"
   ]
  },
  {
   "cell_type": "code",
   "execution_count": 7,
   "id": "7ec4ce1d",
   "metadata": {
    "scrolled": true
   },
   "outputs": [
    {
     "name": "stdout",
     "output_type": "stream",
     "text": [
      "shape of the DataFrame causal_df_all_products =(116502, 38)\n",
      "shape of the DataFrame causal_df_all_products =(116502, 39)\n",
      "------------------------------------->>>>>>>>>>\n",
      "shape of the DataFrame causal_df_elastic_products =(42357, 38)\n",
      "shape of the DataFrame causal_df_elastic_products =(42357, 39)\n",
      "------------------------------------->>>>>>>>>>\n",
      "shape of the DataFrame causal_df_veblen_products =(28473, 38)\n",
      "shape of the DataFrame causal_df_veblen_products =(28473, 39)\n",
      "------------------------------------->>>>>>>>>>\n",
      "shape of the DataFrame causal_df_neg_PED_products =(13884, 38)\n",
      "shape of the DataFrame causal_df_neg_PED_products =(13884, 39)\n",
      "------------------------------------->>>>>>>>>>\n",
      "shape of the DataFrame causal_inelastic_products =(74145, 38)\n",
      "shape of the DataFrame causal_inelastic_products =(74145, 39)\n",
      "------------------------------------->>>>>>>>>>\n"
     ]
    }
   ],
   "source": [
    "for df_name, df in dataframes_dict.items():\n",
    "    print_shape(df,df_name)\n",
    "    globals()[df_name] = add_english_translation_prod_name(df)\n",
    "    print_shape(globals()[df_name], df_name)\n",
    "    print('------------------------------------->>>>>>>>>>')"
   ]
  },
  {
   "cell_type": "code",
   "execution_count": 8,
   "id": "1d0280e8",
   "metadata": {},
   "outputs": [
    {
     "data": {
      "text/plain": [
       "(1767, 39)"
      ]
     },
     "execution_count": 8,
     "metadata": {},
     "output_type": "execute_result"
    }
   ],
   "source": [
    "causal_df_all_products[causal_df_all_products['product_category_name'] == 'miscellaneous'].shape"
   ]
  },
  {
   "cell_type": "code",
   "execution_count": 9,
   "id": "fd92a60c",
   "metadata": {},
   "outputs": [
    {
     "data": {
      "text/plain": [
       "(28473, 39)"
      ]
     },
     "execution_count": 9,
     "metadata": {},
     "output_type": "execute_result"
    }
   ],
   "source": [
    "causal_df_veblen_products.shape"
   ]
  },
  {
   "cell_type": "code",
   "execution_count": 10,
   "id": "5ba200e8",
   "metadata": {
    "scrolled": true
   },
   "outputs": [
    {
     "name": "stdout",
     "output_type": "stream",
     "text": [
      "<class 'pandas.core.frame.DataFrame'>\n",
      "Int64Index: 116502 entries, 0 to 116501\n",
      "Data columns (total 39 columns):\n",
      " #   Column                         Non-Null Count   Dtype  \n",
      "---  ------                         --------------   -----  \n",
      " 0   Unnamed: 0.1                   116502 non-null  int64  \n",
      " 1   Unnamed: 0                     116502 non-null  int64  \n",
      " 2   order_id                       116502 non-null  object \n",
      " 3   customer_id                    116502 non-null  object \n",
      " 4   order_status                   116502 non-null  object \n",
      " 5   order_purchase_timestamp       116502 non-null  object \n",
      " 6   order_estimated_delivery_date  116502 non-null  object \n",
      " 7   product_id                     116502 non-null  object \n",
      " 8   purchase_proba                 116502 non-null  int64  \n",
      " 9   customer_unique_id             116502 non-null  object \n",
      " 10  customer_zip_code_prefix       116502 non-null  int64  \n",
      " 11  customer_city                  116502 non-null  object \n",
      " 12  customer_state                 116502 non-null  object \n",
      " 13  aging_index                    116502 non-null  float64\n",
      " 14  Median_age                     116502 non-null  float64\n",
      " 15  sex_ratio                      116502 non-null  float64\n",
      " 16  demand                         116502 non-null  int64  \n",
      " 17  price                          116502 non-null  float64\n",
      " 18  freight_value                  116502 non-null  float64\n",
      " 19  category_frequency             116502 non-null  float64\n",
      " 20  cumulative_demand              116502 non-null  float64\n",
      " 21  revenue                        116502 non-null  object \n",
      " 22  weekday_number                 116502 non-null  int64  \n",
      " 23  month_number                   116502 non-null  int64  \n",
      " 24  year_number                    116502 non-null  int64  \n",
      " 25  is_holiday                     116502 non-null  bool   \n",
      " 26  sales_margin                   116502 non-null  float64\n",
      " 27  log_price                      116502 non-null  float64\n",
      " 28  coef_log_price                 116502 non-null  float64\n",
      " 29  avg_price_last_3_days          116502 non-null  float64\n",
      " 30  category_mean_demand           116502 non-null  float64\n",
      " 31  product_category_name          116502 non-null  object \n",
      " 32  optimal_prices_RF              116502 non-null  float64\n",
      " 33  post                           116502 non-null  int64  \n",
      " 34  customer_state_loo_encoded     116502 non-null  float64\n",
      " 35  state_Freq_Encoded             116502 non-null  float64\n",
      " 36  abs_PED                        116502 non-null  float64\n",
      " 37  est_purchase_proba             116502 non-null  float64\n",
      " 38  product_category_name_english  114711 non-null  object \n",
      "dtypes: bool(1), float64(17), int64(9), object(12)\n",
      "memory usage: 34.8+ MB\n"
     ]
    }
   ],
   "source": [
    "causal_df_all_products.info()"
   ]
  },
  {
   "cell_type": "code",
   "execution_count": 11,
   "id": "e365edc0",
   "metadata": {
    "scrolled": true
   },
   "outputs": [
    {
     "name": "stdout",
     "output_type": "stream",
     "text": [
      "<class 'pandas.core.frame.DataFrame'>\n",
      "Int64Index: 42357 entries, 0 to 42356\n",
      "Data columns (total 39 columns):\n",
      " #   Column                         Non-Null Count  Dtype  \n",
      "---  ------                         --------------  -----  \n",
      " 0   Unnamed: 0.1                   42357 non-null  int64  \n",
      " 1   Unnamed: 0                     42357 non-null  int64  \n",
      " 2   order_id                       42357 non-null  object \n",
      " 3   customer_id                    42357 non-null  object \n",
      " 4   order_status                   42357 non-null  object \n",
      " 5   order_purchase_timestamp       42357 non-null  object \n",
      " 6   order_estimated_delivery_date  42357 non-null  object \n",
      " 7   product_id                     42357 non-null  object \n",
      " 8   purchase_proba                 42357 non-null  int64  \n",
      " 9   customer_unique_id             42357 non-null  object \n",
      " 10  customer_zip_code_prefix       42357 non-null  int64  \n",
      " 11  customer_city                  42357 non-null  object \n",
      " 12  customer_state                 42357 non-null  object \n",
      " 13  aging_index                    42357 non-null  float64\n",
      " 14  Median_age                     42357 non-null  float64\n",
      " 15  sex_ratio                      42357 non-null  float64\n",
      " 16  demand                         42357 non-null  int64  \n",
      " 17  price                          42357 non-null  float64\n",
      " 18  freight_value                  42357 non-null  float64\n",
      " 19  category_frequency             42357 non-null  float64\n",
      " 20  cumulative_demand              42357 non-null  float64\n",
      " 21  revenue                        42357 non-null  object \n",
      " 22  weekday_number                 42357 non-null  int64  \n",
      " 23  month_number                   42357 non-null  int64  \n",
      " 24  year_number                    42357 non-null  int64  \n",
      " 25  is_holiday                     42357 non-null  bool   \n",
      " 26  sales_margin                   42357 non-null  float64\n",
      " 27  log_price                      42357 non-null  float64\n",
      " 28  coef_log_price                 42357 non-null  float64\n",
      " 29  avg_price_last_3_days          42357 non-null  float64\n",
      " 30  category_mean_demand           42357 non-null  float64\n",
      " 31  product_category_name          42357 non-null  object \n",
      " 32  optimal_prices_RF              42357 non-null  float64\n",
      " 33  post                           42357 non-null  int64  \n",
      " 34  customer_state_loo_encoded     42357 non-null  float64\n",
      " 35  state_Freq_Encoded             42357 non-null  float64\n",
      " 36  abs_PED                        42357 non-null  float64\n",
      " 37  est_purchase_proba             42357 non-null  float64\n",
      " 38  product_category_name_english  41911 non-null  object \n",
      "dtypes: bool(1), float64(17), int64(9), object(12)\n",
      "memory usage: 12.6+ MB\n"
     ]
    }
   ],
   "source": [
    "causal_df_elastic_products.info()"
   ]
  },
  {
   "cell_type": "markdown",
   "id": "9e2741d6",
   "metadata": {},
   "source": [
    "### Preprocessing datasets"
   ]
  },
  {
   "cell_type": "code",
   "execution_count": 12,
   "id": "7007d24a",
   "metadata": {},
   "outputs": [],
   "source": [
    "causal_df_all_products['order_purchase_timestamp']= pd.to_datetime(causal_df_all_products['order_purchase_timestamp'])\n",
    "causal_df_elastic_products['order_purchase_timestamp']= pd.to_datetime(causal_df_elastic_products['order_purchase_timestamp'])\n",
    "causal_df_veblen_products['order_purchase_timestamp']= pd.to_datetime(causal_df_veblen_products['order_purchase_timestamp'])\n",
    "causal_df_neg_PED_products['order_purchase_timestamp']= pd.to_datetime(causal_df_neg_PED_products['order_purchase_timestamp'])\n",
    "causal_inelastic_products['order_purchase_timestamp']= pd.to_datetime(causal_inelastic_products['order_purchase_timestamp'])"
   ]
  },
  {
   "cell_type": "code",
   "execution_count": 13,
   "id": "f3a6853a",
   "metadata": {},
   "outputs": [],
   "source": [
    "causal_df_all_products['year'] = causal_df_all_products['order_purchase_timestamp'].dt.year\n",
    "causal_df_elastic_products['year'] = causal_df_elastic_products['order_purchase_timestamp'].dt.year\n",
    "causal_df_veblen_products['year'] = causal_df_veblen_products['order_purchase_timestamp'].dt.year\n",
    "causal_df_neg_PED_products['year'] = causal_df_neg_PED_products['order_purchase_timestamp'].dt.year\n",
    "causal_inelastic_products['year'] = causal_inelastic_products['order_purchase_timestamp'].dt.year"
   ]
  },
  {
   "cell_type": "code",
   "execution_count": 14,
   "id": "b7c68c23",
   "metadata": {},
   "outputs": [],
   "source": [
    "causal_df_all_products['month'] = causal_df_all_products['order_purchase_timestamp'].dt.month\n",
    "causal_df_elastic_products['month'] = causal_df_elastic_products['order_purchase_timestamp'].dt.month\n",
    "causal_df_veblen_products['month'] = causal_df_veblen_products['order_purchase_timestamp'].dt.month\n",
    "causal_df_neg_PED_products['month'] = causal_df_neg_PED_products['order_purchase_timestamp'].dt.month\n",
    "causal_inelastic_products['month'] = causal_inelastic_products['order_purchase_timestamp'].dt.month"
   ]
  },
  {
   "cell_type": "code",
   "execution_count": 15,
   "id": "e8603b5e",
   "metadata": {},
   "outputs": [
    {
     "data": {
      "text/plain": [
       "8     12427\n",
       "5     12307\n",
       "7     11896\n",
       "3     11542\n",
       "6     10839\n",
       "4     10828\n",
       "2      9984\n",
       "1      9845\n",
       "11     9716\n",
       "12     6665\n",
       "10     5549\n",
       "9      4904\n",
       "Name: month, dtype: int64"
      ]
     },
     "execution_count": 15,
     "metadata": {},
     "output_type": "execute_result"
    }
   ],
   "source": [
    "causal_df_all_products['month'].value_counts()"
   ]
  },
  {
   "cell_type": "code",
   "execution_count": 16,
   "id": "506afbeb",
   "metadata": {},
   "outputs": [
    {
     "data": {
      "text/plain": [
       "2018    17094\n",
       "2017    11308\n",
       "2016       71\n",
       "Name: year, dtype: int64"
      ]
     },
     "execution_count": 16,
     "metadata": {},
     "output_type": "execute_result"
    }
   ],
   "source": [
    "causal_df_veblen_products['year'].value_counts()"
   ]
  },
  {
   "cell_type": "code",
   "execution_count": 17,
   "id": "08356bbe",
   "metadata": {},
   "outputs": [
    {
     "data": {
      "text/plain": [
       "2018    63827\n",
       "2017    52323\n",
       "2016      352\n",
       "Name: year, dtype: int64"
      ]
     },
     "execution_count": 17,
     "metadata": {},
     "output_type": "execute_result"
    }
   ],
   "source": [
    "causal_df_all_products['year'].value_counts()"
   ]
  },
  {
   "cell_type": "code",
   "execution_count": 18,
   "id": "d888b698",
   "metadata": {},
   "outputs": [
    {
     "data": {
      "text/plain": [
       "2018    24243\n",
       "2017    18028\n",
       "2016       86\n",
       "Name: year, dtype: int64"
      ]
     },
     "execution_count": 18,
     "metadata": {},
     "output_type": "execute_result"
    }
   ],
   "source": [
    "causal_df_elastic_products['year'].value_counts()"
   ]
  },
  {
   "cell_type": "markdown",
   "id": "e0b87e93",
   "metadata": {},
   "source": [
    "Post obtaining consumer purchase probability, the study employs causal analysis to check the impact of dynamic pricing policy on consumer behvaior. For this purpose continous DID estimator is utilized in this study. Usually continous DID estimator is calbirated using Two-way-fixed-effects regression model."
   ]
  },
  {
   "cell_type": "markdown",
   "id": "4145a57a",
   "metadata": {},
   "source": [
    "## TWFE for all products"
   ]
  },
  {
   "cell_type": "markdown",
   "id": "7542f626",
   "metadata": {},
   "source": [
    "### EDA for all products"
   ]
  },
  {
   "cell_type": "code",
   "execution_count": 19,
   "id": "6302dab4",
   "metadata": {},
   "outputs": [
    {
     "data": {
      "image/png": "[encoded data removed]",
      "text/plain": [
       "<Figure size 432x288 with 1 Axes>"
      ]
     },
     "metadata": {
      "needs_background": "light"
     },
     "output_type": "display_data"
    }
   ],
   "source": [
    "plt.hist(causal_df_all_products['est_purchase_proba'],bins = 5)\n",
    "plt.show()"
   ]
  },
  {
   "cell_type": "code",
   "execution_count": 20,
   "id": "20859dcd",
   "metadata": {},
   "outputs": [
    {
     "data": {
      "image/png": "[encoded data removed]",
      "text/plain": [
       "<Figure size 432x288 with 1 Axes>"
      ]
     },
     "metadata": {
      "needs_background": "light"
     },
     "output_type": "display_data"
    }
   ],
   "source": [
    "plt.hist(np.log(causal_df_all_products['optimal_prices_RF']),bins = 5)\n",
    "plt.show()"
   ]
  },
  {
   "cell_type": "code",
   "execution_count": 21,
   "id": "e1cbe1df",
   "metadata": {},
   "outputs": [
    {
     "data": {
      "image/png": "[encoded data removed]",
      "text/plain": [
       "<Figure size 432x288 with 1 Axes>"
      ]
     },
     "metadata": {
      "needs_background": "light"
     },
     "output_type": "display_data"
    }
   ],
   "source": [
    "plt.hist(causal_df_all_products['optimal_prices_RF'],bins = 5)\n",
    "plt.show()"
   ]
  },
  {
   "cell_type": "code",
   "execution_count": 22,
   "id": "7d391243",
   "metadata": {},
   "outputs": [
    {
     "data": {
      "image/png": "[encoded data removed]",
      "text/plain": [
       "<Figure size 432x288 with 1 Axes>"
      ]
     },
     "metadata": {
      "needs_background": "light"
     },
     "output_type": "display_data"
    }
   ],
   "source": [
    "plt.hist(causal_df_all_products['abs_PED'],bins = 5)\n",
    "plt.show()"
   ]
  },
  {
   "cell_type": "code",
   "execution_count": 23,
   "id": "dbd4d7ca",
   "metadata": {},
   "outputs": [
    {
     "data": {
      "image/png": "[encoded data removed]",
      "text/plain": [
       "<Figure size 432x288 with 1 Axes>"
      ]
     },
     "metadata": {
      "needs_background": "light"
     },
     "output_type": "display_data"
    }
   ],
   "source": [
    "plt.hist(causal_df_all_products[causal_df_all_products['abs_PED']<1]['coef_log_price'],bins = 5)\n",
    "plt.show()\n"
   ]
  },
  {
   "cell_type": "code",
   "execution_count": 24,
   "id": "527f1c76",
   "metadata": {},
   "outputs": [
    {
     "data": {
      "image/png": "[encoded data removed]",
      "text/plain": [
       "<Figure size 432x288 with 1 Axes>"
      ]
     },
     "metadata": {
      "needs_background": "light"
     },
     "output_type": "display_data"
    }
   ],
   "source": [
    "plt.hist(causal_df_all_products[causal_df_all_products['abs_PED']>1]['coef_log_price'],bins = 5)\n",
    "plt.show()"
   ]
  },
  {
   "cell_type": "code",
   "execution_count": 25,
   "id": "0536c124",
   "metadata": {},
   "outputs": [
    {
     "data": {
      "text/plain": [
       "20.100807675957977"
      ]
     },
     "execution_count": 25,
     "metadata": {},
     "output_type": "execute_result"
    }
   ],
   "source": [
    "causal_df_all_products.query('abs_PED > 1 and coef_log_price > 0')['product_id'].nunique()/causal_df_all_products['product_id'].nunique()*100"
   ]
  },
  {
   "cell_type": "markdown",
   "id": "91246335",
   "metadata": {},
   "source": [
    "Only 20% products are elastic"
   ]
  },
  {
   "cell_type": "code",
   "execution_count": 26,
   "id": "68564f4f",
   "metadata": {},
   "outputs": [
    {
     "data": {
      "text/plain": [
       "delivered      27905\n",
       "shipped          294\n",
       "canceled         103\n",
       "invoiced         102\n",
       "processing        67\n",
       "unavailable        1\n",
       "approved           1\n",
       "Name: order_status, dtype: int64"
      ]
     },
     "execution_count": 26,
     "metadata": {},
     "output_type": "execute_result"
    }
   ],
   "source": [
    "causal_df_all_products.query('abs_PED > 1 and coef_log_price > 0')['order_status'].value_counts()"
   ]
  },
  {
   "cell_type": "code",
   "execution_count": 27,
   "id": "1f85ef28",
   "metadata": {},
   "outputs": [
    {
     "data": {
      "text/plain": [
       "delivered      114011\n",
       "shipped          1295\n",
       "canceled          481\n",
       "invoiced          371\n",
       "processing        334\n",
       "unavailable         8\n",
       "approved            2\n",
       "Name: order_status, dtype: int64"
      ]
     },
     "execution_count": 27,
     "metadata": {},
     "output_type": "execute_result"
    }
   ],
   "source": [
    "causal_df_all_products['order_status'].value_counts()"
   ]
  },
  {
   "cell_type": "markdown",
   "id": "78d72730",
   "metadata": {},
   "source": [
    "### TWFE with only price and no control variables"
   ]
  },
  {
   "cell_type": "code",
   "execution_count": 28,
   "id": "36027936",
   "metadata": {},
   "outputs": [],
   "source": [
    "\n",
    "model_cluster = PanelOLS.from_formula(\n",
    "  formula=(\"log(est_purchase_proba) ~ 1+log(optimal_prices_RF):post+ EntityEffects+TimeEffects\"\n",
    "           ),\n",
    "  data=causal_df_all_products.set_index(['product_id', 'month']),\n",
    ").fit(cov_type=\"clustered\", cluster_entity=True)"
   ]
  },
  {
   "cell_type": "code",
   "execution_count": 29,
   "id": "89c87c59",
   "metadata": {},
   "outputs": [
    {
     "data": {
      "text/html": [
       "<table class=\"simpletable\">\n",
       "<caption>PanelOLS Estimation Summary</caption>\n",
       "<tr>\n",
       "  <th>Dep. Variable:</th>    <td>log(est_purchase_proba)</td> <th>  R-squared:         </th>     <td>0.0014</td>  \n",
       "</tr>\n",
       "<tr>\n",
       "  <th>Estimator:</th>               <td>PanelOLS</td>         <th>  R-squared (Between):</th>    <td>0.0018</td>  \n",
       "</tr>\n",
       "<tr>\n",
       "  <th>No. Observations:</th>         <td>116502</td>          <th>  R-squared (Within):</th>     <td>0.0020</td>  \n",
       "</tr>\n",
       "<tr>\n",
       "  <th>Date:</th>                <td>Sat, Mar 09 2024</td>     <th>  R-squared (Overall):</th>    <td>0.0097</td>  \n",
       "</tr>\n",
       "<tr>\n",
       "  <th>Time:</th>                    <td>09:15:08</td>         <th>  Log-likelihood     </th>    <td>1.137e+05</td>\n",
       "</tr>\n",
       "<tr>\n",
       "  <th>Cov. Estimator:</th>          <td>Clustered</td>        <th>                     </th>        <td></td>     \n",
       "</tr>\n",
       "<tr>\n",
       "  <th></th>                             <td></td>             <th>  F-statistic:       </th>     <td>116.55</td>  \n",
       "</tr>\n",
       "<tr>\n",
       "  <th>Entities:</th>                  <td>32934</td>          <th>  P-value            </th>     <td>0.0000</td>  \n",
       "</tr>\n",
       "<tr>\n",
       "  <th>Avg Obs:</th>                  <td>3.5374</td>          <th>  Distribution:      </th>   <td>F(1,83556)</td>\n",
       "</tr>\n",
       "<tr>\n",
       "  <th>Min Obs:</th>                  <td>1.0000</td>          <th>                     </th>        <td></td>     \n",
       "</tr>\n",
       "<tr>\n",
       "  <th>Max Obs:</th>                  <td>955.00</td>          <th>  F-statistic (robust):</th>   <td>36.184</td>  \n",
       "</tr>\n",
       "<tr>\n",
       "  <th></th>                             <td></td>             <th>  P-value            </th>     <td>0.0000</td>  \n",
       "</tr>\n",
       "<tr>\n",
       "  <th>Time periods:</th>               <td>12</td>            <th>  Distribution:      </th>   <td>F(1,83556)</td>\n",
       "</tr>\n",
       "<tr>\n",
       "  <th>Avg Obs:</th>                  <td>9708.5</td>          <th>                     </th>        <td></td>     \n",
       "</tr>\n",
       "<tr>\n",
       "  <th>Min Obs:</th>                  <td>4904.0</td>          <th>                     </th>        <td></td>     \n",
       "</tr>\n",
       "<tr>\n",
       "  <th>Max Obs:</th>                 <td>1.243e+04</td>        <th>                     </th>        <td></td>     \n",
       "</tr>\n",
       "<tr>\n",
       "  <th></th>                             <td></td>             <th>                     </th>        <td></td>     \n",
       "</tr>\n",
       "</table>\n",
       "<table class=\"simpletable\">\n",
       "<caption>Parameter Estimates</caption>\n",
       "<tr>\n",
       "               <td></td>               <th>Parameter</th> <th>Std. Err.</th> <th>T-stat</th>  <th>P-value</th> <th>Lower CI</th> <th>Upper CI</th>\n",
       "</tr>\n",
       "<tr>\n",
       "  <th>Intercept</th>                    <td>-0.6706</td>   <td>0.0011</td>   <td>-636.95</td> <td>0.0000</td>   <td>-0.6727</td>  <td>-0.6685</td>\n",
       "</tr>\n",
       "<tr>\n",
       "  <th>log(optimal_prices_RF):post</th>  <td>-0.0037</td>   <td>0.0006</td>   <td>-6.0153</td> <td>0.0000</td>   <td>-0.0049</td>  <td>-0.0025</td>\n",
       "</tr>\n",
       "</table><br/><br/>F-test for Poolability: 10.255<br/>P-value: 0.0000<br/>Distribution: F(32944,83556)<br/><br/>Included effects: Entity, Time<br/>id: 0x207273e7ca0"
      ],
      "text/plain": [
       "                             PanelOLS Estimation Summary                             \n",
       "=====================================================================================\n",
       "Dep. Variable:     log(est_purchase_proba)   R-squared:                        0.0014\n",
       "Estimator:                        PanelOLS   R-squared (Between):              0.0018\n",
       "No. Observations:                   116502   R-squared (Within):               0.0020\n",
       "Date:                     Sat, Mar 09 2024   R-squared (Overall):              0.0097\n",
       "Time:                             09:15:08   Log-likelihood                 1.137e+05\n",
       "Cov. Estimator:                  Clustered                                           \n",
       "                                             F-statistic:                      116.55\n",
       "Entities:                            32934   P-value                           0.0000\n",
       "Avg Obs:                            3.5374   Distribution:                 F(1,83556)\n",
       "Min Obs:                            1.0000                                           \n",
       "Max Obs:                            955.00   F-statistic (robust):             36.184\n",
       "                                             P-value                           0.0000\n",
       "Time periods:                           12   Distribution:                 F(1,83556)\n",
       "Avg Obs:                            9708.5                                           \n",
       "Min Obs:                            4904.0                                           \n",
       "Max Obs:                         1.243e+04                                           \n",
       "                                                                                     \n",
       "                                      Parameter Estimates                                      \n",
       "===============================================================================================\n",
       "                             Parameter  Std. Err.     T-stat    P-value    Lower CI    Upper CI\n",
       "-----------------------------------------------------------------------------------------------\n",
       "Intercept                      -0.6706     0.0011    -636.95     0.0000     -0.6727     -0.6685\n",
       "log(optimal_prices_RF):post    -0.0037     0.0006    -6.0153     0.0000     -0.0049     -0.0025\n",
       "===============================================================================================\n",
       "\n",
       "F-test for Poolability: 10.255\n",
       "P-value: 0.0000\n",
       "Distribution: F(32944,83556)\n",
       "\n",
       "Included effects: Entity, Time\n",
       "PanelEffectsResults, id: 0x207273e7ca0"
      ]
     },
     "execution_count": 29,
     "metadata": {},
     "output_type": "execute_result"
    }
   ],
   "source": [
    "model_cluster"
   ]
  },
  {
   "cell_type": "markdown",
   "id": "dafcad37",
   "metadata": {},
   "source": [
    "### TWFE with price as treatment variable and demographic control variables"
   ]
  },
  {
   "cell_type": "code",
   "execution_count": 30,
   "id": "824b590b",
   "metadata": {},
   "outputs": [],
   "source": [
    "\n",
    "model_cluster2 = PanelOLS.from_formula(\n",
    "  formula=(\"log(est_purchase_proba) ~ 1+np.log(optimal_prices_RF):post + aging_index+sex_ratio + Median_age +state_Freq_Encoded+ EntityEffects+TimeEffects\"\n",
    "           ),\n",
    "  data=causal_df_all_products.set_index(['product_id', 'month']),\n",
    ").fit(cov_type=\"clustered\", cluster_entity=True)"
   ]
  },
  {
   "cell_type": "code",
   "execution_count": 31,
   "id": "2675fda8",
   "metadata": {
    "scrolled": true
   },
   "outputs": [
    {
     "data": {
      "text/html": [
       "<table class=\"simpletable\">\n",
       "<caption>PanelOLS Estimation Summary</caption>\n",
       "<tr>\n",
       "  <th>Dep. Variable:</th>    <td>log(est_purchase_proba)</td> <th>  R-squared:         </th>     <td>0.9630</td>  \n",
       "</tr>\n",
       "<tr>\n",
       "  <th>Estimator:</th>               <td>PanelOLS</td>         <th>  R-squared (Between):</th>    <td>0.0959</td>  \n",
       "</tr>\n",
       "<tr>\n",
       "  <th>No. Observations:</th>         <td>116502</td>          <th>  R-squared (Within):</th>     <td>0.9630</td>  \n",
       "</tr>\n",
       "<tr>\n",
       "  <th>Date:</th>                <td>Sat, Mar 09 2024</td>     <th>  R-squared (Overall):</th>    <td>0.2400</td>  \n",
       "</tr>\n",
       "<tr>\n",
       "  <th>Time:</th>                    <td>09:15:14</td>         <th>  Log-likelihood     </th>    <td>3.057e+05</td>\n",
       "</tr>\n",
       "<tr>\n",
       "  <th>Cov. Estimator:</th>          <td>Clustered</td>        <th>                     </th>        <td></td>     \n",
       "</tr>\n",
       "<tr>\n",
       "  <th></th>                             <td></td>             <th>  F-statistic:       </th>    <td>4.35e+05</td> \n",
       "</tr>\n",
       "<tr>\n",
       "  <th>Entities:</th>                  <td>32934</td>          <th>  P-value            </th>     <td>0.0000</td>  \n",
       "</tr>\n",
       "<tr>\n",
       "  <th>Avg Obs:</th>                  <td>3.5374</td>          <th>  Distribution:      </th>   <td>F(5,83552)</td>\n",
       "</tr>\n",
       "<tr>\n",
       "  <th>Min Obs:</th>                  <td>1.0000</td>          <th>                     </th>        <td></td>     \n",
       "</tr>\n",
       "<tr>\n",
       "  <th>Max Obs:</th>                  <td>955.00</td>          <th>  F-statistic (robust):</th>  <td>3.145e+04</td>\n",
       "</tr>\n",
       "<tr>\n",
       "  <th></th>                             <td></td>             <th>  P-value            </th>     <td>0.0000</td>  \n",
       "</tr>\n",
       "<tr>\n",
       "  <th>Time periods:</th>               <td>12</td>            <th>  Distribution:      </th>   <td>F(5,83552)</td>\n",
       "</tr>\n",
       "<tr>\n",
       "  <th>Avg Obs:</th>                  <td>9708.5</td>          <th>                     </th>        <td></td>     \n",
       "</tr>\n",
       "<tr>\n",
       "  <th>Min Obs:</th>                  <td>4904.0</td>          <th>                     </th>        <td></td>     \n",
       "</tr>\n",
       "<tr>\n",
       "  <th>Max Obs:</th>                 <td>1.243e+04</td>        <th>                     </th>        <td></td>     \n",
       "</tr>\n",
       "<tr>\n",
       "  <th></th>                             <td></td>             <th>                     </th>        <td></td>     \n",
       "</tr>\n",
       "</table>\n",
       "<table class=\"simpletable\">\n",
       "<caption>Parameter Estimates</caption>\n",
       "<tr>\n",
       "                 <td></td>                <th>Parameter</th> <th>Std. Err.</th> <th>T-stat</th>  <th>P-value</th> <th>Lower CI</th> <th>Upper CI</th>\n",
       "</tr>\n",
       "<tr>\n",
       "  <th>Intercept</th>                       <td>-0.8520</td>   <td>0.0061</td>   <td>-140.59</td> <td>0.0000</td>   <td>-0.8639</td>  <td>-0.8402</td>\n",
       "</tr>\n",
       "<tr>\n",
       "  <th>aging_index</th>                     <td>-0.0004</td>  <td>2.351e-05</td> <td>-16.479</td> <td>0.0000</td>   <td>-0.0004</td>  <td>-0.0003</td>\n",
       "</tr>\n",
       "<tr>\n",
       "  <th>sex_ratio</th>                       <td>0.0080</td>   <td>3.512e-05</td> <td>227.60</td>  <td>0.0000</td>   <td>0.0079</td>   <td>0.0081</td> \n",
       "</tr>\n",
       "<tr>\n",
       "  <th>Median_age</th>                      <td>-0.0121</td>   <td>0.0002</td>   <td>-55.665</td> <td>0.0000</td>   <td>-0.0126</td>  <td>-0.0117</td>\n",
       "</tr>\n",
       "<tr>\n",
       "  <th>state_Freq_Encoded</th>              <td>-0.0057</td>  <td>1.611e-05</td> <td>-353.75</td> <td>0.0000</td>   <td>-0.0057</td>  <td>-0.0057</td>\n",
       "</tr>\n",
       "<tr>\n",
       "  <th>np.log(optimal_prices_RF):post</th>  <td>0.0004</td>    <td>0.0003</td>   <td>1.0470</td>  <td>0.2951</td>   <td>-0.0003</td>  <td>0.0010</td> \n",
       "</tr>\n",
       "</table><br/><br/>F-test for Poolability: 260.29<br/>P-value: 0.0000<br/>Distribution: F(32944,83552)<br/><br/>Included effects: Entity, Time<br/>id: 0x20727609460"
      ],
      "text/plain": [
       "                             PanelOLS Estimation Summary                             \n",
       "=====================================================================================\n",
       "Dep. Variable:     log(est_purchase_proba)   R-squared:                        0.9630\n",
       "Estimator:                        PanelOLS   R-squared (Between):              0.0959\n",
       "No. Observations:                   116502   R-squared (Within):               0.9630\n",
       "Date:                     Sat, Mar 09 2024   R-squared (Overall):              0.2400\n",
       "Time:                             09:15:14   Log-likelihood                 3.057e+05\n",
       "Cov. Estimator:                  Clustered                                           \n",
       "                                             F-statistic:                    4.35e+05\n",
       "Entities:                            32934   P-value                           0.0000\n",
       "Avg Obs:                            3.5374   Distribution:                 F(5,83552)\n",
       "Min Obs:                            1.0000                                           \n",
       "Max Obs:                            955.00   F-statistic (robust):          3.145e+04\n",
       "                                             P-value                           0.0000\n",
       "Time periods:                           12   Distribution:                 F(5,83552)\n",
       "Avg Obs:                            9708.5                                           \n",
       "Min Obs:                            4904.0                                           \n",
       "Max Obs:                         1.243e+04                                           \n",
       "                                                                                     \n",
       "                                       Parameter Estimates                                        \n",
       "==================================================================================================\n",
       "                                Parameter  Std. Err.     T-stat    P-value    Lower CI    Upper CI\n",
       "--------------------------------------------------------------------------------------------------\n",
       "Intercept                         -0.8520     0.0061    -140.59     0.0000     -0.8639     -0.8402\n",
       "aging_index                       -0.0004  2.351e-05    -16.479     0.0000     -0.0004     -0.0003\n",
       "sex_ratio                          0.0080  3.512e-05     227.60     0.0000      0.0079      0.0081\n",
       "Median_age                        -0.0121     0.0002    -55.665     0.0000     -0.0126     -0.0117\n",
       "state_Freq_Encoded                -0.0057  1.611e-05    -353.75     0.0000     -0.0057     -0.0057\n",
       "np.log(optimal_prices_RF):post     0.0004     0.0003     1.0470     0.2951     -0.0003      0.0010\n",
       "==================================================================================================\n",
       "\n",
       "F-test for Poolability: 260.29\n",
       "P-value: 0.0000\n",
       "Distribution: F(32944,83552)\n",
       "\n",
       "Included effects: Entity, Time\n",
       "PanelEffectsResults, id: 0x20727609460"
      ]
     },
     "execution_count": 31,
     "metadata": {},
     "output_type": "execute_result"
    }
   ],
   "source": [
    "model_cluster2"
   ]
  },
  {
   "cell_type": "markdown",
   "id": "6f7d47c5",
   "metadata": {},
   "source": [
    "### TWFE with price as treatment variable,demographic control variables and price also control variable"
   ]
  },
  {
   "cell_type": "code",
   "execution_count": 78,
   "id": "87bc87ae",
   "metadata": {},
   "outputs": [],
   "source": [
    "\n",
    "model_cluster3 = PanelOLS.from_formula(\n",
    "  formula=(\"log(est_purchase_proba) ~ 1+np.log(optimal_prices_RF)+np.log(optimal_prices_RF):post +sex_ratio + Median_age +state_Freq_Encoded+ EntityEffects+TimeEffects\"\n",
    "           ),\n",
    "  data=causal_df_all_products.set_index(['product_id', 'month']),\n",
    ").fit()"
   ]
  },
  {
   "cell_type": "code",
   "execution_count": 79,
   "id": "831102a9",
   "metadata": {
    "scrolled": false
   },
   "outputs": [
    {
     "data": {
      "text/html": [
       "<table class=\"simpletable\">\n",
       "<caption>PanelOLS Estimation Summary</caption>\n",
       "<tr>\n",
       "  <th>Dep. Variable:</th>    <td>log(est_purchase_proba)</td> <th>  R-squared:         </th>     <td>0.9640</td>  \n",
       "</tr>\n",
       "<tr>\n",
       "  <th>Estimator:</th>               <td>PanelOLS</td>         <th>  R-squared (Between):</th>    <td>0.2085</td>  \n",
       "</tr>\n",
       "<tr>\n",
       "  <th>No. Observations:</th>         <td>116502</td>          <th>  R-squared (Within):</th>     <td>0.9639</td>  \n",
       "</tr>\n",
       "<tr>\n",
       "  <th>Date:</th>                <td>Sat, Mar 09 2024</td>     <th>  R-squared (Overall):</th>    <td>0.3490</td>  \n",
       "</tr>\n",
       "<tr>\n",
       "  <th>Time:</th>                    <td>09:32:55</td>         <th>  Log-likelihood     </th>    <td>3.072e+05</td>\n",
       "</tr>\n",
       "<tr>\n",
       "  <th>Cov. Estimator:</th>         <td>Unadjusted</td>        <th>                     </th>        <td></td>     \n",
       "</tr>\n",
       "<tr>\n",
       "  <th></th>                             <td></td>             <th>  F-statistic:       </th>    <td>4.469e+05</td>\n",
       "</tr>\n",
       "<tr>\n",
       "  <th>Entities:</th>                  <td>32934</td>          <th>  P-value            </th>     <td>0.0000</td>  \n",
       "</tr>\n",
       "<tr>\n",
       "  <th>Avg Obs:</th>                  <td>3.5374</td>          <th>  Distribution:      </th>   <td>F(5,83552)</td>\n",
       "</tr>\n",
       "<tr>\n",
       "  <th>Min Obs:</th>                  <td>1.0000</td>          <th>                     </th>        <td></td>     \n",
       "</tr>\n",
       "<tr>\n",
       "  <th>Max Obs:</th>                  <td>955.00</td>          <th>  F-statistic (robust):</th>  <td>4.469e+05</td>\n",
       "</tr>\n",
       "<tr>\n",
       "  <th></th>                             <td></td>             <th>  P-value            </th>     <td>0.0000</td>  \n",
       "</tr>\n",
       "<tr>\n",
       "  <th>Time periods:</th>               <td>12</td>            <th>  Distribution:      </th>   <td>F(5,83552)</td>\n",
       "</tr>\n",
       "<tr>\n",
       "  <th>Avg Obs:</th>                  <td>9708.5</td>          <th>                     </th>        <td></td>     \n",
       "</tr>\n",
       "<tr>\n",
       "  <th>Min Obs:</th>                  <td>4904.0</td>          <th>                     </th>        <td></td>     \n",
       "</tr>\n",
       "<tr>\n",
       "  <th>Max Obs:</th>                 <td>1.243e+04</td>        <th>                     </th>        <td></td>     \n",
       "</tr>\n",
       "<tr>\n",
       "  <th></th>                             <td></td>             <th>                     </th>        <td></td>     \n",
       "</tr>\n",
       "</table>\n",
       "<table class=\"simpletable\">\n",
       "<caption>Parameter Estimates</caption>\n",
       "<tr>\n",
       "                 <td></td>                <th>Parameter</th> <th>Std. Err.</th> <th>T-stat</th>  <th>P-value</th> <th>Lower CI</th> <th>Upper CI</th>\n",
       "</tr>\n",
       "<tr>\n",
       "  <th>Intercept</th>                       <td>-0.6639</td>   <td>0.0028</td>   <td>-236.58</td> <td>0.0000</td>   <td>-0.6694</td>  <td>-0.6584</td>\n",
       "</tr>\n",
       "<tr>\n",
       "  <th>np.log(optimal_prices_RF)</th>       <td>-0.0244</td>   <td>0.0005</td>   <td>-54.124</td> <td>0.0000</td>   <td>-0.0253</td>  <td>-0.0236</td>\n",
       "</tr>\n",
       "<tr>\n",
       "  <th>sex_ratio</th>                       <td>0.0080</td>   <td>1.405e-05</td> <td>571.45</td>  <td>0.0000</td>   <td>0.0080</td>   <td>0.0081</td> \n",
       "</tr>\n",
       "<tr>\n",
       "  <th>Median_age</th>                      <td>-0.0152</td>  <td>3.86e-05</td>  <td>-394.34</td> <td>0.0000</td>   <td>-0.0153</td>  <td>-0.0151</td>\n",
       "</tr>\n",
       "<tr>\n",
       "  <th>state_Freq_Encoded</th>              <td>-0.0057</td>  <td>4.67e-06</td>  <td>-1218.2</td> <td>0.0000</td>   <td>-0.0057</td>  <td>-0.0057</td>\n",
       "</tr>\n",
       "<tr>\n",
       "  <th>np.log(optimal_prices_RF):post</th>  <td>0.0003</td>   <td>6.488e-05</td> <td>5.2015</td>  <td>0.0000</td>   <td>0.0002</td>   <td>0.0005</td> \n",
       "</tr>\n",
       "</table><br/><br/>F-test for Poolability: 163.49<br/>P-value: 0.0000<br/>Distribution: F(32944,83552)<br/><br/>Included effects: Entity, Time<br/>id: 0x20724d3c3a0"
      ],
      "text/plain": [
       "                             PanelOLS Estimation Summary                             \n",
       "=====================================================================================\n",
       "Dep. Variable:     log(est_purchase_proba)   R-squared:                        0.9640\n",
       "Estimator:                        PanelOLS   R-squared (Between):              0.2085\n",
       "No. Observations:                   116502   R-squared (Within):               0.9639\n",
       "Date:                     Sat, Mar 09 2024   R-squared (Overall):              0.3490\n",
       "Time:                             09:32:55   Log-likelihood                 3.072e+05\n",
       "Cov. Estimator:                 Unadjusted                                           \n",
       "                                             F-statistic:                   4.469e+05\n",
       "Entities:                            32934   P-value                           0.0000\n",
       "Avg Obs:                            3.5374   Distribution:                 F(5,83552)\n",
       "Min Obs:                            1.0000                                           \n",
       "Max Obs:                            955.00   F-statistic (robust):          4.469e+05\n",
       "                                             P-value                           0.0000\n",
       "Time periods:                           12   Distribution:                 F(5,83552)\n",
       "Avg Obs:                            9708.5                                           \n",
       "Min Obs:                            4904.0                                           \n",
       "Max Obs:                         1.243e+04                                           \n",
       "                                                                                     \n",
       "                                       Parameter Estimates                                        \n",
       "==================================================================================================\n",
       "                                Parameter  Std. Err.     T-stat    P-value    Lower CI    Upper CI\n",
       "--------------------------------------------------------------------------------------------------\n",
       "Intercept                         -0.6639     0.0028    -236.58     0.0000     -0.6694     -0.6584\n",
       "np.log(optimal_prices_RF)         -0.0244     0.0005    -54.124     0.0000     -0.0253     -0.0236\n",
       "sex_ratio                          0.0080  1.405e-05     571.45     0.0000      0.0080      0.0081\n",
       "Median_age                        -0.0152   3.86e-05    -394.34     0.0000     -0.0153     -0.0151\n",
       "state_Freq_Encoded                -0.0057   4.67e-06    -1218.2     0.0000     -0.0057     -0.0057\n",
       "np.log(optimal_prices_RF):post     0.0003  6.488e-05     5.2015     0.0000      0.0002      0.0005\n",
       "==================================================================================================\n",
       "\n",
       "F-test for Poolability: 163.49\n",
       "P-value: 0.0000\n",
       "Distribution: F(32944,83552)\n",
       "\n",
       "Included effects: Entity, Time\n",
       "PanelEffectsResults, id: 0x20724d3c3a0"
      ]
     },
     "execution_count": 79,
     "metadata": {},
     "output_type": "execute_result"
    }
   ],
   "source": [
    "model_cluster3"
   ]
  },
  {
   "cell_type": "markdown",
   "id": "7d574537",
   "metadata": {},
   "source": [
    "## TWFE elastic products"
   ]
  },
  {
   "cell_type": "markdown",
   "id": "c2de75ab",
   "metadata": {},
   "source": [
    "### TWFE with only price and no control variables"
   ]
  },
  {
   "cell_type": "code",
   "execution_count": 34,
   "id": "d67ecb50",
   "metadata": {},
   "outputs": [],
   "source": [
    "\n",
    "model_cluster = PanelOLS.from_formula(\n",
    "  formula=(\"np.log(est_purchase_proba) ~ 1+np.log(optimal_prices_RF):post + EntityEffects+TimeEffects\"\n",
    "           ),\n",
    "  data=causal_df_elastic_products.set_index(['product_id', 'month']),\n",
    ").fit()"
   ]
  },
  {
   "cell_type": "code",
   "execution_count": 35,
   "id": "1f14e399",
   "metadata": {
    "scrolled": true
   },
   "outputs": [
    {
     "data": {
      "text/html": [
       "<table class=\"simpletable\">\n",
       "<caption>PanelOLS Estimation Summary</caption>\n",
       "<tr>\n",
       "  <th>Dep. Variable:</th>    <td>np.log(est_purchase_proba)</td> <th>  R-squared:         </th>    <td>6.637e-05</td>\n",
       "</tr>\n",
       "<tr>\n",
       "  <th>Estimator:</th>                 <td>PanelOLS</td>          <th>  R-squared (Between):</th>    <td>-0.0478</td> \n",
       "</tr>\n",
       "<tr>\n",
       "  <th>No. Observations:</th>            <td>42357</td>           <th>  R-squared (Within):</th>    <td>6.096e-05</td>\n",
       "</tr>\n",
       "<tr>\n",
       "  <th>Date:</th>                  <td>Sat, Mar 09 2024</td>      <th>  R-squared (Overall):</th>    <td>0.0018</td>  \n",
       "</tr>\n",
       "<tr>\n",
       "  <th>Time:</th>                      <td>09:15:22</td>          <th>  Log-likelihood     </th>    <td>5.043e+04</td>\n",
       "</tr>\n",
       "<tr>\n",
       "  <th>Cov. Estimator:</th>           <td>Unadjusted</td>         <th>                     </th>        <td></td>     \n",
       "</tr>\n",
       "<tr>\n",
       "  <th></th>                               <td></td>              <th>  F-statistic:       </th>     <td>2.3272</td>  \n",
       "</tr>\n",
       "<tr>\n",
       "  <th>Entities:</th>                    <td>7284</td>            <th>  P-value            </th>     <td>0.1271</td>  \n",
       "</tr>\n",
       "<tr>\n",
       "  <th>Avg Obs:</th>                    <td>5.8151</td>           <th>  Distribution:      </th>   <td>F(1,35061)</td>\n",
       "</tr>\n",
       "<tr>\n",
       "  <th>Min Obs:</th>                    <td>1.0000</td>           <th>                     </th>        <td></td>     \n",
       "</tr>\n",
       "<tr>\n",
       "  <th>Max Obs:</th>                    <td>955.00</td>           <th>  F-statistic (robust):</th>   <td>2.3272</td>  \n",
       "</tr>\n",
       "<tr>\n",
       "  <th></th>                               <td></td>              <th>  P-value            </th>     <td>0.1271</td>  \n",
       "</tr>\n",
       "<tr>\n",
       "  <th>Time periods:</th>                 <td>12</td>             <th>  Distribution:      </th>   <td>F(1,35061)</td>\n",
       "</tr>\n",
       "<tr>\n",
       "  <th>Avg Obs:</th>                    <td>3529.8</td>           <th>                     </th>        <td></td>     \n",
       "</tr>\n",
       "<tr>\n",
       "  <th>Min Obs:</th>                    <td>1717.0</td>           <th>                     </th>        <td></td>     \n",
       "</tr>\n",
       "<tr>\n",
       "  <th>Max Obs:</th>                    <td>4449.0</td>           <th>                     </th>        <td></td>     \n",
       "</tr>\n",
       "<tr>\n",
       "  <th></th>                               <td></td>              <th>                     </th>        <td></td>     \n",
       "</tr>\n",
       "</table>\n",
       "<table class=\"simpletable\">\n",
       "<caption>Parameter Estimates</caption>\n",
       "<tr>\n",
       "                 <td></td>                <th>Parameter</th> <th>Std. Err.</th> <th>T-stat</th>  <th>P-value</th> <th>Lower CI</th> <th>Upper CI</th>\n",
       "</tr>\n",
       "<tr>\n",
       "  <th>Intercept</th>                       <td>-0.6522</td>   <td>0.0009</td>   <td>-755.27</td> <td>0.0000</td>   <td>-0.6539</td>  <td>-0.6505</td>\n",
       "</tr>\n",
       "<tr>\n",
       "  <th>np.log(optimal_prices_RF):post</th>  <td>-0.0006</td>   <td>0.0004</td>   <td>-1.5255</td> <td>0.1271</td>   <td>-0.0014</td>  <td>0.0002</td> \n",
       "</tr>\n",
       "</table><br/><br/>F-test for Poolability: 1.6808<br/>P-value: 0.0000<br/>Distribution: F(7294,35061)<br/><br/>Included effects: Entity, Time<br/>id: 0x2072763ef10"
      ],
      "text/plain": [
       "                              PanelOLS Estimation Summary                               \n",
       "========================================================================================\n",
       "Dep. Variable:     np.log(est_purchase_proba)   R-squared:                     6.637e-05\n",
       "Estimator:                           PanelOLS   R-squared (Between):             -0.0478\n",
       "No. Observations:                       42357   R-squared (Within):            6.096e-05\n",
       "Date:                        Sat, Mar 09 2024   R-squared (Overall):              0.0018\n",
       "Time:                                09:15:22   Log-likelihood                 5.043e+04\n",
       "Cov. Estimator:                    Unadjusted                                           \n",
       "                                                F-statistic:                      2.3272\n",
       "Entities:                                7284   P-value                           0.1271\n",
       "Avg Obs:                               5.8151   Distribution:                 F(1,35061)\n",
       "Min Obs:                               1.0000                                           \n",
       "Max Obs:                               955.00   F-statistic (robust):             2.3272\n",
       "                                                P-value                           0.1271\n",
       "Time periods:                              12   Distribution:                 F(1,35061)\n",
       "Avg Obs:                               3529.8                                           \n",
       "Min Obs:                               1717.0                                           \n",
       "Max Obs:                               4449.0                                           \n",
       "                                                                                        \n",
       "                                       Parameter Estimates                                        \n",
       "==================================================================================================\n",
       "                                Parameter  Std. Err.     T-stat    P-value    Lower CI    Upper CI\n",
       "--------------------------------------------------------------------------------------------------\n",
       "Intercept                         -0.6522     0.0009    -755.27     0.0000     -0.6539     -0.6505\n",
       "np.log(optimal_prices_RF):post    -0.0006     0.0004    -1.5255     0.1271     -0.0014      0.0002\n",
       "==================================================================================================\n",
       "\n",
       "F-test for Poolability: 1.6808\n",
       "P-value: 0.0000\n",
       "Distribution: F(7294,35061)\n",
       "\n",
       "Included effects: Entity, Time\n",
       "PanelEffectsResults, id: 0x2072763ef10"
      ]
     },
     "execution_count": 35,
     "metadata": {},
     "output_type": "execute_result"
    }
   ],
   "source": [
    "model_cluster"
   ]
  },
  {
   "cell_type": "markdown",
   "id": "b8566bb0",
   "metadata": {},
   "source": [
    "### TWFE with price as treatment variable and demographic control variables"
   ]
  },
  {
   "cell_type": "code",
   "execution_count": 36,
   "id": "6d47bcf2",
   "metadata": {},
   "outputs": [],
   "source": [
    "\n",
    "model_cluster2 = PanelOLS.from_formula(\n",
    "  formula=(\"np.log(est_purchase_proba) ~ 1+np.log(optimal_prices_RF):post + state_Freq_Encoded+sex_ratio+aging_index + Median_age + EntityEffects+TimeEffects\"\n",
    "           ),\n",
    "  data=causal_df_elastic_products.set_index(['product_id', 'month']),\n",
    ").fit()"
   ]
  },
  {
   "cell_type": "code",
   "execution_count": 37,
   "id": "7e319065",
   "metadata": {},
   "outputs": [
    {
     "data": {
      "text/html": [
       "<table class=\"simpletable\">\n",
       "<caption>PanelOLS Estimation Summary</caption>\n",
       "<tr>\n",
       "  <th>Dep. Variable:</th>    <td>np.log(est_purchase_proba)</td> <th>  R-squared:         </th>     <td>0.2598</td>  \n",
       "</tr>\n",
       "<tr>\n",
       "  <th>Estimator:</th>                 <td>PanelOLS</td>          <th>  R-squared (Between):</th>    <td>0.1492</td>  \n",
       "</tr>\n",
       "<tr>\n",
       "  <th>No. Observations:</th>            <td>42357</td>           <th>  R-squared (Within):</th>     <td>0.2599</td>  \n",
       "</tr>\n",
       "<tr>\n",
       "  <th>Date:</th>                  <td>Sat, Mar 09 2024</td>      <th>  R-squared (Overall):</th>    <td>0.2312</td>  \n",
       "</tr>\n",
       "<tr>\n",
       "  <th>Time:</th>                      <td>09:15:24</td>          <th>  Log-likelihood     </th>    <td>5.68e+04</td> \n",
       "</tr>\n",
       "<tr>\n",
       "  <th>Cov. Estimator:</th>           <td>Unadjusted</td>         <th>                     </th>        <td></td>     \n",
       "</tr>\n",
       "<tr>\n",
       "  <th></th>                               <td></td>              <th>  F-statistic:       </th>     <td>2461.2</td>  \n",
       "</tr>\n",
       "<tr>\n",
       "  <th>Entities:</th>                    <td>7284</td>            <th>  P-value            </th>     <td>0.0000</td>  \n",
       "</tr>\n",
       "<tr>\n",
       "  <th>Avg Obs:</th>                    <td>5.8151</td>           <th>  Distribution:      </th>   <td>F(5,35057)</td>\n",
       "</tr>\n",
       "<tr>\n",
       "  <th>Min Obs:</th>                    <td>1.0000</td>           <th>                     </th>        <td></td>     \n",
       "</tr>\n",
       "<tr>\n",
       "  <th>Max Obs:</th>                    <td>955.00</td>           <th>  F-statistic (robust):</th>   <td>2461.2</td>  \n",
       "</tr>\n",
       "<tr>\n",
       "  <th></th>                               <td></td>              <th>  P-value            </th>     <td>0.0000</td>  \n",
       "</tr>\n",
       "<tr>\n",
       "  <th>Time periods:</th>                 <td>12</td>             <th>  Distribution:      </th>   <td>F(5,35057)</td>\n",
       "</tr>\n",
       "<tr>\n",
       "  <th>Avg Obs:</th>                    <td>3529.8</td>           <th>                     </th>        <td></td>     \n",
       "</tr>\n",
       "<tr>\n",
       "  <th>Min Obs:</th>                    <td>1717.0</td>           <th>                     </th>        <td></td>     \n",
       "</tr>\n",
       "<tr>\n",
       "  <th>Max Obs:</th>                    <td>4449.0</td>           <th>                     </th>        <td></td>     \n",
       "</tr>\n",
       "<tr>\n",
       "  <th></th>                               <td></td>              <th>                     </th>        <td></td>     \n",
       "</tr>\n",
       "</table>\n",
       "<table class=\"simpletable\">\n",
       "<caption>Parameter Estimates</caption>\n",
       "<tr>\n",
       "                 <td></td>                <th>Parameter</th> <th>Std. Err.</th> <th>T-stat</th>  <th>P-value</th> <th>Lower CI</th> <th>Upper CI</th>\n",
       "</tr>\n",
       "<tr>\n",
       "  <th>Intercept</th>                       <td>-0.0629</td>   <td>0.0194</td>   <td>-3.2485</td> <td>0.0012</td>   <td>-0.1009</td>  <td>-0.0250</td>\n",
       "</tr>\n",
       "<tr>\n",
       "  <th>state_Freq_Encoded</th>              <td>-0.0018</td>  <td>2.453e-05</td> <td>-72.777</td> <td>0.0000</td>   <td>-0.0018</td>  <td>-0.0017</td>\n",
       "</tr>\n",
       "<tr>\n",
       "  <th>sex_ratio</th>                       <td>0.0003</td>   <td>7.399e-05</td> <td>3.6567</td>  <td>0.0003</td>   <td>0.0001</td>   <td>0.0004</td> \n",
       "</tr>\n",
       "<tr>\n",
       "  <th>aging_index</th>                     <td>0.0009</td>   <td>7.527e-05</td> <td>11.733</td>  <td>0.0000</td>   <td>0.0007</td>   <td>0.0010</td> \n",
       "</tr>\n",
       "<tr>\n",
       "  <th>Median_age</th>                      <td>-0.0175</td>   <td>0.0006</td>   <td>-27.582</td> <td>0.0000</td>   <td>-0.0188</td>  <td>-0.0163</td>\n",
       "</tr>\n",
       "<tr>\n",
       "  <th>np.log(optimal_prices_RF):post</th>  <td>0.0006</td>    <td>0.0004</td>   <td>1.6487</td>  <td>0.0992</td>   <td>-0.0001</td>  <td>0.0013</td> \n",
       "</tr>\n",
       "</table><br/><br/>F-test for Poolability: 1.9326<br/>P-value: 0.0000<br/>Distribution: F(7294,35057)<br/><br/>Included effects: Entity, Time<br/>id: 0x20727657100"
      ],
      "text/plain": [
       "                              PanelOLS Estimation Summary                               \n",
       "========================================================================================\n",
       "Dep. Variable:     np.log(est_purchase_proba)   R-squared:                        0.2598\n",
       "Estimator:                           PanelOLS   R-squared (Between):              0.1492\n",
       "No. Observations:                       42357   R-squared (Within):               0.2599\n",
       "Date:                        Sat, Mar 09 2024   R-squared (Overall):              0.2312\n",
       "Time:                                09:15:24   Log-likelihood                  5.68e+04\n",
       "Cov. Estimator:                    Unadjusted                                           \n",
       "                                                F-statistic:                      2461.2\n",
       "Entities:                                7284   P-value                           0.0000\n",
       "Avg Obs:                               5.8151   Distribution:                 F(5,35057)\n",
       "Min Obs:                               1.0000                                           \n",
       "Max Obs:                               955.00   F-statistic (robust):             2461.2\n",
       "                                                P-value                           0.0000\n",
       "Time periods:                              12   Distribution:                 F(5,35057)\n",
       "Avg Obs:                               3529.8                                           \n",
       "Min Obs:                               1717.0                                           \n",
       "Max Obs:                               4449.0                                           \n",
       "                                                                                        \n",
       "                                       Parameter Estimates                                        \n",
       "==================================================================================================\n",
       "                                Parameter  Std. Err.     T-stat    P-value    Lower CI    Upper CI\n",
       "--------------------------------------------------------------------------------------------------\n",
       "Intercept                         -0.0629     0.0194    -3.2485     0.0012     -0.1009     -0.0250\n",
       "state_Freq_Encoded                -0.0018  2.453e-05    -72.777     0.0000     -0.0018     -0.0017\n",
       "sex_ratio                          0.0003  7.399e-05     3.6567     0.0003      0.0001      0.0004\n",
       "aging_index                        0.0009  7.527e-05     11.733     0.0000      0.0007      0.0010\n",
       "Median_age                        -0.0175     0.0006    -27.582     0.0000     -0.0188     -0.0163\n",
       "np.log(optimal_prices_RF):post     0.0006     0.0004     1.6487     0.0992     -0.0001      0.0013\n",
       "==================================================================================================\n",
       "\n",
       "F-test for Poolability: 1.9326\n",
       "P-value: 0.0000\n",
       "Distribution: F(7294,35057)\n",
       "\n",
       "Included effects: Entity, Time\n",
       "PanelEffectsResults, id: 0x20727657100"
      ]
     },
     "execution_count": 37,
     "metadata": {},
     "output_type": "execute_result"
    }
   ],
   "source": [
    "model_cluster2"
   ]
  },
  {
   "cell_type": "markdown",
   "id": "7c8bb106",
   "metadata": {},
   "source": [
    "### TWFE with price as treatment variable,demographic control variables and price also control variable"
   ]
  },
  {
   "cell_type": "code",
   "execution_count": 80,
   "id": "161dfa78",
   "metadata": {},
   "outputs": [],
   "source": [
    "\n",
    "model_cluster3 = PanelOLS.from_formula(\n",
    "  formula=(\"np.log(est_purchase_proba) ~ 1+np.log(optimal_prices_RF)+np.log(optimal_prices_RF):post +sex_ratio+ state_Freq_Encoded + Median_age + EntityEffects+TimeEffects\"\n",
    "           ),\n",
    "  data=causal_df_elastic_products.set_index(['product_id', 'month']),\n",
    ").fit()"
   ]
  },
  {
   "cell_type": "code",
   "execution_count": 81,
   "id": "b26600d4",
   "metadata": {
    "scrolled": false
   },
   "outputs": [
    {
     "data": {
      "text/html": [
       "<table class=\"simpletable\">\n",
       "<caption>PanelOLS Estimation Summary</caption>\n",
       "<tr>\n",
       "  <th>Dep. Variable:</th>    <td>np.log(est_purchase_proba)</td> <th>  R-squared:         </th>     <td>0.2570</td>  \n",
       "</tr>\n",
       "<tr>\n",
       "  <th>Estimator:</th>                 <td>PanelOLS</td>          <th>  R-squared (Between):</th>    <td>0.2188</td>  \n",
       "</tr>\n",
       "<tr>\n",
       "  <th>No. Observations:</th>            <td>42357</td>           <th>  R-squared (Within):</th>     <td>0.2571</td>  \n",
       "</tr>\n",
       "<tr>\n",
       "  <th>Date:</th>                  <td>Sat, Mar 09 2024</td>      <th>  R-squared (Overall):</th>    <td>0.2547</td>  \n",
       "</tr>\n",
       "<tr>\n",
       "  <th>Time:</th>                      <td>09:33:50</td>          <th>  Log-likelihood     </th>    <td>5.672e+04</td>\n",
       "</tr>\n",
       "<tr>\n",
       "  <th>Cov. Estimator:</th>           <td>Unadjusted</td>         <th>                     </th>        <td></td>     \n",
       "</tr>\n",
       "<tr>\n",
       "  <th></th>                               <td></td>              <th>  F-statistic:       </th>     <td>2425.6</td>  \n",
       "</tr>\n",
       "<tr>\n",
       "  <th>Entities:</th>                    <td>7284</td>            <th>  P-value            </th>     <td>0.0000</td>  \n",
       "</tr>\n",
       "<tr>\n",
       "  <th>Avg Obs:</th>                    <td>5.8151</td>           <th>  Distribution:      </th>   <td>F(5,35057)</td>\n",
       "</tr>\n",
       "<tr>\n",
       "  <th>Min Obs:</th>                    <td>1.0000</td>           <th>                     </th>        <td></td>     \n",
       "</tr>\n",
       "<tr>\n",
       "  <th>Max Obs:</th>                    <td>955.00</td>           <th>  F-statistic (robust):</th>   <td>2425.6</td>  \n",
       "</tr>\n",
       "<tr>\n",
       "  <th></th>                               <td></td>              <th>  P-value            </th>     <td>0.0000</td>  \n",
       "</tr>\n",
       "<tr>\n",
       "  <th>Time periods:</th>                 <td>12</td>             <th>  Distribution:      </th>   <td>F(5,35057)</td>\n",
       "</tr>\n",
       "<tr>\n",
       "  <th>Avg Obs:</th>                    <td>3529.8</td>           <th>                     </th>        <td></td>     \n",
       "</tr>\n",
       "<tr>\n",
       "  <th>Min Obs:</th>                    <td>1717.0</td>           <th>                     </th>        <td></td>     \n",
       "</tr>\n",
       "<tr>\n",
       "  <th>Max Obs:</th>                    <td>4449.0</td>           <th>                     </th>        <td></td>     \n",
       "</tr>\n",
       "<tr>\n",
       "  <th></th>                               <td></td>              <th>                     </th>        <td></td>     \n",
       "</tr>\n",
       "</table>\n",
       "<table class=\"simpletable\">\n",
       "<caption>Parameter Estimates</caption>\n",
       "<tr>\n",
       "                 <td></td>                <th>Parameter</th> <th>Std. Err.</th> <th>T-stat</th>  <th>P-value</th>  <th>Lower CI</th>  <th>Upper CI</th>\n",
       "</tr>\n",
       "<tr>\n",
       "  <th>Intercept</th>                       <td>-0.2227</td>   <td>0.0167</td>   <td>-13.303</td> <td>0.0000</td>    <td>-0.2555</td>   <td>-0.1899</td>\n",
       "</tr>\n",
       "<tr>\n",
       "  <th>np.log(optimal_prices_RF)</th>       <td>-0.0067</td>   <td>0.0029</td>   <td>-2.3105</td> <td>0.0209</td>    <td>-0.0124</td>   <td>-0.0010</td>\n",
       "</tr>\n",
       "<tr>\n",
       "  <th>sex_ratio</th>                       <td>0.0002</td>   <td>7.387e-05</td> <td>2.6771</td>  <td>0.0074</td>   <td>5.297e-05</td>  <td>0.0003</td> \n",
       "</tr>\n",
       "<tr>\n",
       "  <th>state_Freq_Encoded</th>              <td>-0.0018</td>  <td>2.448e-05</td> <td>-73.935</td> <td>0.0000</td>    <td>-0.0019</td>   <td>-0.0018</td>\n",
       "</tr>\n",
       "<tr>\n",
       "  <th>Median_age</th>                      <td>-0.0105</td>   <td>0.0002</td>   <td>-50.724</td> <td>0.0000</td>    <td>-0.0109</td>   <td>-0.0101</td>\n",
       "</tr>\n",
       "<tr>\n",
       "  <th>np.log(optimal_prices_RF):post</th>  <td>0.0007</td>    <td>0.0004</td>   <td>1.8663</td>  <td>0.0620</td>  <td>-3.363e-05</td>  <td>0.0014</td> \n",
       "</tr>\n",
       "</table><br/><br/>F-test for Poolability: 1.5245<br/>P-value: 0.0000<br/>Distribution: F(7294,35057)<br/><br/>Included effects: Entity, Time<br/>id: 0x2072713ba30"
      ],
      "text/plain": [
       "                              PanelOLS Estimation Summary                               \n",
       "========================================================================================\n",
       "Dep. Variable:     np.log(est_purchase_proba)   R-squared:                        0.2570\n",
       "Estimator:                           PanelOLS   R-squared (Between):              0.2188\n",
       "No. Observations:                       42357   R-squared (Within):               0.2571\n",
       "Date:                        Sat, Mar 09 2024   R-squared (Overall):              0.2547\n",
       "Time:                                09:33:50   Log-likelihood                 5.672e+04\n",
       "Cov. Estimator:                    Unadjusted                                           \n",
       "                                                F-statistic:                      2425.6\n",
       "Entities:                                7284   P-value                           0.0000\n",
       "Avg Obs:                               5.8151   Distribution:                 F(5,35057)\n",
       "Min Obs:                               1.0000                                           \n",
       "Max Obs:                               955.00   F-statistic (robust):             2425.6\n",
       "                                                P-value                           0.0000\n",
       "Time periods:                              12   Distribution:                 F(5,35057)\n",
       "Avg Obs:                               3529.8                                           \n",
       "Min Obs:                               1717.0                                           \n",
       "Max Obs:                               4449.0                                           \n",
       "                                                                                        \n",
       "                                       Parameter Estimates                                        \n",
       "==================================================================================================\n",
       "                                Parameter  Std. Err.     T-stat    P-value    Lower CI    Upper CI\n",
       "--------------------------------------------------------------------------------------------------\n",
       "Intercept                         -0.2227     0.0167    -13.303     0.0000     -0.2555     -0.1899\n",
       "np.log(optimal_prices_RF)         -0.0067     0.0029    -2.3105     0.0209     -0.0124     -0.0010\n",
       "sex_ratio                          0.0002  7.387e-05     2.6771     0.0074   5.297e-05      0.0003\n",
       "state_Freq_Encoded                -0.0018  2.448e-05    -73.935     0.0000     -0.0019     -0.0018\n",
       "Median_age                        -0.0105     0.0002    -50.724     0.0000     -0.0109     -0.0101\n",
       "np.log(optimal_prices_RF):post     0.0007     0.0004     1.8663     0.0620  -3.363e-05      0.0014\n",
       "==================================================================================================\n",
       "\n",
       "F-test for Poolability: 1.5245\n",
       "P-value: 0.0000\n",
       "Distribution: F(7294,35057)\n",
       "\n",
       "Included effects: Entity, Time\n",
       "PanelEffectsResults, id: 0x2072713ba30"
      ]
     },
     "execution_count": 81,
     "metadata": {},
     "output_type": "execute_result"
    }
   ],
   "source": [
    "model_cluster3"
   ]
  },
  {
   "cell_type": "markdown",
   "id": "6c9b4044",
   "metadata": {},
   "source": [
    "## TWFE Veblen products"
   ]
  },
  {
   "cell_type": "markdown",
   "id": "59fe92d6",
   "metadata": {},
   "source": [
    "### EDA for Veblen Products"
   ]
  },
  {
   "cell_type": "code",
   "execution_count": 40,
   "id": "e45fe443",
   "metadata": {},
   "outputs": [],
   "source": [
    "veblen_prod_categories=causal_df_veblen_products['product_category_name_english'].value_counts().reset_index().rename(columns={'index':'category_name'})"
   ]
  },
  {
   "cell_type": "code",
   "execution_count": 41,
   "id": "7fd95911",
   "metadata": {},
   "outputs": [
    {
     "data": {
      "image/png": "[encoded data removed]",
      "text/plain": [
       "<Figure size 864x432 with 1 Axes>"
      ]
     },
     "metadata": {
      "needs_background": "light"
     },
     "output_type": "display_data"
    }
   ],
   "source": [
    "import seaborn as sns\n",
    "\n",
    "plt.figure(figsize=(12, 6))\n",
    "sns.lineplot(x='category_name',y='product_category_name_english',data = veblen_prod_categories)\n",
    "plt.xticks(rotation=90)\n",
    "plt.show()"
   ]
  },
  {
   "cell_type": "code",
   "execution_count": 42,
   "id": "ad3ed5c8",
   "metadata": {},
   "outputs": [
    {
     "data": {
      "image/png": "[encoded data removed]",
      "text/plain": [
       "<Figure size 432x288 with 1 Axes>"
      ]
     },
     "metadata": {
      "needs_background": "light"
     },
     "output_type": "display_data"
    }
   ],
   "source": [
    "plt.hist(causal_df_veblen_products['optimal_prices_RF'],bins =5)\n",
    "plt.xlabel('price for Veblen products')\n",
    "plt.ylabel('frequency')\n",
    "plt.title('Veblen product price distribution')\n",
    "plt.show()"
   ]
  },
  {
   "cell_type": "code",
   "execution_count": 43,
   "id": "1aaf021a",
   "metadata": {},
   "outputs": [
    {
     "data": {
      "text/plain": [
       "count    28473.000000\n",
       "mean       128.758468\n",
       "std        106.818705\n",
       "min          0.850000\n",
       "25%         49.000000\n",
       "50%         89.900000\n",
       "75%        198.000000\n",
       "max        845.000000\n",
       "Name: optimal_prices_RF, dtype: float64"
      ]
     },
     "execution_count": 43,
     "metadata": {},
     "output_type": "execute_result"
    }
   ],
   "source": [
    "causal_df_veblen_products['optimal_prices_RF'].describe()"
   ]
  },
  {
   "cell_type": "code",
   "execution_count": 44,
   "id": "89541755",
   "metadata": {},
   "outputs": [
    {
     "data": {
      "text/plain": [
       "count    6630.000000\n",
       "mean        0.401208\n",
       "std         0.077941\n",
       "min         0.075713\n",
       "25%         0.351201\n",
       "50%         0.401525\n",
       "75%         0.449160\n",
       "max         0.715012\n",
       "Name: est_purchase_proba, dtype: float64"
      ]
     },
     "execution_count": 44,
     "metadata": {},
     "output_type": "execute_result"
    }
   ],
   "source": [
    "causal_df_veblen_products[causal_df_veblen_products['optimal_prices_RF']>200]['est_purchase_proba'].describe()"
   ]
  },
  {
   "cell_type": "code",
   "execution_count": 45,
   "id": "307fe56c",
   "metadata": {},
   "outputs": [
    {
     "data": {
      "text/plain": [
       "count    21818.000000\n",
       "mean         0.545911\n",
       "std          0.070707\n",
       "min          0.301502\n",
       "25%          0.499684\n",
       "50%          0.549777\n",
       "75%          0.592890\n",
       "max          0.903552\n",
       "Name: est_purchase_proba, dtype: float64"
      ]
     },
     "execution_count": 45,
     "metadata": {},
     "output_type": "execute_result"
    }
   ],
   "source": [
    "causal_df_veblen_products[causal_df_veblen_products['optimal_prices_RF']<200]['est_purchase_proba'].describe()"
   ]
  },
  {
   "cell_type": "markdown",
   "id": "0d6e704e",
   "metadata": {},
   "source": [
    "The rationale behind the control variable, price, exhibiting an inverse relationship with consumer purchase probability for Veblen/Giffen products lies in the fact that the average purchase probability for higher prices is, on average, lower than that for lower prices for overall dataset including pre and post-intervention period."
   ]
  },
  {
   "cell_type": "code",
   "execution_count": 46,
   "id": "46aed547",
   "metadata": {},
   "outputs": [
    {
     "data": {
      "text/plain": [
       "70"
      ]
     },
     "execution_count": 46,
     "metadata": {},
     "output_type": "execute_result"
    }
   ],
   "source": [
    "causal_df_veblen_products['product_category_name'].nunique()"
   ]
  },
  {
   "cell_type": "markdown",
   "id": "9a08f133",
   "metadata": {},
   "source": [
    "### TWFE with only price and no control variables"
   ]
  },
  {
   "cell_type": "code",
   "execution_count": 47,
   "id": "e4383dd6",
   "metadata": {},
   "outputs": [],
   "source": [
    "model_cluster = PanelOLS.from_formula(\n",
    "  formula=(\"log(est_purchase_proba) ~ 1+np.log(optimal_prices_RF):post + EntityEffects+TimeEffects\"\n",
    "           ),\n",
    "  data=causal_df_veblen_products.set_index(['product_id', 'month']),\n",
    ").fit()"
   ]
  },
  {
   "cell_type": "code",
   "execution_count": 48,
   "id": "8b8cae1a",
   "metadata": {
    "scrolled": true
   },
   "outputs": [
    {
     "data": {
      "text/html": [
       "<table class=\"simpletable\">\n",
       "<caption>PanelOLS Estimation Summary</caption>\n",
       "<tr>\n",
       "  <th>Dep. Variable:</th>    <td>log(est_purchase_proba)</td> <th>  R-squared:         </th>    <td>4.399e-06</td>\n",
       "</tr>\n",
       "<tr>\n",
       "  <th>Estimator:</th>               <td>PanelOLS</td>         <th>  R-squared (Between):</th>    <td>-0.1203</td> \n",
       "</tr>\n",
       "<tr>\n",
       "  <th>No. Observations:</th>          <td>28473</td>          <th>  R-squared (Within):</th>    <td> 2.2e-05</td> \n",
       "</tr>\n",
       "<tr>\n",
       "  <th>Date:</th>                <td>Sat, Mar 09 2024</td>     <th>  R-squared (Overall):</th>    <td>0.0007</td>  \n",
       "</tr>\n",
       "<tr>\n",
       "  <th>Time:</th>                    <td>09:15:30</td>         <th>  Log-likelihood     </th>    <td>2.352e+04</td>\n",
       "</tr>\n",
       "<tr>\n",
       "  <th>Cov. Estimator:</th>         <td>Unadjusted</td>        <th>                     </th>        <td></td>     \n",
       "</tr>\n",
       "<tr>\n",
       "  <th></th>                             <td></td>             <th>  F-statistic:       </th>     <td>0.0961</td>  \n",
       "</tr>\n",
       "<tr>\n",
       "  <th>Entities:</th>                  <td>6620</td>           <th>  P-value            </th>     <td>0.7566</td>  \n",
       "</tr>\n",
       "<tr>\n",
       "  <th>Avg Obs:</th>                  <td>4.3011</td>          <th>  Distribution:      </th>   <td>F(1,21841)</td>\n",
       "</tr>\n",
       "<tr>\n",
       "  <th>Min Obs:</th>                  <td>1.0000</td>          <th>                     </th>        <td></td>     \n",
       "</tr>\n",
       "<tr>\n",
       "  <th>Max Obs:</th>                  <td>811.00</td>          <th>  F-statistic (robust):</th>   <td>0.0961</td>  \n",
       "</tr>\n",
       "<tr>\n",
       "  <th></th>                             <td></td>             <th>  P-value            </th>     <td>0.7566</td>  \n",
       "</tr>\n",
       "<tr>\n",
       "  <th>Time periods:</th>               <td>12</td>            <th>  Distribution:      </th>   <td>F(1,21841)</td>\n",
       "</tr>\n",
       "<tr>\n",
       "  <th>Avg Obs:</th>                  <td>2372.8</td>          <th>                     </th>        <td></td>     \n",
       "</tr>\n",
       "<tr>\n",
       "  <th>Min Obs:</th>                  <td>1040.0</td>          <th>                     </th>        <td></td>     \n",
       "</tr>\n",
       "<tr>\n",
       "  <th>Max Obs:</th>                  <td>3374.0</td>          <th>                     </th>        <td></td>     \n",
       "</tr>\n",
       "<tr>\n",
       "  <th></th>                             <td></td>             <th>                     </th>        <td></td>     \n",
       "</tr>\n",
       "</table>\n",
       "<table class=\"simpletable\">\n",
       "<caption>Parameter Estimates</caption>\n",
       "<tr>\n",
       "                 <td></td>                <th>Parameter</th> <th>Std. Err.</th> <th>T-stat</th>  <th>P-value</th> <th>Lower CI</th> <th>Upper CI</th>\n",
       "</tr>\n",
       "<tr>\n",
       "  <th>Intercept</th>                       <td>-0.6883</td>   <td>0.0018</td>   <td>-388.93</td> <td>0.0000</td>   <td>-0.6917</td>  <td>-0.6848</td>\n",
       "</tr>\n",
       "<tr>\n",
       "  <th>np.log(optimal_prices_RF):post</th>  <td>-0.0002</td>   <td>0.0008</td>   <td>-0.3100</td> <td>0.7566</td>   <td>-0.0017</td>  <td>0.0012</td> \n",
       "</tr>\n",
       "</table><br/><br/>F-test for Poolability: 9.0113<br/>P-value: 0.0000<br/>Distribution: F(6630,21841)<br/><br/>Included effects: Entity, Time<br/>id: 0x2072bbbe3d0"
      ],
      "text/plain": [
       "                             PanelOLS Estimation Summary                             \n",
       "=====================================================================================\n",
       "Dep. Variable:     log(est_purchase_proba)   R-squared:                     4.399e-06\n",
       "Estimator:                        PanelOLS   R-squared (Between):             -0.1203\n",
       "No. Observations:                    28473   R-squared (Within):              2.2e-05\n",
       "Date:                     Sat, Mar 09 2024   R-squared (Overall):              0.0007\n",
       "Time:                             09:15:30   Log-likelihood                 2.352e+04\n",
       "Cov. Estimator:                 Unadjusted                                           \n",
       "                                             F-statistic:                      0.0961\n",
       "Entities:                             6620   P-value                           0.7566\n",
       "Avg Obs:                            4.3011   Distribution:                 F(1,21841)\n",
       "Min Obs:                            1.0000                                           \n",
       "Max Obs:                            811.00   F-statistic (robust):             0.0961\n",
       "                                             P-value                           0.7566\n",
       "Time periods:                           12   Distribution:                 F(1,21841)\n",
       "Avg Obs:                            2372.8                                           \n",
       "Min Obs:                            1040.0                                           \n",
       "Max Obs:                            3374.0                                           \n",
       "                                                                                     \n",
       "                                       Parameter Estimates                                        \n",
       "==================================================================================================\n",
       "                                Parameter  Std. Err.     T-stat    P-value    Lower CI    Upper CI\n",
       "--------------------------------------------------------------------------------------------------\n",
       "Intercept                         -0.6883     0.0018    -388.93     0.0000     -0.6917     -0.6848\n",
       "np.log(optimal_prices_RF):post    -0.0002     0.0008    -0.3100     0.7566     -0.0017      0.0012\n",
       "==================================================================================================\n",
       "\n",
       "F-test for Poolability: 9.0113\n",
       "P-value: 0.0000\n",
       "Distribution: F(6630,21841)\n",
       "\n",
       "Included effects: Entity, Time\n",
       "PanelEffectsResults, id: 0x2072bbbe3d0"
      ]
     },
     "execution_count": 48,
     "metadata": {},
     "output_type": "execute_result"
    }
   ],
   "source": [
    "model_cluster"
   ]
  },
  {
   "cell_type": "markdown",
   "id": "104d7802",
   "metadata": {},
   "source": [
    "### TWFE with price as treatment variable and demographic control variables"
   ]
  },
  {
   "cell_type": "code",
   "execution_count": 72,
   "id": "7831adba",
   "metadata": {},
   "outputs": [],
   "source": [
    "model_cluster2 = PanelOLS.from_formula(\n",
    "  formula=(\"np.log(est_purchase_proba) ~ 1+np.log(optimal_prices_RF):post +sex_ratio+ aging_index + Median_age+state_Freq_Encoded + EntityEffects+TimeEffects\"\n",
    "           ),\n",
    "  data=causal_df_veblen_products.set_index(['product_id', 'month']),\n",
    ").fit()"
   ]
  },
  {
   "cell_type": "code",
   "execution_count": 73,
   "id": "9bf6cb64",
   "metadata": {},
   "outputs": [
    {
     "data": {
      "text/html": [
       "<table class=\"simpletable\">\n",
       "<caption>PanelOLS Estimation Summary</caption>\n",
       "<tr>\n",
       "  <th>Dep. Variable:</th>    <td>np.log(est_purchase_proba)</td> <th>  R-squared:         </th>     <td>0.9382</td>  \n",
       "</tr>\n",
       "<tr>\n",
       "  <th>Estimator:</th>                 <td>PanelOLS</td>          <th>  R-squared (Between):</th>    <td>0.1007</td>  \n",
       "</tr>\n",
       "<tr>\n",
       "  <th>No. Observations:</th>            <td>28473</td>           <th>  R-squared (Within):</th>     <td>0.9374</td>  \n",
       "</tr>\n",
       "<tr>\n",
       "  <th>Date:</th>                  <td>Sat, Mar 09 2024</td>      <th>  R-squared (Overall):</th>    <td>0.3139</td>  \n",
       "</tr>\n",
       "<tr>\n",
       "  <th>Time:</th>                      <td>09:28:27</td>          <th>  Log-likelihood     </th>    <td>6.316e+04</td>\n",
       "</tr>\n",
       "<tr>\n",
       "  <th>Cov. Estimator:</th>           <td>Unadjusted</td>         <th>                     </th>        <td></td>     \n",
       "</tr>\n",
       "<tr>\n",
       "  <th></th>                               <td></td>              <th>  F-statistic:       </th>    <td>6.63e+04</td> \n",
       "</tr>\n",
       "<tr>\n",
       "  <th>Entities:</th>                    <td>6620</td>            <th>  P-value            </th>     <td>0.0000</td>  \n",
       "</tr>\n",
       "<tr>\n",
       "  <th>Avg Obs:</th>                    <td>4.3011</td>           <th>  Distribution:      </th>   <td>F(5,21837)</td>\n",
       "</tr>\n",
       "<tr>\n",
       "  <th>Min Obs:</th>                    <td>1.0000</td>           <th>                     </th>        <td></td>     \n",
       "</tr>\n",
       "<tr>\n",
       "  <th>Max Obs:</th>                    <td>811.00</td>           <th>  F-statistic (robust):</th>  <td>6.63e+04</td> \n",
       "</tr>\n",
       "<tr>\n",
       "  <th></th>                               <td></td>              <th>  P-value            </th>     <td>0.0000</td>  \n",
       "</tr>\n",
       "<tr>\n",
       "  <th>Time periods:</th>                 <td>12</td>             <th>  Distribution:      </th>   <td>F(5,21837)</td>\n",
       "</tr>\n",
       "<tr>\n",
       "  <th>Avg Obs:</th>                    <td>2372.8</td>           <th>                     </th>        <td></td>     \n",
       "</tr>\n",
       "<tr>\n",
       "  <th>Min Obs:</th>                    <td>1040.0</td>           <th>                     </th>        <td></td>     \n",
       "</tr>\n",
       "<tr>\n",
       "  <th>Max Obs:</th>                    <td>3374.0</td>           <th>                     </th>        <td></td>     \n",
       "</tr>\n",
       "<tr>\n",
       "  <th></th>                               <td></td>              <th>                     </th>        <td></td>     \n",
       "</tr>\n",
       "</table>\n",
       "<table class=\"simpletable\">\n",
       "<caption>Parameter Estimates</caption>\n",
       "<tr>\n",
       "                 <td></td>                <th>Parameter</th> <th>Std. Err.</th> <th>T-stat</th>  <th>P-value</th> <th>Lower CI</th> <th>Upper CI</th>\n",
       "</tr>\n",
       "<tr>\n",
       "  <th>Intercept</th>                       <td>-0.8612</td>   <td>0.0109</td>   <td>-79.135</td> <td>0.0000</td>   <td>-0.8825</td>  <td>-0.8398</td>\n",
       "</tr>\n",
       "<tr>\n",
       "  <th>sex_ratio</th>                       <td>0.0217</td>   <td>4.108e-05</td> <td>529.03</td>  <td>0.0000</td>   <td>0.0217</td>   <td>0.0218</td> \n",
       "</tr>\n",
       "<tr>\n",
       "  <th>aging_index</th>                     <td>0.0084</td>   <td>4.221e-05</td> <td>197.86</td>  <td>0.0000</td>   <td>0.0083</td>   <td>0.0084</td> \n",
       "</tr>\n",
       "<tr>\n",
       "  <th>Median_age</th>                      <td>-0.0656</td>   <td>0.0004</td>   <td>-183.49</td> <td>0.0000</td>   <td>-0.0663</td>  <td>-0.0649</td>\n",
       "</tr>\n",
       "<tr>\n",
       "  <th>state_Freq_Encoded</th>              <td>-0.0039</td>  <td>1.336e-05</td> <td>-292.03</td> <td>0.0000</td>   <td>-0.0039</td>  <td>-0.0039</td>\n",
       "</tr>\n",
       "<tr>\n",
       "  <th>np.log(optimal_prices_RF):post</th>  <td>0.0018</td>    <td>0.0002</td>   <td>9.5261</td>  <td>0.0000</td>   <td>0.0014</td>   <td>0.0022</td> \n",
       "</tr>\n",
       "</table><br/><br/>F-test for Poolability: 131.49<br/>P-value: 0.0000<br/>Distribution: F(6630,21837)<br/><br/>Included effects: Entity, Time<br/>id: 0x2072bba4d60"
      ],
      "text/plain": [
       "                              PanelOLS Estimation Summary                               \n",
       "========================================================================================\n",
       "Dep. Variable:     np.log(est_purchase_proba)   R-squared:                        0.9382\n",
       "Estimator:                           PanelOLS   R-squared (Between):              0.1007\n",
       "No. Observations:                       28473   R-squared (Within):               0.9374\n",
       "Date:                        Sat, Mar 09 2024   R-squared (Overall):              0.3139\n",
       "Time:                                09:28:27   Log-likelihood                 6.316e+04\n",
       "Cov. Estimator:                    Unadjusted                                           \n",
       "                                                F-statistic:                    6.63e+04\n",
       "Entities:                                6620   P-value                           0.0000\n",
       "Avg Obs:                               4.3011   Distribution:                 F(5,21837)\n",
       "Min Obs:                               1.0000                                           \n",
       "Max Obs:                               811.00   F-statistic (robust):           6.63e+04\n",
       "                                                P-value                           0.0000\n",
       "Time periods:                              12   Distribution:                 F(5,21837)\n",
       "Avg Obs:                               2372.8                                           \n",
       "Min Obs:                               1040.0                                           \n",
       "Max Obs:                               3374.0                                           \n",
       "                                                                                        \n",
       "                                       Parameter Estimates                                        \n",
       "==================================================================================================\n",
       "                                Parameter  Std. Err.     T-stat    P-value    Lower CI    Upper CI\n",
       "--------------------------------------------------------------------------------------------------\n",
       "Intercept                         -0.8612     0.0109    -79.135     0.0000     -0.8825     -0.8398\n",
       "sex_ratio                          0.0217  4.108e-05     529.03     0.0000      0.0217      0.0218\n",
       "aging_index                        0.0084  4.221e-05     197.86     0.0000      0.0083      0.0084\n",
       "Median_age                        -0.0656     0.0004    -183.49     0.0000     -0.0663     -0.0649\n",
       "state_Freq_Encoded                -0.0039  1.336e-05    -292.03     0.0000     -0.0039     -0.0039\n",
       "np.log(optimal_prices_RF):post     0.0018     0.0002     9.5261     0.0000      0.0014      0.0022\n",
       "==================================================================================================\n",
       "\n",
       "F-test for Poolability: 131.49\n",
       "P-value: 0.0000\n",
       "Distribution: F(6630,21837)\n",
       "\n",
       "Included effects: Entity, Time\n",
       "PanelEffectsResults, id: 0x2072bba4d60"
      ]
     },
     "execution_count": 73,
     "metadata": {},
     "output_type": "execute_result"
    }
   ],
   "source": [
    "model_cluster2"
   ]
  },
  {
   "cell_type": "markdown",
   "id": "c8c887dd",
   "metadata": {},
   "source": [
    "### TWFE with price as treatment variable,demographic control variables and price also control variable"
   ]
  },
  {
   "cell_type": "code",
   "execution_count": 82,
   "id": "5600a17e",
   "metadata": {},
   "outputs": [],
   "source": [
    "model_cluster3 = PanelOLS.from_formula(\n",
    "  formula=(\"np.log(est_purchase_proba) ~ 1+np.log(optimal_prices_RF)+np.log(optimal_prices_RF):post +sex_ratio + Median_age+state_Freq_Encoded + EntityEffects+TimeEffects\"\n",
    "           ),\n",
    "  data=causal_df_veblen_products.set_index(['product_id', 'month']),\n",
    ").fit()"
   ]
  },
  {
   "cell_type": "code",
   "execution_count": 83,
   "id": "8865d957",
   "metadata": {
    "scrolled": false
   },
   "outputs": [
    {
     "data": {
      "text/html": [
       "<table class=\"simpletable\">\n",
       "<caption>PanelOLS Estimation Summary</caption>\n",
       "<tr>\n",
       "  <th>Dep. Variable:</th>    <td>np.log(est_purchase_proba)</td> <th>  R-squared:         </th>     <td>0.8420</td>  \n",
       "</tr>\n",
       "<tr>\n",
       "  <th>Estimator:</th>                 <td>PanelOLS</td>          <th>  R-squared (Between):</th>    <td>0.8264</td>  \n",
       "</tr>\n",
       "<tr>\n",
       "  <th>No. Observations:</th>            <td>28473</td>           <th>  R-squared (Within):</th>     <td>0.8417</td>  \n",
       "</tr>\n",
       "<tr>\n",
       "  <th>Date:</th>                  <td>Sat, Mar 09 2024</td>      <th>  R-squared (Overall):</th>    <td>0.7797</td>  \n",
       "</tr>\n",
       "<tr>\n",
       "  <th>Time:</th>                      <td>09:35:39</td>          <th>  Log-likelihood     </th>    <td>4.979e+04</td>\n",
       "</tr>\n",
       "<tr>\n",
       "  <th>Cov. Estimator:</th>           <td>Unadjusted</td>         <th>                     </th>        <td></td>     \n",
       "</tr>\n",
       "<tr>\n",
       "  <th></th>                               <td></td>              <th>  F-statistic:       </th>    <td>2.327e+04</td>\n",
       "</tr>\n",
       "<tr>\n",
       "  <th>Entities:</th>                    <td>6620</td>            <th>  P-value            </th>     <td>0.0000</td>  \n",
       "</tr>\n",
       "<tr>\n",
       "  <th>Avg Obs:</th>                    <td>4.3011</td>           <th>  Distribution:      </th>   <td>F(5,21837)</td>\n",
       "</tr>\n",
       "<tr>\n",
       "  <th>Min Obs:</th>                    <td>1.0000</td>           <th>                     </th>        <td></td>     \n",
       "</tr>\n",
       "<tr>\n",
       "  <th>Max Obs:</th>                    <td>811.00</td>           <th>  F-statistic (robust):</th>  <td>2.327e+04</td>\n",
       "</tr>\n",
       "<tr>\n",
       "  <th></th>                               <td></td>              <th>  P-value            </th>     <td>0.0000</td>  \n",
       "</tr>\n",
       "<tr>\n",
       "  <th>Time periods:</th>                 <td>12</td>             <th>  Distribution:      </th>   <td>F(5,21837)</td>\n",
       "</tr>\n",
       "<tr>\n",
       "  <th>Avg Obs:</th>                    <td>2372.8</td>           <th>                     </th>        <td></td>     \n",
       "</tr>\n",
       "<tr>\n",
       "  <th>Min Obs:</th>                    <td>1040.0</td>           <th>                     </th>        <td></td>     \n",
       "</tr>\n",
       "<tr>\n",
       "  <th>Max Obs:</th>                    <td>3374.0</td>           <th>                     </th>        <td></td>     \n",
       "</tr>\n",
       "<tr>\n",
       "  <th></th>                               <td></td>              <th>                     </th>        <td></td>     \n",
       "</tr>\n",
       "</table>\n",
       "<table class=\"simpletable\">\n",
       "<caption>Parameter Estimates</caption>\n",
       "<tr>\n",
       "                 <td></td>                <th>Parameter</th> <th>Std. Err.</th> <th>T-stat</th>  <th>P-value</th> <th>Lower CI</th> <th>Upper CI</th>\n",
       "</tr>\n",
       "<tr>\n",
       "  <th>Intercept</th>                       <td>-1.8704</td>   <td>0.0201</td>   <td>-93.112</td> <td>0.0000</td>   <td>-1.9098</td>  <td>-1.8311</td>\n",
       "</tr>\n",
       "<tr>\n",
       "  <th>np.log(optimal_prices_RF)</th>       <td>-0.1807</td>   <td>0.0040</td>   <td>-44.865</td> <td>0.0000</td>   <td>-0.1886</td>  <td>-0.1728</td>\n",
       "</tr>\n",
       "<tr>\n",
       "  <th>sex_ratio</th>                       <td>0.0210</td>   <td>6.542e-05</td> <td>320.97</td>  <td>0.0000</td>   <td>0.0209</td>   <td>0.0211</td> \n",
       "</tr>\n",
       "<tr>\n",
       "  <th>Median_age</th>                      <td>0.0014</td>    <td>0.0002</td>   <td>7.6283</td>  <td>0.0000</td>   <td>0.0010</td>   <td>0.0018</td> \n",
       "</tr>\n",
       "<tr>\n",
       "  <th>state_Freq_Encoded</th>              <td>-0.0041</td>  <td>2.127e-05</td> <td>-194.10</td> <td>0.0000</td>   <td>-0.0042</td>  <td>-0.0041</td>\n",
       "</tr>\n",
       "<tr>\n",
       "  <th>np.log(optimal_prices_RF):post</th>  <td>0.0108</td>    <td>0.0004</td>   <td>30.144</td>  <td>0.0000</td>   <td>0.0101</td>   <td>0.0115</td> \n",
       "</tr>\n",
       "</table><br/><br/>F-test for Poolability: 13.935<br/>P-value: 0.0000<br/>Distribution: F(6630,21837)<br/><br/>Included effects: Entity, Time<br/>id: 0x20724d38fd0"
      ],
      "text/plain": [
       "                              PanelOLS Estimation Summary                               \n",
       "========================================================================================\n",
       "Dep. Variable:     np.log(est_purchase_proba)   R-squared:                        0.8420\n",
       "Estimator:                           PanelOLS   R-squared (Between):              0.8264\n",
       "No. Observations:                       28473   R-squared (Within):               0.8417\n",
       "Date:                        Sat, Mar 09 2024   R-squared (Overall):              0.7797\n",
       "Time:                                09:35:39   Log-likelihood                 4.979e+04\n",
       "Cov. Estimator:                    Unadjusted                                           \n",
       "                                                F-statistic:                   2.327e+04\n",
       "Entities:                                6620   P-value                           0.0000\n",
       "Avg Obs:                               4.3011   Distribution:                 F(5,21837)\n",
       "Min Obs:                               1.0000                                           \n",
       "Max Obs:                               811.00   F-statistic (robust):          2.327e+04\n",
       "                                                P-value                           0.0000\n",
       "Time periods:                              12   Distribution:                 F(5,21837)\n",
       "Avg Obs:                               2372.8                                           \n",
       "Min Obs:                               1040.0                                           \n",
       "Max Obs:                               3374.0                                           \n",
       "                                                                                        \n",
       "                                       Parameter Estimates                                        \n",
       "==================================================================================================\n",
       "                                Parameter  Std. Err.     T-stat    P-value    Lower CI    Upper CI\n",
       "--------------------------------------------------------------------------------------------------\n",
       "Intercept                         -1.8704     0.0201    -93.112     0.0000     -1.9098     -1.8311\n",
       "np.log(optimal_prices_RF)         -0.1807     0.0040    -44.865     0.0000     -0.1886     -0.1728\n",
       "sex_ratio                          0.0210  6.542e-05     320.97     0.0000      0.0209      0.0211\n",
       "Median_age                         0.0014     0.0002     7.6283     0.0000      0.0010      0.0018\n",
       "state_Freq_Encoded                -0.0041  2.127e-05    -194.10     0.0000     -0.0042     -0.0041\n",
       "np.log(optimal_prices_RF):post     0.0108     0.0004     30.144     0.0000      0.0101      0.0115\n",
       "==================================================================================================\n",
       "\n",
       "F-test for Poolability: 13.935\n",
       "P-value: 0.0000\n",
       "Distribution: F(6630,21837)\n",
       "\n",
       "Included effects: Entity, Time\n",
       "PanelEffectsResults, id: 0x20724d38fd0"
      ]
     },
     "execution_count": 83,
     "metadata": {},
     "output_type": "execute_result"
    }
   ],
   "source": [
    "model_cluster3"
   ]
  },
  {
   "cell_type": "markdown",
   "id": "7afd6d7d",
   "metadata": {},
   "source": [
    "## TWFE neg PED elastic prods"
   ]
  },
  {
   "cell_type": "markdown",
   "id": "0b67da2e",
   "metadata": {},
   "source": [
    "### EDA for elastic products with negative PED"
   ]
  },
  {
   "cell_type": "code",
   "execution_count": 53,
   "id": "32ebd56e",
   "metadata": {},
   "outputs": [],
   "source": [
    "negPED_prod_categories=causal_df_neg_PED_products['product_category_name_english'].value_counts().reset_index().rename(columns={'index':'category_name'})"
   ]
  },
  {
   "cell_type": "code",
   "execution_count": 54,
   "id": "3bdf4100",
   "metadata": {},
   "outputs": [
    {
     "data": {
      "image/png": "[encoded data removed]",
      "text/plain": [
       "<Figure size 864x432 with 1 Axes>"
      ]
     },
     "metadata": {
      "needs_background": "light"
     },
     "output_type": "display_data"
    }
   ],
   "source": [
    "import seaborn as sns\n",
    "\n",
    "plt.figure(figsize=(12, 6))\n",
    "sns.lineplot(x='category_name',y='product_category_name_english',data = negPED_prod_categories)\n",
    "plt.xticks(rotation=90)\n",
    "plt.show()"
   ]
  },
  {
   "cell_type": "code",
   "execution_count": 55,
   "id": "5a3606b5",
   "metadata": {},
   "outputs": [
    {
     "data": {
      "text/plain": [
       "47"
      ]
     },
     "execution_count": 55,
     "metadata": {},
     "output_type": "execute_result"
    }
   ],
   "source": [
    "causal_df_neg_PED_products['product_category_name'].nunique()"
   ]
  },
  {
   "cell_type": "markdown",
   "id": "ab6c0f22",
   "metadata": {},
   "source": [
    "### TWFE with price as treatment variable,and no control variables"
   ]
  },
  {
   "cell_type": "code",
   "execution_count": 56,
   "id": "d00184d0",
   "metadata": {},
   "outputs": [],
   "source": [
    "model_cluster = PanelOLS.from_formula(\n",
    "  formula=(\"log(est_purchase_proba) ~ 1+np.log(optimal_prices_RF):post + EntityEffects+TimeEffects\"\n",
    "           ),\n",
    "  data=causal_df_neg_PED_products.set_index(['product_id', 'month']),\n",
    ").fit()"
   ]
  },
  {
   "cell_type": "code",
   "execution_count": 57,
   "id": "93b38f2a",
   "metadata": {
    "scrolled": true
   },
   "outputs": [
    {
     "data": {
      "text/html": [
       "<table class=\"simpletable\">\n",
       "<caption>PanelOLS Estimation Summary</caption>\n",
       "<tr>\n",
       "  <th>Dep. Variable:</th>    <td>log(est_purchase_proba)</td> <th>  R-squared:         </th>    <td>9.253e-07</td>\n",
       "</tr>\n",
       "<tr>\n",
       "  <th>Estimator:</th>               <td>PanelOLS</td>         <th>  R-squared (Between):</th>    <td>-0.4542</td> \n",
       "</tr>\n",
       "<tr>\n",
       "  <th>No. Observations:</th>          <td>13884</td>          <th>  R-squared (Within):</th>   <td>-4.466e-05</td>\n",
       "</tr>\n",
       "<tr>\n",
       "  <th>Date:</th>                <td>Sat, Mar 09 2024</td>     <th>  R-squared (Overall):</th>    <td>0.0002</td>  \n",
       "</tr>\n",
       "<tr>\n",
       "  <th>Time:</th>                    <td>09:15:34</td>         <th>  Log-likelihood     </th>    <td>1.429e+04</td>\n",
       "</tr>\n",
       "<tr>\n",
       "  <th>Cov. Estimator:</th>         <td>Unadjusted</td>        <th>                     </th>        <td></td>     \n",
       "</tr>\n",
       "<tr>\n",
       "  <th></th>                             <td></td>             <th>  F-statistic:       </th>     <td>0.0122</td>  \n",
       "</tr>\n",
       "<tr>\n",
       "  <th>Entities:</th>                   <td>664</td>           <th>  P-value            </th>     <td>0.9120</td>  \n",
       "</tr>\n",
       "<tr>\n",
       "  <th>Avg Obs:</th>                  <td>20.910</td>          <th>  Distribution:      </th>   <td>F(1,13208)</td>\n",
       "</tr>\n",
       "<tr>\n",
       "  <th>Min Obs:</th>                  <td>1.0000</td>          <th>                     </th>        <td></td>     \n",
       "</tr>\n",
       "<tr>\n",
       "  <th>Max Obs:</th>                  <td>955.00</td>          <th>  F-statistic (robust):</th>   <td>0.0122</td>  \n",
       "</tr>\n",
       "<tr>\n",
       "  <th></th>                             <td></td>             <th>  P-value            </th>     <td>0.9120</td>  \n",
       "</tr>\n",
       "<tr>\n",
       "  <th>Time periods:</th>               <td>12</td>            <th>  Distribution:      </th>   <td>F(1,13208)</td>\n",
       "</tr>\n",
       "<tr>\n",
       "  <th>Avg Obs:</th>                  <td>1157.0</td>          <th>                     </th>        <td></td>     \n",
       "</tr>\n",
       "<tr>\n",
       "  <th>Min Obs:</th>                  <td>660.00</td>          <th>                     </th>        <td></td>     \n",
       "</tr>\n",
       "<tr>\n",
       "  <th>Max Obs:</th>                  <td>2011.0</td>          <th>                     </th>        <td></td>     \n",
       "</tr>\n",
       "<tr>\n",
       "  <th></th>                             <td></td>             <th>                     </th>        <td></td>     \n",
       "</tr>\n",
       "</table>\n",
       "<table class=\"simpletable\">\n",
       "<caption>Parameter Estimates</caption>\n",
       "<tr>\n",
       "                 <td></td>                 <th>Parameter</th> <th>Std. Err.</th> <th>T-stat</th>  <th>P-value</th> <th>Lower CI</th> <th>Upper CI</th>\n",
       "</tr>\n",
       "<tr>\n",
       "  <th>Intercept</th>                        <td>-0.2323</td>   <td>0.0013</td>   <td>-182.70</td> <td>0.0000</td>   <td>-0.2348</td>  <td>-0.2298</td>\n",
       "</tr>\n",
       "<tr>\n",
       "  <th>np.log(optimal_prices_RF):post</th> <td>-9.074e-05</td>  <td>0.0008</td>   <td>-0.1106</td> <td>0.9120</td>   <td>-0.0017</td>  <td>0.0015</td> \n",
       "</tr>\n",
       "</table><br/><br/>F-test for Poolability: 101.41<br/>P-value: 0.0000<br/>Distribution: F(674,13208)<br/><br/>Included effects: Entity, Time<br/>id: 0x2072c73efd0"
      ],
      "text/plain": [
       "                             PanelOLS Estimation Summary                             \n",
       "=====================================================================================\n",
       "Dep. Variable:     log(est_purchase_proba)   R-squared:                     9.253e-07\n",
       "Estimator:                        PanelOLS   R-squared (Between):             -0.4542\n",
       "No. Observations:                    13884   R-squared (Within):           -4.466e-05\n",
       "Date:                     Sat, Mar 09 2024   R-squared (Overall):              0.0002\n",
       "Time:                             09:15:34   Log-likelihood                 1.429e+04\n",
       "Cov. Estimator:                 Unadjusted                                           \n",
       "                                             F-statistic:                      0.0122\n",
       "Entities:                              664   P-value                           0.9120\n",
       "Avg Obs:                            20.910   Distribution:                 F(1,13208)\n",
       "Min Obs:                            1.0000                                           \n",
       "Max Obs:                            955.00   F-statistic (robust):             0.0122\n",
       "                                             P-value                           0.9120\n",
       "Time periods:                           12   Distribution:                 F(1,13208)\n",
       "Avg Obs:                            1157.0                                           \n",
       "Min Obs:                            660.00                                           \n",
       "Max Obs:                            2011.0                                           \n",
       "                                                                                     \n",
       "                                       Parameter Estimates                                        \n",
       "==================================================================================================\n",
       "                                Parameter  Std. Err.     T-stat    P-value    Lower CI    Upper CI\n",
       "--------------------------------------------------------------------------------------------------\n",
       "Intercept                         -0.2323     0.0013    -182.70     0.0000     -0.2348     -0.2298\n",
       "np.log(optimal_prices_RF):post -9.074e-05     0.0008    -0.1106     0.9120     -0.0017      0.0015\n",
       "==================================================================================================\n",
       "\n",
       "F-test for Poolability: 101.41\n",
       "P-value: 0.0000\n",
       "Distribution: F(674,13208)\n",
       "\n",
       "Included effects: Entity, Time\n",
       "PanelEffectsResults, id: 0x2072c73efd0"
      ]
     },
     "execution_count": 57,
     "metadata": {},
     "output_type": "execute_result"
    }
   ],
   "source": [
    "model_cluster"
   ]
  },
  {
   "cell_type": "markdown",
   "id": "f5ee14d5",
   "metadata": {},
   "source": [
    "### TWFE with price as treatment variable and demographic control variables"
   ]
  },
  {
   "cell_type": "code",
   "execution_count": 58,
   "id": "eb318085",
   "metadata": {},
   "outputs": [],
   "source": [
    "model_cluster2 = PanelOLS.from_formula(\n",
    "  formula=(\"log(est_purchase_proba) ~ 1+np.log(optimal_prices_RF):post +sex_ratio+ aging_index + Median_age+state_Freq_Encoded + EntityEffects+TimeEffects\"\n",
    "           ),\n",
    "  data=causal_df_neg_PED_products.set_index(['product_id', 'month']),\n",
    ").fit()"
   ]
  },
  {
   "cell_type": "code",
   "execution_count": 59,
   "id": "4fe2a552",
   "metadata": {
    "scrolled": false
   },
   "outputs": [
    {
     "data": {
      "text/html": [
       "<table class=\"simpletable\">\n",
       "<caption>PanelOLS Estimation Summary</caption>\n",
       "<tr>\n",
       "  <th>Dep. Variable:</th>    <td>log(est_purchase_proba)</td> <th>  R-squared:         </th>     <td>0.7450</td>  \n",
       "</tr>\n",
       "<tr>\n",
       "  <th>Estimator:</th>               <td>PanelOLS</td>         <th>  R-squared (Between):</th>    <td>-0.4203</td> \n",
       "</tr>\n",
       "<tr>\n",
       "  <th>No. Observations:</th>          <td>13884</td>          <th>  R-squared (Within):</th>     <td>0.7440</td>  \n",
       "</tr>\n",
       "<tr>\n",
       "  <th>Date:</th>                <td>Sat, Mar 09 2024</td>     <th>  R-squared (Overall):</th>    <td>0.1118</td>  \n",
       "</tr>\n",
       "<tr>\n",
       "  <th>Time:</th>                    <td>09:15:35</td>         <th>  Log-likelihood     </th>    <td>2.378e+04</td>\n",
       "</tr>\n",
       "<tr>\n",
       "  <th>Cov. Estimator:</th>         <td>Unadjusted</td>        <th>                     </th>        <td></td>     \n",
       "</tr>\n",
       "<tr>\n",
       "  <th></th>                             <td></td>             <th>  F-statistic:       </th>     <td>7716.5</td>  \n",
       "</tr>\n",
       "<tr>\n",
       "  <th>Entities:</th>                   <td>664</td>           <th>  P-value            </th>     <td>0.0000</td>  \n",
       "</tr>\n",
       "<tr>\n",
       "  <th>Avg Obs:</th>                  <td>20.910</td>          <th>  Distribution:      </th>   <td>F(5,13204)</td>\n",
       "</tr>\n",
       "<tr>\n",
       "  <th>Min Obs:</th>                  <td>1.0000</td>          <th>                     </th>        <td></td>     \n",
       "</tr>\n",
       "<tr>\n",
       "  <th>Max Obs:</th>                  <td>955.00</td>          <th>  F-statistic (robust):</th>   <td>7716.5</td>  \n",
       "</tr>\n",
       "<tr>\n",
       "  <th></th>                             <td></td>             <th>  P-value            </th>     <td>0.0000</td>  \n",
       "</tr>\n",
       "<tr>\n",
       "  <th>Time periods:</th>               <td>12</td>            <th>  Distribution:      </th>   <td>F(5,13204)</td>\n",
       "</tr>\n",
       "<tr>\n",
       "  <th>Avg Obs:</th>                  <td>1157.0</td>          <th>                     </th>        <td></td>     \n",
       "</tr>\n",
       "<tr>\n",
       "  <th>Min Obs:</th>                  <td>660.00</td>          <th>                     </th>        <td></td>     \n",
       "</tr>\n",
       "<tr>\n",
       "  <th>Max Obs:</th>                  <td>2011.0</td>          <th>                     </th>        <td></td>     \n",
       "</tr>\n",
       "<tr>\n",
       "  <th></th>                             <td></td>             <th>                     </th>        <td></td>     \n",
       "</tr>\n",
       "</table>\n",
       "<table class=\"simpletable\">\n",
       "<caption>Parameter Estimates</caption>\n",
       "<tr>\n",
       "                 <td></td>                <th>Parameter</th> <th>Std. Err.</th> <th>T-stat</th>  <th>P-value</th> <th>Lower CI</th> <th>Upper CI</th>\n",
       "</tr>\n",
       "<tr>\n",
       "  <th>Intercept</th>                       <td>1.5449</td>    <td>0.0195</td>   <td>79.086</td>  <td>0.0000</td>   <td>1.5066</td>   <td>1.5832</td> \n",
       "</tr>\n",
       "<tr>\n",
       "  <th>sex_ratio</th>                       <td>-0.0077</td>  <td>7.597e-05</td> <td>-101.21</td> <td>0.0000</td>   <td>-0.0078</td>  <td>-0.0075</td>\n",
       "</tr>\n",
       "<tr>\n",
       "  <th>aging_index</th>                     <td>-0.0004</td>  <td>7.611e-05</td> <td>-4.6323</td> <td>0.0000</td>   <td>-0.0005</td>  <td>-0.0002</td>\n",
       "</tr>\n",
       "<tr>\n",
       "  <th>Median_age</th>                      <td>-0.0275</td>   <td>0.0006</td>   <td>-43.209</td> <td>0.0000</td>   <td>-0.0288</td>  <td>-0.0263</td>\n",
       "</tr>\n",
       "<tr>\n",
       "  <th>state_Freq_Encoded</th>              <td>-0.0007</td>  <td>2.601e-05</td> <td>-25.245</td> <td>0.0000</td>   <td>-0.0007</td>  <td>-0.0006</td>\n",
       "</tr>\n",
       "<tr>\n",
       "  <th>np.log(optimal_prices_RF):post</th>  <td>-0.0004</td>   <td>0.0004</td>   <td>-0.8710</td> <td>0.3838</td>   <td>-0.0012</td>  <td>0.0005</td> \n",
       "</tr>\n",
       "</table><br/><br/>F-test for Poolability: 399.45<br/>P-value: 0.0000<br/>Distribution: F(674,13204)<br/><br/>Included effects: Entity, Time<br/>id: 0x2072c72faf0"
      ],
      "text/plain": [
       "                             PanelOLS Estimation Summary                             \n",
       "=====================================================================================\n",
       "Dep. Variable:     log(est_purchase_proba)   R-squared:                        0.7450\n",
       "Estimator:                        PanelOLS   R-squared (Between):             -0.4203\n",
       "No. Observations:                    13884   R-squared (Within):               0.7440\n",
       "Date:                     Sat, Mar 09 2024   R-squared (Overall):              0.1118\n",
       "Time:                             09:15:35   Log-likelihood                 2.378e+04\n",
       "Cov. Estimator:                 Unadjusted                                           \n",
       "                                             F-statistic:                      7716.5\n",
       "Entities:                              664   P-value                           0.0000\n",
       "Avg Obs:                            20.910   Distribution:                 F(5,13204)\n",
       "Min Obs:                            1.0000                                           \n",
       "Max Obs:                            955.00   F-statistic (robust):             7716.5\n",
       "                                             P-value                           0.0000\n",
       "Time periods:                           12   Distribution:                 F(5,13204)\n",
       "Avg Obs:                            1157.0                                           \n",
       "Min Obs:                            660.00                                           \n",
       "Max Obs:                            2011.0                                           \n",
       "                                                                                     \n",
       "                                       Parameter Estimates                                        \n",
       "==================================================================================================\n",
       "                                Parameter  Std. Err.     T-stat    P-value    Lower CI    Upper CI\n",
       "--------------------------------------------------------------------------------------------------\n",
       "Intercept                          1.5449     0.0195     79.086     0.0000      1.5066      1.5832\n",
       "sex_ratio                         -0.0077  7.597e-05    -101.21     0.0000     -0.0078     -0.0075\n",
       "aging_index                       -0.0004  7.611e-05    -4.6323     0.0000     -0.0005     -0.0002\n",
       "Median_age                        -0.0275     0.0006    -43.209     0.0000     -0.0288     -0.0263\n",
       "state_Freq_Encoded                -0.0007  2.601e-05    -25.245     0.0000     -0.0007     -0.0006\n",
       "np.log(optimal_prices_RF):post    -0.0004     0.0004    -0.8710     0.3838     -0.0012      0.0005\n",
       "==================================================================================================\n",
       "\n",
       "F-test for Poolability: 399.45\n",
       "P-value: 0.0000\n",
       "Distribution: F(674,13204)\n",
       "\n",
       "Included effects: Entity, Time\n",
       "PanelEffectsResults, id: 0x2072c72faf0"
      ]
     },
     "execution_count": 59,
     "metadata": {},
     "output_type": "execute_result"
    }
   ],
   "source": [
    "model_cluster2"
   ]
  },
  {
   "cell_type": "markdown",
   "id": "aa4dc209",
   "metadata": {},
   "source": [
    "### TWFE with price as treatment variable,demographic control variables and price also control variable"
   ]
  },
  {
   "cell_type": "code",
   "execution_count": 84,
   "id": "6ae39947",
   "metadata": {},
   "outputs": [],
   "source": [
    "model_cluster3 = PanelOLS.from_formula(\n",
    "  formula=(\"log(est_purchase_proba) ~ 1+np.log(optimal_prices_RF)+np.log(optimal_prices_RF):post +sex_ratio + Median_age+state_Freq_Encoded + EntityEffects+TimeEffects\"\n",
    "           ),\n",
    "  data=causal_df_neg_PED_products.set_index(['product_id', 'month']),\n",
    ").fit()"
   ]
  },
  {
   "cell_type": "code",
   "execution_count": 85,
   "id": "053b61f0",
   "metadata": {},
   "outputs": [
    {
     "data": {
      "text/html": [
       "<table class=\"simpletable\">\n",
       "<caption>PanelOLS Estimation Summary</caption>\n",
       "<tr>\n",
       "  <th>Dep. Variable:</th>    <td>log(est_purchase_proba)</td> <th>  R-squared:         </th>     <td>0.7471</td>  \n",
       "</tr>\n",
       "<tr>\n",
       "  <th>Estimator:</th>               <td>PanelOLS</td>         <th>  R-squared (Between):</th>    <td>-0.1323</td> \n",
       "</tr>\n",
       "<tr>\n",
       "  <th>No. Observations:</th>          <td>13884</td>          <th>  R-squared (Within):</th>     <td>0.7461</td>  \n",
       "</tr>\n",
       "<tr>\n",
       "  <th>Date:</th>                <td>Sat, Mar 09 2024</td>     <th>  R-squared (Overall):</th>    <td>0.3119</td>  \n",
       "</tr>\n",
       "<tr>\n",
       "  <th>Time:</th>                    <td>09:37:44</td>         <th>  Log-likelihood     </th>    <td>2.383e+04</td>\n",
       "</tr>\n",
       "<tr>\n",
       "  <th>Cov. Estimator:</th>         <td>Unadjusted</td>        <th>                     </th>        <td></td>     \n",
       "</tr>\n",
       "<tr>\n",
       "  <th></th>                             <td></td>             <th>  F-statistic:       </th>     <td>7801.0</td>  \n",
       "</tr>\n",
       "<tr>\n",
       "  <th>Entities:</th>                   <td>664</td>           <th>  P-value            </th>     <td>0.0000</td>  \n",
       "</tr>\n",
       "<tr>\n",
       "  <th>Avg Obs:</th>                  <td>20.910</td>          <th>  Distribution:      </th>   <td>F(5,13204)</td>\n",
       "</tr>\n",
       "<tr>\n",
       "  <th>Min Obs:</th>                  <td>1.0000</td>          <th>                     </th>        <td></td>     \n",
       "</tr>\n",
       "<tr>\n",
       "  <th>Max Obs:</th>                  <td>955.00</td>          <th>  F-statistic (robust):</th>   <td>7801.0</td>  \n",
       "</tr>\n",
       "<tr>\n",
       "  <th></th>                             <td></td>             <th>  P-value            </th>     <td>0.0000</td>  \n",
       "</tr>\n",
       "<tr>\n",
       "  <th>Time periods:</th>               <td>12</td>            <th>  Distribution:      </th>   <td>F(5,13204)</td>\n",
       "</tr>\n",
       "<tr>\n",
       "  <th>Avg Obs:</th>                  <td>1157.0</td>          <th>                     </th>        <td></td>     \n",
       "</tr>\n",
       "<tr>\n",
       "  <th>Min Obs:</th>                  <td>660.00</td>          <th>                     </th>        <td></td>     \n",
       "</tr>\n",
       "<tr>\n",
       "  <th>Max Obs:</th>                  <td>2011.0</td>          <th>                     </th>        <td></td>     \n",
       "</tr>\n",
       "<tr>\n",
       "  <th></th>                             <td></td>             <th>                     </th>        <td></td>     \n",
       "</tr>\n",
       "</table>\n",
       "<table class=\"simpletable\">\n",
       "<caption>Parameter Estimates</caption>\n",
       "<tr>\n",
       "                 <td></td>                <th>Parameter</th> <th>Std. Err.</th> <th>T-stat</th>  <th>P-value</th> <th>Lower CI</th> <th>Upper CI</th>\n",
       "</tr>\n",
       "<tr>\n",
       "  <th>Intercept</th>                       <td>1.8044</td>    <td>0.0196</td>   <td>92.230</td>  <td>0.0000</td>   <td>1.7660</td>   <td>1.8427</td> \n",
       "</tr>\n",
       "<tr>\n",
       "  <th>np.log(optimal_prices_RF)</th>       <td>-0.0406</td>   <td>0.0036</td>   <td>-11.373</td> <td>0.0000</td>   <td>-0.0476</td>  <td>-0.0336</td>\n",
       "</tr>\n",
       "<tr>\n",
       "  <th>sex_ratio</th>                       <td>-0.0077</td>  <td>7.546e-05</td> <td>-101.54</td> <td>0.0000</td>   <td>-0.0078</td>  <td>-0.0075</td>\n",
       "</tr>\n",
       "<tr>\n",
       "  <th>Median_age</th>                      <td>-0.0303</td>   <td>0.0002</td>   <td>-144.29</td> <td>0.0000</td>   <td>-0.0308</td>  <td>-0.0299</td>\n",
       "</tr>\n",
       "<tr>\n",
       "  <th>state_Freq_Encoded</th>              <td>-0.0006</td>  <td>2.582e-05</td> <td>-25.011</td> <td>0.0000</td>   <td>-0.0007</td>  <td>-0.0006</td>\n",
       "</tr>\n",
       "<tr>\n",
       "  <th>np.log(optimal_prices_RF):post</th>  <td>-0.0032</td>   <td>0.0005</td>   <td>-6.5667</td> <td>0.0000</td>   <td>-0.0041</td>  <td>-0.0022</td>\n",
       "</tr>\n",
       "</table><br/><br/>F-test for Poolability: 193.14<br/>P-value: 0.0000<br/>Distribution: F(674,13204)<br/><br/>Included effects: Entity, Time<br/>id: 0x2072bbaef40"
      ],
      "text/plain": [
       "                             PanelOLS Estimation Summary                             \n",
       "=====================================================================================\n",
       "Dep. Variable:     log(est_purchase_proba)   R-squared:                        0.7471\n",
       "Estimator:                        PanelOLS   R-squared (Between):             -0.1323\n",
       "No. Observations:                    13884   R-squared (Within):               0.7461\n",
       "Date:                     Sat, Mar 09 2024   R-squared (Overall):              0.3119\n",
       "Time:                             09:37:44   Log-likelihood                 2.383e+04\n",
       "Cov. Estimator:                 Unadjusted                                           \n",
       "                                             F-statistic:                      7801.0\n",
       "Entities:                              664   P-value                           0.0000\n",
       "Avg Obs:                            20.910   Distribution:                 F(5,13204)\n",
       "Min Obs:                            1.0000                                           \n",
       "Max Obs:                            955.00   F-statistic (robust):             7801.0\n",
       "                                             P-value                           0.0000\n",
       "Time periods:                           12   Distribution:                 F(5,13204)\n",
       "Avg Obs:                            1157.0                                           \n",
       "Min Obs:                            660.00                                           \n",
       "Max Obs:                            2011.0                                           \n",
       "                                                                                     \n",
       "                                       Parameter Estimates                                        \n",
       "==================================================================================================\n",
       "                                Parameter  Std. Err.     T-stat    P-value    Lower CI    Upper CI\n",
       "--------------------------------------------------------------------------------------------------\n",
       "Intercept                          1.8044     0.0196     92.230     0.0000      1.7660      1.8427\n",
       "np.log(optimal_prices_RF)         -0.0406     0.0036    -11.373     0.0000     -0.0476     -0.0336\n",
       "sex_ratio                         -0.0077  7.546e-05    -101.54     0.0000     -0.0078     -0.0075\n",
       "Median_age                        -0.0303     0.0002    -144.29     0.0000     -0.0308     -0.0299\n",
       "state_Freq_Encoded                -0.0006  2.582e-05    -25.011     0.0000     -0.0007     -0.0006\n",
       "np.log(optimal_prices_RF):post    -0.0032     0.0005    -6.5667     0.0000     -0.0041     -0.0022\n",
       "==================================================================================================\n",
       "\n",
       "F-test for Poolability: 193.14\n",
       "P-value: 0.0000\n",
       "Distribution: F(674,13204)\n",
       "\n",
       "Included effects: Entity, Time\n",
       "PanelEffectsResults, id: 0x2072bbaef40"
      ]
     },
     "execution_count": 85,
     "metadata": {},
     "output_type": "execute_result"
    }
   ],
   "source": [
    "model_cluster3"
   ]
  },
  {
   "cell_type": "markdown",
   "id": "24d0fd2c",
   "metadata": {},
   "source": [
    "## TWFE inelastic products"
   ]
  },
  {
   "cell_type": "markdown",
   "id": "08eba13f",
   "metadata": {},
   "source": [
    "### TWFE with price as treatment variable,and no control variables"
   ]
  },
  {
   "cell_type": "code",
   "execution_count": 62,
   "id": "4dd47de3",
   "metadata": {},
   "outputs": [],
   "source": [
    "model_cluster = PanelOLS.from_formula(\n",
    "  formula=(\"log(est_purchase_proba) ~ 1+np.log(optimal_prices_RF):post +EntityEffects+TimeEffects\"\n",
    "           ),\n",
    "  data=causal_inelastic_products.set_index(['product_id', 'month']),\n",
    ").fit()"
   ]
  },
  {
   "cell_type": "code",
   "execution_count": 63,
   "id": "a8302403",
   "metadata": {},
   "outputs": [
    {
     "data": {
      "text/html": [
       "<table class=\"simpletable\">\n",
       "<caption>PanelOLS Estimation Summary</caption>\n",
       "<tr>\n",
       "  <th>Dep. Variable:</th>    <td>log(est_purchase_proba)</td> <th>  R-squared:         </th>     <td>0.0021</td>  \n",
       "</tr>\n",
       "<tr>\n",
       "  <th>Estimator:</th>               <td>PanelOLS</td>         <th>  R-squared (Between):</th>    <td>0.0112</td>  \n",
       "</tr>\n",
       "<tr>\n",
       "  <th>No. Observations:</th>          <td>74145</td>          <th>  R-squared (Within):</th>     <td>0.0025</td>  \n",
       "</tr>\n",
       "<tr>\n",
       "  <th>Date:</th>                <td>Sat, Mar 09 2024</td>     <th>  R-squared (Overall):</th>    <td>0.0140</td>  \n",
       "</tr>\n",
       "<tr>\n",
       "  <th>Time:</th>                    <td>09:15:39</td>         <th>  Log-likelihood     </th>    <td>6.644e+04</td>\n",
       "</tr>\n",
       "<tr>\n",
       "  <th>Cov. Estimator:</th>         <td>Unadjusted</td>        <th>                     </th>        <td></td>     \n",
       "</tr>\n",
       "<tr>\n",
       "  <th></th>                             <td></td>             <th>  F-statistic:       </th>     <td>101.71</td>  \n",
       "</tr>\n",
       "<tr>\n",
       "  <th>Entities:</th>                  <td>25650</td>          <th>  P-value            </th>     <td>0.0000</td>  \n",
       "</tr>\n",
       "<tr>\n",
       "  <th>Avg Obs:</th>                  <td>2.8906</td>          <th>  Distribution:      </th>   <td>F(1,48483)</td>\n",
       "</tr>\n",
       "<tr>\n",
       "  <th>Min Obs:</th>                  <td>1.0000</td>          <th>                     </th>        <td></td>     \n",
       "</tr>\n",
       "<tr>\n",
       "  <th>Max Obs:</th>                  <td>560.00</td>          <th>  F-statistic (robust):</th>   <td>101.71</td>  \n",
       "</tr>\n",
       "<tr>\n",
       "  <th></th>                             <td></td>             <th>  P-value            </th>     <td>0.0000</td>  \n",
       "</tr>\n",
       "<tr>\n",
       "  <th>Time periods:</th>               <td>12</td>            <th>  Distribution:      </th>   <td>F(1,48483)</td>\n",
       "</tr>\n",
       "<tr>\n",
       "  <th>Avg Obs:</th>                  <td>6178.8</td>          <th>                     </th>        <td></td>     \n",
       "</tr>\n",
       "<tr>\n",
       "  <th>Min Obs:</th>                  <td>3187.0</td>          <th>                     </th>        <td></td>     \n",
       "</tr>\n",
       "<tr>\n",
       "  <th>Max Obs:</th>                  <td>8305.0</td>          <th>                     </th>        <td></td>     \n",
       "</tr>\n",
       "<tr>\n",
       "  <th></th>                             <td></td>             <th>                     </th>        <td></td>     \n",
       "</tr>\n",
       "</table>\n",
       "<table class=\"simpletable\">\n",
       "<caption>Parameter Estimates</caption>\n",
       "<tr>\n",
       "                 <td></td>                <th>Parameter</th> <th>Std. Err.</th> <th>T-stat</th>  <th>P-value</th> <th>Lower CI</th> <th>Upper CI</th>\n",
       "</tr>\n",
       "<tr>\n",
       "  <th>Intercept</th>                       <td>-0.6742</td>   <td>0.0009</td>   <td>-726.31</td> <td>0.0000</td>   <td>-0.6760</td>  <td>-0.6723</td>\n",
       "</tr>\n",
       "<tr>\n",
       "  <th>np.log(optimal_prices_RF):post</th>  <td>-0.0050</td>   <td>0.0005</td>   <td>-10.085</td> <td>0.0000</td>   <td>-0.0060</td>  <td>-0.0040</td>\n",
       "</tr>\n",
       "</table><br/><br/>F-test for Poolability: 5.9156<br/>P-value: 0.0000<br/>Distribution: F(25660,48483)<br/><br/>Included effects: Entity, Time<br/>id: 0x20724cb53a0"
      ],
      "text/plain": [
       "                             PanelOLS Estimation Summary                             \n",
       "=====================================================================================\n",
       "Dep. Variable:     log(est_purchase_proba)   R-squared:                        0.0021\n",
       "Estimator:                        PanelOLS   R-squared (Between):              0.0112\n",
       "No. Observations:                    74145   R-squared (Within):               0.0025\n",
       "Date:                     Sat, Mar 09 2024   R-squared (Overall):              0.0140\n",
       "Time:                             09:15:39   Log-likelihood                 6.644e+04\n",
       "Cov. Estimator:                 Unadjusted                                           \n",
       "                                             F-statistic:                      101.71\n",
       "Entities:                            25650   P-value                           0.0000\n",
       "Avg Obs:                            2.8906   Distribution:                 F(1,48483)\n",
       "Min Obs:                            1.0000                                           \n",
       "Max Obs:                            560.00   F-statistic (robust):             101.71\n",
       "                                             P-value                           0.0000\n",
       "Time periods:                           12   Distribution:                 F(1,48483)\n",
       "Avg Obs:                            6178.8                                           \n",
       "Min Obs:                            3187.0                                           \n",
       "Max Obs:                            8305.0                                           \n",
       "                                                                                     \n",
       "                                       Parameter Estimates                                        \n",
       "==================================================================================================\n",
       "                                Parameter  Std. Err.     T-stat    P-value    Lower CI    Upper CI\n",
       "--------------------------------------------------------------------------------------------------\n",
       "Intercept                         -0.6742     0.0009    -726.31     0.0000     -0.6760     -0.6723\n",
       "np.log(optimal_prices_RF):post    -0.0050     0.0005    -10.085     0.0000     -0.0060     -0.0040\n",
       "==================================================================================================\n",
       "\n",
       "F-test for Poolability: 5.9156\n",
       "P-value: 0.0000\n",
       "Distribution: F(25660,48483)\n",
       "\n",
       "Included effects: Entity, Time\n",
       "PanelEffectsResults, id: 0x20724cb53a0"
      ]
     },
     "execution_count": 63,
     "metadata": {},
     "output_type": "execute_result"
    }
   ],
   "source": [
    "model_cluster"
   ]
  },
  {
   "cell_type": "markdown",
   "id": "50cd85c1",
   "metadata": {},
   "source": [
    "### TWFE with price as treatment variable and demographic control variables"
   ]
  },
  {
   "cell_type": "code",
   "execution_count": 64,
   "id": "81cbc163",
   "metadata": {},
   "outputs": [],
   "source": [
    "model_cluster2 = PanelOLS.from_formula(\n",
    "  formula=(\"log(est_purchase_proba) ~ 1+np.log(optimal_prices_RF):post +sex_ratio+ aging_index + Median_age+state_Freq_Encoded + EntityEffects+TimeEffects\"\n",
    "           ),\n",
    "  data=causal_inelastic_products.set_index(['product_id', 'month']),\n",
    ").fit()"
   ]
  },
  {
   "cell_type": "code",
   "execution_count": 65,
   "id": "abca8b6b",
   "metadata": {},
   "outputs": [
    {
     "data": {
      "text/html": [
       "<table class=\"simpletable\">\n",
       "<caption>PanelOLS Estimation Summary</caption>\n",
       "<tr>\n",
       "  <th>Dep. Variable:</th>    <td>log(est_purchase_proba)</td> <th>  R-squared:         </th>     <td>0.9748</td>  \n",
       "</tr>\n",
       "<tr>\n",
       "  <th>Estimator:</th>               <td>PanelOLS</td>         <th>  R-squared (Between):</th>    <td>0.1833</td>  \n",
       "</tr>\n",
       "<tr>\n",
       "  <th>No. Observations:</th>          <td>74145</td>          <th>  R-squared (Within):</th>     <td>0.9748</td>  \n",
       "</tr>\n",
       "<tr>\n",
       "  <th>Date:</th>                <td>Sat, Mar 09 2024</td>     <th>  R-squared (Overall):</th>    <td>0.3419</td>  \n",
       "</tr>\n",
       "<tr>\n",
       "  <th>Time:</th>                    <td>09:15:43</td>         <th>  Log-likelihood     </th>    <td>2.028e+05</td>\n",
       "</tr>\n",
       "<tr>\n",
       "  <th>Cov. Estimator:</th>         <td>Unadjusted</td>        <th>                     </th>        <td></td>     \n",
       "</tr>\n",
       "<tr>\n",
       "  <th></th>                             <td></td>             <th>  F-statistic:       </th>    <td>3.752e+05</td>\n",
       "</tr>\n",
       "<tr>\n",
       "  <th>Entities:</th>                  <td>25650</td>          <th>  P-value            </th>     <td>0.0000</td>  \n",
       "</tr>\n",
       "<tr>\n",
       "  <th>Avg Obs:</th>                  <td>2.8906</td>          <th>  Distribution:      </th>   <td>F(5,48479)</td>\n",
       "</tr>\n",
       "<tr>\n",
       "  <th>Min Obs:</th>                  <td>1.0000</td>          <th>                     </th>        <td></td>     \n",
       "</tr>\n",
       "<tr>\n",
       "  <th>Max Obs:</th>                  <td>560.00</td>          <th>  F-statistic (robust):</th>  <td>3.752e+05</td>\n",
       "</tr>\n",
       "<tr>\n",
       "  <th></th>                             <td></td>             <th>  P-value            </th>     <td>0.0000</td>  \n",
       "</tr>\n",
       "<tr>\n",
       "  <th>Time periods:</th>               <td>12</td>            <th>  Distribution:      </th>   <td>F(5,48479)</td>\n",
       "</tr>\n",
       "<tr>\n",
       "  <th>Avg Obs:</th>                  <td>6178.8</td>          <th>                     </th>        <td></td>     \n",
       "</tr>\n",
       "<tr>\n",
       "  <th>Min Obs:</th>                  <td>3187.0</td>          <th>                     </th>        <td></td>     \n",
       "</tr>\n",
       "<tr>\n",
       "  <th>Max Obs:</th>                  <td>8305.0</td>          <th>                     </th>        <td></td>     \n",
       "</tr>\n",
       "<tr>\n",
       "  <th></th>                             <td></td>             <th>                     </th>        <td></td>     \n",
       "</tr>\n",
       "</table>\n",
       "<table class=\"simpletable\">\n",
       "<caption>Parameter Estimates</caption>\n",
       "<tr>\n",
       "                 <td></td>                <th>Parameter</th> <th>Std. Err.</th> <th>T-stat</th>  <th>P-value</th> <th>Lower CI</th> <th>Upper CI</th>\n",
       "</tr>\n",
       "<tr>\n",
       "  <th>Intercept</th>                       <td>-0.8508</td>   <td>0.0046</td>   <td>-186.50</td> <td>0.0000</td>   <td>-0.8597</td>  <td>-0.8419</td>\n",
       "</tr>\n",
       "<tr>\n",
       "  <th>sex_ratio</th>                       <td>0.0086</td>   <td>1.756e-05</td> <td>491.92</td>  <td>0.0000</td>   <td>0.0086</td>   <td>0.0087</td> \n",
       "</tr>\n",
       "<tr>\n",
       "  <th>aging_index</th>                     <td>0.0002</td>   <td>1.781e-05</td> <td>11.251</td>  <td>0.0000</td>   <td>0.0002</td>   <td>0.0002</td> \n",
       "</tr>\n",
       "<tr>\n",
       "  <th>Median_age</th>                      <td>-0.0145</td>   <td>0.0001</td>   <td>-97.039</td> <td>0.0000</td>   <td>-0.0148</td>  <td>-0.0142</td>\n",
       "</tr>\n",
       "<tr>\n",
       "  <th>state_Freq_Encoded</th>              <td>-0.0068</td>  <td>5.851e-06</td> <td>-1164.2</td> <td>0.0000</td>   <td>-0.0068</td>  <td>-0.0068</td>\n",
       "</tr>\n",
       "<tr>\n",
       "  <th>np.log(optimal_prices_RF):post</th>  <td>0.0002</td>   <td>7.869e-05</td> <td>2.0583</td>  <td>0.0396</td>  <td>7.73e-06</td>  <td>0.0003</td> \n",
       "</tr>\n",
       "</table><br/><br/>F-test for Poolability: 202.16<br/>P-value: 0.0000<br/>Distribution: F(25660,48479)<br/><br/>Included effects: Entity, Time<br/>id: 0x2072d971250"
      ],
      "text/plain": [
       "                             PanelOLS Estimation Summary                             \n",
       "=====================================================================================\n",
       "Dep. Variable:     log(est_purchase_proba)   R-squared:                        0.9748\n",
       "Estimator:                        PanelOLS   R-squared (Between):              0.1833\n",
       "No. Observations:                    74145   R-squared (Within):               0.9748\n",
       "Date:                     Sat, Mar 09 2024   R-squared (Overall):              0.3419\n",
       "Time:                             09:15:43   Log-likelihood                 2.028e+05\n",
       "Cov. Estimator:                 Unadjusted                                           \n",
       "                                             F-statistic:                   3.752e+05\n",
       "Entities:                            25650   P-value                           0.0000\n",
       "Avg Obs:                            2.8906   Distribution:                 F(5,48479)\n",
       "Min Obs:                            1.0000                                           \n",
       "Max Obs:                            560.00   F-statistic (robust):          3.752e+05\n",
       "                                             P-value                           0.0000\n",
       "Time periods:                           12   Distribution:                 F(5,48479)\n",
       "Avg Obs:                            6178.8                                           \n",
       "Min Obs:                            3187.0                                           \n",
       "Max Obs:                            8305.0                                           \n",
       "                                                                                     \n",
       "                                       Parameter Estimates                                        \n",
       "==================================================================================================\n",
       "                                Parameter  Std. Err.     T-stat    P-value    Lower CI    Upper CI\n",
       "--------------------------------------------------------------------------------------------------\n",
       "Intercept                         -0.8508     0.0046    -186.50     0.0000     -0.8597     -0.8419\n",
       "sex_ratio                          0.0086  1.756e-05     491.92     0.0000      0.0086      0.0087\n",
       "aging_index                        0.0002  1.781e-05     11.251     0.0000      0.0002      0.0002\n",
       "Median_age                        -0.0145     0.0001    -97.039     0.0000     -0.0148     -0.0142\n",
       "state_Freq_Encoded                -0.0068  5.851e-06    -1164.2     0.0000     -0.0068     -0.0068\n",
       "np.log(optimal_prices_RF):post     0.0002  7.869e-05     2.0583     0.0396    7.73e-06      0.0003\n",
       "==================================================================================================\n",
       "\n",
       "F-test for Poolability: 202.16\n",
       "P-value: 0.0000\n",
       "Distribution: F(25660,48479)\n",
       "\n",
       "Included effects: Entity, Time\n",
       "PanelEffectsResults, id: 0x2072d971250"
      ]
     },
     "execution_count": 65,
     "metadata": {},
     "output_type": "execute_result"
    }
   ],
   "source": [
    "model_cluster2"
   ]
  },
  {
   "cell_type": "markdown",
   "id": "92961de9",
   "metadata": {},
   "source": [
    "### TWFE with price as treatment variable,demographic control variables and price also control variable"
   ]
  },
  {
   "cell_type": "code",
   "execution_count": 86,
   "id": "0f38767d",
   "metadata": {},
   "outputs": [],
   "source": [
    "model_cluster3 = PanelOLS.from_formula(\n",
    "  formula=(\"log(est_purchase_proba) ~ 1+np.log(optimal_prices_RF)+np.log(optimal_prices_RF):post +sex_ratio + Median_age+state_Freq_Encoded + EntityEffects+TimeEffects\"\n",
    "           ),\n",
    "  data=causal_inelastic_products.set_index(['product_id', 'month']),\n",
    ").fit()"
   ]
  },
  {
   "cell_type": "code",
   "execution_count": 87,
   "id": "5739e3c0",
   "metadata": {},
   "outputs": [
    {
     "data": {
      "text/html": [
       "<table class=\"simpletable\">\n",
       "<caption>PanelOLS Estimation Summary</caption>\n",
       "<tr>\n",
       "  <th>Dep. Variable:</th>    <td>log(est_purchase_proba)</td> <th>  R-squared:         </th>     <td>0.9755</td>  \n",
       "</tr>\n",
       "<tr>\n",
       "  <th>Estimator:</th>               <td>PanelOLS</td>         <th>  R-squared (Between):</th>    <td>0.2737</td>  \n",
       "</tr>\n",
       "<tr>\n",
       "  <th>No. Observations:</th>          <td>74145</td>          <th>  R-squared (Within):</th>     <td>0.9754</td>  \n",
       "</tr>\n",
       "<tr>\n",
       "  <th>Date:</th>                <td>Sat, Mar 09 2024</td>     <th>  R-squared (Overall):</th>    <td>0.4244</td>  \n",
       "</tr>\n",
       "<tr>\n",
       "  <th>Time:</th>                    <td>09:38:41</td>         <th>  Log-likelihood     </th>    <td>2.038e+05</td>\n",
       "</tr>\n",
       "<tr>\n",
       "  <th>Cov. Estimator:</th>         <td>Unadjusted</td>        <th>                     </th>        <td></td>     \n",
       "</tr>\n",
       "<tr>\n",
       "  <th></th>                             <td></td>             <th>  F-statistic:       </th>    <td>3.856e+05</td>\n",
       "</tr>\n",
       "<tr>\n",
       "  <th>Entities:</th>                  <td>25650</td>          <th>  P-value            </th>     <td>0.0000</td>  \n",
       "</tr>\n",
       "<tr>\n",
       "  <th>Avg Obs:</th>                  <td>2.8906</td>          <th>  Distribution:      </th>   <td>F(5,48479)</td>\n",
       "</tr>\n",
       "<tr>\n",
       "  <th>Min Obs:</th>                  <td>1.0000</td>          <th>                     </th>        <td></td>     \n",
       "</tr>\n",
       "<tr>\n",
       "  <th>Max Obs:</th>                  <td>560.00</td>          <th>  F-statistic (robust):</th>  <td>3.856e+05</td>\n",
       "</tr>\n",
       "<tr>\n",
       "  <th></th>                             <td></td>             <th>  P-value            </th>     <td>0.0000</td>  \n",
       "</tr>\n",
       "<tr>\n",
       "  <th>Time periods:</th>               <td>12</td>            <th>  Distribution:      </th>   <td>F(5,48479)</td>\n",
       "</tr>\n",
       "<tr>\n",
       "  <th>Avg Obs:</th>                  <td>6178.8</td>          <th>                     </th>        <td></td>     \n",
       "</tr>\n",
       "<tr>\n",
       "  <th>Min Obs:</th>                  <td>3187.0</td>          <th>                     </th>        <td></td>     \n",
       "</tr>\n",
       "<tr>\n",
       "  <th>Max Obs:</th>                  <td>8305.0</td>          <th>                     </th>        <td></td>     \n",
       "</tr>\n",
       "<tr>\n",
       "  <th></th>                             <td></td>             <th>                     </th>        <td></td>     \n",
       "</tr>\n",
       "</table>\n",
       "<table class=\"simpletable\">\n",
       "<caption>Parameter Estimates</caption>\n",
       "<tr>\n",
       "                 <td></td>                <th>Parameter</th> <th>Std. Err.</th> <th>T-stat</th>  <th>P-value</th> <th>Lower CI</th> <th>Upper CI</th>\n",
       "</tr>\n",
       "<tr>\n",
       "  <th>Intercept</th>                       <td>-0.8127</td>   <td>0.0033</td>   <td>-248.29</td> <td>0.0000</td>   <td>-0.8191</td>  <td>-0.8063</td>\n",
       "</tr>\n",
       "<tr>\n",
       "  <th>np.log(optimal_prices_RF)</th>       <td>-0.0192</td>   <td>0.0005</td>   <td>-37.831</td> <td>0.0000</td>   <td>-0.0202</td>  <td>-0.0182</td>\n",
       "</tr>\n",
       "<tr>\n",
       "  <th>sex_ratio</th>                       <td>0.0086</td>   <td>1.728e-05</td> <td>499.50</td>  <td>0.0000</td>   <td>0.0086</td>   <td>0.0087</td> \n",
       "</tr>\n",
       "<tr>\n",
       "  <th>Median_age</th>                      <td>-0.0129</td>  <td>4.693e-05</td> <td>-274.57</td> <td>0.0000</td>   <td>-0.0130</td>  <td>-0.0128</td>\n",
       "</tr>\n",
       "<tr>\n",
       "  <th>state_Freq_Encoded</th>              <td>-0.0068</td>  <td>5.756e-06</td> <td>-1184.7</td> <td>0.0000</td>   <td>-0.0068</td>  <td>-0.0068</td>\n",
       "</tr>\n",
       "<tr>\n",
       "  <th>np.log(optimal_prices_RF):post</th> <td>8.383e-06</td> <td>7.776e-05</td> <td>0.1078</td>  <td>0.9142</td>   <td>-0.0001</td>  <td>0.0002</td> \n",
       "</tr>\n",
       "</table><br/><br/>F-test for Poolability: 128.99<br/>P-value: 0.0000<br/>Distribution: F(25660,48479)<br/><br/>Included effects: Entity, Time<br/>id: 0x20724d529a0"
      ],
      "text/plain": [
       "                             PanelOLS Estimation Summary                             \n",
       "=====================================================================================\n",
       "Dep. Variable:     log(est_purchase_proba)   R-squared:                        0.9755\n",
       "Estimator:                        PanelOLS   R-squared (Between):              0.2737\n",
       "No. Observations:                    74145   R-squared (Within):               0.9754\n",
       "Date:                     Sat, Mar 09 2024   R-squared (Overall):              0.4244\n",
       "Time:                             09:38:41   Log-likelihood                 2.038e+05\n",
       "Cov. Estimator:                 Unadjusted                                           \n",
       "                                             F-statistic:                   3.856e+05\n",
       "Entities:                            25650   P-value                           0.0000\n",
       "Avg Obs:                            2.8906   Distribution:                 F(5,48479)\n",
       "Min Obs:                            1.0000                                           \n",
       "Max Obs:                            560.00   F-statistic (robust):          3.856e+05\n",
       "                                             P-value                           0.0000\n",
       "Time periods:                           12   Distribution:                 F(5,48479)\n",
       "Avg Obs:                            6178.8                                           \n",
       "Min Obs:                            3187.0                                           \n",
       "Max Obs:                            8305.0                                           \n",
       "                                                                                     \n",
       "                                       Parameter Estimates                                        \n",
       "==================================================================================================\n",
       "                                Parameter  Std. Err.     T-stat    P-value    Lower CI    Upper CI\n",
       "--------------------------------------------------------------------------------------------------\n",
       "Intercept                         -0.8127     0.0033    -248.29     0.0000     -0.8191     -0.8063\n",
       "np.log(optimal_prices_RF)         -0.0192     0.0005    -37.831     0.0000     -0.0202     -0.0182\n",
       "sex_ratio                          0.0086  1.728e-05     499.50     0.0000      0.0086      0.0087\n",
       "Median_age                        -0.0129  4.693e-05    -274.57     0.0000     -0.0130     -0.0128\n",
       "state_Freq_Encoded                -0.0068  5.756e-06    -1184.7     0.0000     -0.0068     -0.0068\n",
       "np.log(optimal_prices_RF):post  8.383e-06  7.776e-05     0.1078     0.9142     -0.0001      0.0002\n",
       "==================================================================================================\n",
       "\n",
       "F-test for Poolability: 128.99\n",
       "P-value: 0.0000\n",
       "Distribution: F(25660,48479)\n",
       "\n",
       "Included effects: Entity, Time\n",
       "PanelEffectsResults, id: 0x20724d529a0"
      ]
     },
     "execution_count": 87,
     "metadata": {},
     "output_type": "execute_result"
    }
   ],
   "source": [
    "model_cluster3"
   ]
  },
  {
   "cell_type": "code",
   "execution_count": null,
   "id": "3291588b",
   "metadata": {},
   "outputs": [],
   "source": []
  }
 ],
 "metadata": {
  "kernelspec": {
   "display_name": "Python 3 (ipykernel)",
   "language": "python",
   "name": "python3"
  },
  "language_info": {
   "codemirror_mode": {
    "name": "ipython",
    "version": 3
   },
   "file_extension": ".py",
   "mimetype": "text/x-python",
   "name": "python",
   "nbconvert_exporter": "python",
   "pygments_lexer": "ipython3",
   "version": "3.9.12"
  },
  "toc": {
   "base_numbering": 1,
   "nav_menu": {},
   "number_sections": true,
   "sideBar": true,
   "skip_h1_title": false,
   "title_cell": "Table of Contents",
   "title_sidebar": "Contents",
   "toc_cell": false,
   "toc_position": {
    "height": "calc(100% - 180px)",
    "left": "10px",
    "top": "150px",
    "width": "559.844px"
   },
   "toc_section_display": true,
   "toc_window_display": true
  }
 },
 "nbformat": 4,
 "nbformat_minor": 5
}
